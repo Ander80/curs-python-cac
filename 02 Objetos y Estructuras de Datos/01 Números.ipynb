{
 "cells": [
  {
   "cell_type": "markdown",
   "metadata": {},
   "source": [
    "# Números en Python\n",
    "\n",
    "\n",
    "En esta lección aprenderemos a declarar y usar datos del tipo numérico, concretamente exploraremos los siguientes puntos:\n",
    "\n",
    "1. Tipos de números en Python,\n",
    "2. Aritmética básica,\n",
    "3. Asignación de objetos numéricos en Python.\n",
    "\n",
    "\n",
    "## Tipos de números en Python\n",
    "\n",
    "En Python existen varios tipos de números, por ahora nos concentraremos en los dos más importantes, enteros y números de punto flotante.\n",
    "\n",
    "Los enteros, positivos o negativos, son exactamente eso números enteros tales como 2 o -2.\n",
    "\n",
    "Los números de punto flotante, positivos o negativos, son aquellos que contienen un punto decimal, algunos ejemplos serían el 2.0 o -3.1. Cabe mencionar que aquellos que toman ventaja de la notación exponencial, como 3E2 (3 multiplicado por 10 al cuadrado) son interpretados por Python como número de punto flotante.\n",
    "\n",
    "El siguiente cuadro muestra de modo estructurado lo que acabamos de comentar:\n",
    "\n",
    "<table>\n",
    "<tr>\n",
    "    <th>Ejemplos</th> \n",
    "    <th>Tipo de Número</th>\n",
    "</tr>\n",
    "\n",
    "<tr>\n",
    "    <td>1,2,-5,1000</td>\n",
    "    <td>Enteros</td> \n",
    "</tr>\n",
    "\n",
    "<tr>\n",
    "    <td>1.2,-0.5,2e2,3E2</td> \n",
    "    <td>Punto Flotante</td> \n",
    "</tr>\n",
    " </table>\n",
    " \n",
    "\n",
    "## Aritmética Básica\n",
    "\n",
    "El interprete de Python, en su forma más simple, puede ser usado como una calculadora. Es decir, podemos escribir una expresión matemática y el interprete de Python nos regresará el resultado de la operación. \n",
    "\n",
    "Los operadores son:\n",
    "\n",
    "<table>\n",
    "<tr>\n",
    "    <th>Operador</th> \n",
    "    <th>Símbolo en Python</th>\n",
    "</tr>\n",
    "\n",
    "<tr>\n",
    "    <td>Suma</td>\n",
    "    <td>+</td> \n",
    "</tr>\n",
    "<tr>\n",
    "    <td>Resta</td>\n",
    "    <td>-</td> \n",
    "</tr>\n",
    "<tr>\n",
    "    <td>Multiplicación</td>\n",
    "    <td>*</td> \n",
    "</tr>\n",
    "<tr>\n",
    "    <td>División</td>\n",
    "    <td>/</td> \n",
    "</tr>\n",
    "<tr>\n",
    "    <td>División Entera</td>\n",
    "    <td>//</td> \n",
    "</tr>\n",
    "\n",
    "\n",
    " </table>\n"
   ]
  },
  {
   "cell_type": "code",
   "execution_count": 6,
   "metadata": {},
   "outputs": [
    {
     "data": {
      "text/plain": [
       "12"
      ]
     },
     "execution_count": 6,
     "metadata": {},
     "output_type": "execute_result"
    }
   ],
   "source": [
    "# Suma\n",
    "\n",
    "5 + 7"
   ]
  },
  {
   "cell_type": "code",
   "execution_count": 7,
   "metadata": {},
   "outputs": [
    {
     "data": {
      "text/plain": [
       "-2"
      ]
     },
     "execution_count": 7,
     "metadata": {},
     "output_type": "execute_result"
    }
   ],
   "source": [
    "# Resta \n",
    "\n",
    "5-7"
   ]
  },
  {
   "cell_type": "code",
   "execution_count": 8,
   "metadata": {},
   "outputs": [
    {
     "data": {
      "text/plain": [
       "6"
      ]
     },
     "execution_count": 8,
     "metadata": {},
     "output_type": "execute_result"
    }
   ],
   "source": [
    "# Multiplicación \n",
    "\n",
    "2*3"
   ]
  },
  {
   "cell_type": "code",
   "execution_count": 10,
   "metadata": {},
   "outputs": [
    {
     "data": {
      "text/plain": [
       "0.75"
      ]
     },
     "execution_count": 10,
     "metadata": {},
     "output_type": "execute_result"
    }
   ],
   "source": [
    "# División \n",
    "\n",
    "3/4"
   ]
  },
  {
   "cell_type": "code",
   "execution_count": 1,
   "metadata": {},
   "outputs": [
    {
     "data": {
      "text/plain": [
       "3"
      ]
     },
     "execution_count": 1,
     "metadata": {},
     "output_type": "execute_result"
    }
   ],
   "source": [
    "# División Entera \n",
    "\n",
    "10//3"
   ]
  },
  {
   "cell_type": "markdown",
   "metadata": {},
   "source": [
    "Estas cinco operaciones cubrirían la parte más básica de la aritmética, no obstante Python ofrece también el uso de los siguientes operadores:\n",
    "\n",
    "<table>\n",
    "<tr>\n",
    "    <th>Operador</th> \n",
    "    <th>Símbolo en Python</th>\n",
    "</tr>\n",
    "\n",
    "<tr>\n",
    "    <td>Módulo</td>\n",
    "    <td>%</td> \n",
    "</tr>\n",
    "<tr>\n",
    "    <td>Potencia / Raíz</td>\n",
    "    <td>**</td> \n",
    "</tr>   \n",
    "<tr>\n",
    "    <td>Paréntesis</td>\n",
    "    <td>()</td> \n",
    "</tr>\n",
    "    \n",
    "Aunque estos últimos no son propiamente un operador, sí que son últies para asignar un orden arbitrario a las operaciones aritméticas más complejas."
   ]
  },
  {
   "cell_type": "code",
   "execution_count": 15,
   "metadata": {},
   "outputs": [
    {
     "data": {
      "text/plain": [
       "1"
      ]
     },
     "execution_count": 15,
     "metadata": {},
     "output_type": "execute_result"
    }
   ],
   "source": [
    "# Módulo\n",
    "\n",
    "10 % 3"
   ]
  },
  {
   "cell_type": "code",
   "execution_count": 16,
   "metadata": {},
   "outputs": [
    {
     "data": {
      "text/plain": [
       "8"
      ]
     },
     "execution_count": 16,
     "metadata": {},
     "output_type": "execute_result"
    }
   ],
   "source": [
    "# Potencia\n",
    "\n",
    "2**3"
   ]
  },
  {
   "cell_type": "code",
   "execution_count": 18,
   "metadata": {},
   "outputs": [
    {
     "data": {
      "text/plain": [
       "3.0"
      ]
     },
     "execution_count": 18,
     "metadata": {},
     "output_type": "execute_result"
    }
   ],
   "source": [
    "# Raíz\n",
    "\n",
    "9 ** (1/2)"
   ]
  },
  {
   "cell_type": "code",
   "execution_count": 19,
   "metadata": {},
   "outputs": [
    {
     "data": {
      "text/plain": [
       "28"
      ]
     },
     "execution_count": 19,
     "metadata": {},
     "output_type": "execute_result"
    }
   ],
   "source": [
    "# Orden de operaciones\n",
    "\n",
    "2 + 5 * 5 +1"
   ]
  },
  {
   "cell_type": "code",
   "execution_count": 20,
   "metadata": {},
   "outputs": [
    {
     "data": {
      "text/plain": [
       "42"
      ]
     },
     "execution_count": 20,
     "metadata": {},
     "output_type": "execute_result"
    }
   ],
   "source": [
    "(2 + 5) * (5 + 1)"
   ]
  },
  {
   "cell_type": "code",
   "execution_count": 4,
   "metadata": {},
   "outputs": [
    {
     "data": {
      "text/plain": [
       "16"
      ]
     },
     "execution_count": 4,
     "metadata": {},
     "output_type": "execute_result"
    }
   ],
   "source": [
    "2**2*4"
   ]
  },
  {
   "cell_type": "code",
   "execution_count": 5,
   "metadata": {},
   "outputs": [
    {
     "data": {
      "text/plain": [
       "256"
      ]
     },
     "execution_count": 5,
     "metadata": {},
     "output_type": "execute_result"
    }
   ],
   "source": [
    "2**(2*4)"
   ]
  },
  {
   "cell_type": "code",
   "execution_count": 6,
   "metadata": {},
   "outputs": [
    {
     "data": {
      "text/plain": [
       "256"
      ]
     },
     "execution_count": 6,
     "metadata": {},
     "output_type": "execute_result"
    }
   ],
   "source": [
    "2**8"
   ]
  },
  {
   "cell_type": "markdown",
   "metadata": {},
   "source": [
    "## Asignación de variables\n",
    "\n",
    "Ahora que entendemos como usar los números en operaciones aritméticas en Python, tal y como si se tratara de una calculadora, veamos cómo asignar los valores numéricos a variables para almacenarlos en memoria.\n",
    "\n",
    "Para la asignación será necesario usar el símbolo `=`, de modo que a la izquierda de éste aparecerá el nombre de la variable y a la derecha el valor numérico que queremos asignar a la variable."
   ]
  },
  {
   "cell_type": "code",
   "execution_count": 21,
   "metadata": {},
   "outputs": [],
   "source": [
    "x = 5"
   ]
  },
  {
   "cell_type": "markdown",
   "metadata": {},
   "source": [
    "Algo que inmediatamente podemos observar, es que ahora al ejecutar la celda de código no obtenemos respuesta alguna. De este modo sabremos que el valor ha sido asignado a un espacio en memoria.\n",
    "\n",
    "Al igual que con los valores numéricos, podemos realizar operaciones aritméticas con las variables."
   ]
  },
  {
   "cell_type": "code",
   "execution_count": 22,
   "metadata": {},
   "outputs": [
    {
     "data": {
      "text/plain": [
       "10"
      ]
     },
     "execution_count": 22,
     "metadata": {},
     "output_type": "execute_result"
    }
   ],
   "source": [
    "x + x"
   ]
  },
  {
   "cell_type": "markdown",
   "metadata": {},
   "source": [
    "También es posible cambiar el valor actual de la varibale `x`, mediante una reasignación de su valor. "
   ]
  },
  {
   "cell_type": "code",
   "execution_count": 23,
   "metadata": {},
   "outputs": [
    {
     "data": {
      "text/plain": [
       "10"
      ]
     },
     "execution_count": 23,
     "metadata": {},
     "output_type": "execute_result"
    }
   ],
   "source": [
    "x = 10\n",
    "x"
   ]
  },
  {
   "cell_type": "markdown",
   "metadata": {},
   "source": [
    "Existe un importante paréntesis qué hacer, especialmente para aquellos que deseen extender en un futuro su conocimiento y dominio de Python. \n",
    "\n",
    "Los número enteros son inicializados dentro de la memoria RAM al momento en que Python se inicializa como programa. Si queremos saber en qué sitio están siendo almacenados los datos, bastará con usar la función `id()`, misma que nos regresa el número identificador de memoria donde es almacenado un objeto."
   ]
  },
  {
   "cell_type": "code",
   "execution_count": 28,
   "metadata": {},
   "outputs": [
    {
     "data": {
      "text/plain": [
       "140704996730784"
      ]
     },
     "execution_count": 28,
     "metadata": {},
     "output_type": "execute_result"
    }
   ],
   "source": [
    "id(5)"
   ]
  },
  {
   "cell_type": "code",
   "execution_count": 29,
   "metadata": {},
   "outputs": [
    {
     "data": {
      "text/plain": [
       "140704996730784"
      ]
     },
     "execution_count": 29,
     "metadata": {},
     "output_type": "execute_result"
    }
   ],
   "source": [
    "x = 5 \n",
    "id(x)"
   ]
  },
  {
   "cell_type": "code",
   "execution_count": 30,
   "metadata": {},
   "outputs": [
    {
     "data": {
      "text/plain": [
       "140704996730944"
      ]
     },
     "execution_count": 30,
     "metadata": {},
     "output_type": "execute_result"
    }
   ],
   "source": [
    "x = 10\n",
    "id(x)"
   ]
  },
  {
   "cell_type": "markdown",
   "metadata": {},
   "source": [
    "Tal y como se puede apreciar, la variable `x` termina siendo sólo un alias que apunta a una dirección dentro de la memoria RAM de nuestro ordenador."
   ]
  },
  {
   "cell_type": "code",
   "execution_count": 31,
   "metadata": {},
   "outputs": [
    {
     "data": {
      "text/plain": [
       "140704996731264"
      ]
     },
     "execution_count": 31,
     "metadata": {},
     "output_type": "execute_result"
    }
   ],
   "source": [
    "id(20)"
   ]
  },
  {
   "cell_type": "code",
   "execution_count": 32,
   "metadata": {},
   "outputs": [
    {
     "data": {
      "text/plain": [
       "140704996731264"
      ]
     },
     "execution_count": 32,
     "metadata": {},
     "output_type": "execute_result"
    }
   ],
   "source": [
    "x = x + x\n",
    "id(x)"
   ]
  },
  {
   "cell_type": "markdown",
   "metadata": {},
   "source": [
    "Pese a que tenemos casi completa libertad para elegir el nombre de las variables, existen ciertas limitantes, además de una guía de estilo llamada [PEP 8](https://www.python.org/dev/peps/pep-0008/). Dicha guía es un referente en el mundo de desarrollo de software (en el que nos incluimos los científicos de datos), y sirve para facilitar la interpretación del código de otros autores.\n",
    "\n",
    "Las normas básicas son las siguientes:\n",
    "\n",
    "1. Los nombres no pueden iniciar con un caracter numérico.\n",
    "2. El nombre no puede contener espacios, es recomendable usar _ para separar palabras.\n",
    "3. No se pueden utilizar los siguintes símbolos :'\",<>/?|\\()!@#$%^&*~-+\n",
    "4. Se considera una buena práctica usar minúsculas (PEP8).\n",
    "5. Es mejor no usar nombres de sólo un caracter, y menos las letras 'l', 'O' ó 'I'.\n",
    "6. Evitar usar nombre de palabras reservadas en Python, tales como \"list\" o \"str\".\n",
    "\n",
    "Usar nombres explícitos en variables puede ser de gran ayuda, tal y como se muestra en el siguiente ejemplo:"
   ]
  },
  {
   "cell_type": "code",
   "execution_count": 33,
   "metadata": {},
   "outputs": [
    {
     "name": "stdout",
     "output_type": "stream",
     "text": [
      "45.0\n"
     ]
    }
   ],
   "source": [
    "frecuencia = 0.15\n",
    "costo_medio = 300\n",
    "\n",
    "prima_riesgo = frecuencia * costo_medio\n",
    "print(prima_riesgo)"
   ]
  }
 ],
 "metadata": {
  "kernelspec": {
   "display_name": "Python 3",
   "language": "python",
   "name": "python3"
  },
  "language_info": {
   "codemirror_mode": {
    "name": "ipython",
    "version": 3
   },
   "file_extension": ".py",
   "mimetype": "text/x-python",
   "name": "python",
   "nbconvert_exporter": "python",
   "pygments_lexer": "ipython3",
   "version": "3.8.8"
  }
 },
 "nbformat": 4,
 "nbformat_minor": 4
}