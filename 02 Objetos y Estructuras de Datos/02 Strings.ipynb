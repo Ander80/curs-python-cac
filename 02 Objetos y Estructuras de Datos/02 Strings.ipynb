{
 "cells": [
  {
   "cell_type": "markdown",
   "metadata": {
    "pycharm": {
     "name": "#%% md\n"
    }
   },
   "source": [
    "# Strings\n",
    "\n",
    "El tipo de dato string es usado en Python para crear representaciones de cadenas de texto, e.g. nombres. Al decir secuencias, no referimos a que Python mantiene registro ordenado de cada elemento dentro de un string. Por ejemplo, el string \"hola\" es una sucesión de letras en un orden específico, de este modo podremos acceder mediante índices a cada una de las letras de componen la palabra \"hola\".\n",
    "\n",
    "Esta idea es bastante importante en la construcción de muchos algoritmos, por tanto la retomaremos más adelante.\n",
    "\n",
    "En esta lección revisaremos los siguientes temas:\n",
    "\n",
    "    1.) Crear Strings\n",
    "    2.) Imprimir en pantalla Strings\n",
    "    3.) Indexing & Slicing\n",
    "    4.) Propiedades del tipo de dato String\n",
    "    5.) Métodos del tipo de dato String    \n",
    "    6.) Formato para impresión en pantalla\n",
    "    \n",
    "\n",
    "## Crear Strings\n",
    "\n",
    "Para crear un string en Python, sólo es necesario rodear la secuencia de texto con comillas dobles o simples, tal y como se muestra en las celdas siguientes:"
   ]
  },
  {
   "cell_type": "code",
   "execution_count": 1,
   "metadata": {
    "pycharm": {
     "name": "#%%\n"
    }
   },
   "outputs": [
    {
     "data": {
      "text/plain": [
       "'hola'"
      ]
     },
     "execution_count": 1,
     "metadata": {},
     "output_type": "execute_result"
    }
   ],
   "source": [
    "# Palabra\n",
    "\"hola\""
   ]
  },
  {
   "cell_type": "code",
   "execution_count": 2,
   "metadata": {
    "pycharm": {
     "name": "#%%\n"
    }
   },
   "outputs": [
    {
     "data": {
      "text/plain": [
       "'Hola Barcelona'"
      ]
     },
     "execution_count": 2,
     "metadata": {},
     "output_type": "execute_result"
    }
   ],
   "source": [
    "# Frase \n",
    "\n",
    "\"Hola Barcelona\""
   ]
  },
  {
   "cell_type": "markdown",
   "metadata": {
    "pycharm": {
     "name": "#%% md\n"
    }
   },
   "source": [
    "En el caso de que sea necesario conservar las comilla dobles dentro de una frase `\"\"`, podemos hacer uso de comillas simples:"
   ]
  },
  {
   "cell_type": "code",
   "execution_count": 5,
   "metadata": {
    "pycharm": {
     "name": "#%%\n"
    }
   },
   "outputs": [
    {
     "data": {
      "text/plain": [
       "'La \"primavera\" de este año no fue más que una prolongación del invierno.'"
      ]
     },
     "execution_count": 5,
     "metadata": {},
     "output_type": "execute_result"
    }
   ],
   "source": [
    "'La \"primavera\" de este año no fue más que una prolongación del invierno.'"
   ]
  },
  {
   "cell_type": "markdown",
   "metadata": {
    "pycharm": {
     "name": "#%% md\n"
    }
   },
   "source": [
    "## Imprimir en pantalla Strings\n",
    "\n",
    "Cuando usamos un Jupyter Notebook y escribirmos una string como parte del comando al último renglón de la celda, el string se imprime de manera automática. No obtante, el modo correcto y valido en el resto de editores es con la función `print()`"
   ]
  },
  {
   "cell_type": "code",
   "execution_count": 6,
   "metadata": {
    "pycharm": {
     "name": "#%%\n"
    }
   },
   "outputs": [
    {
     "data": {
      "text/plain": [
       "'Hola 2'"
      ]
     },
     "execution_count": 6,
     "metadata": {},
     "output_type": "execute_result"
    }
   ],
   "source": [
    "\"Hola 1\"\n",
    "\"Hola 2\""
   ]
  },
  {
   "cell_type": "code",
   "execution_count": 7,
   "metadata": {
    "pycharm": {
     "name": "#%%\n"
    }
   },
   "outputs": [
    {
     "name": "stdout",
     "output_type": "stream",
     "text": [
      "Hola 1\n",
      "Hola 2\n"
     ]
    }
   ],
   "source": [
    "print(\"Hola 1\")\n",
    "print(\"Hola 2\")"
   ]
  },
  {
   "cell_type": "markdown",
   "metadata": {
    "pycharm": {
     "name": "#%% md\n"
    }
   },
   "source": [
    "Existen también dos caracteres especiales que vale la pena mencionar al momento de generar un formato específico de impresión en Python:\n",
    "\n",
    "1. `\\t`: tab ~ 4 espacios blancos\n",
    "2. `\\n`: nueva línea\n",
    "    \n",
    "    "
   ]
  },
  {
   "cell_type": "code",
   "execution_count": 9,
   "metadata": {
    "pycharm": {
     "name": "#%%\n"
    }
   },
   "outputs": [
    {
     "name": "stdout",
     "output_type": "stream",
     "text": [
      "hola ¿Qué tal?\n",
      "hola \t ¿Qué tal?\n"
     ]
    }
   ],
   "source": [
    "print(\"hola ¿Qué tal?\")\n",
    "print(\"hola \\t ¿Qué tal?\")"
   ]
  },
  {
   "cell_type": "code",
   "execution_count": 10,
   "metadata": {
    "pycharm": {
     "name": "#%%\n"
    }
   },
   "outputs": [
    {
     "name": "stdout",
     "output_type": "stream",
     "text": [
      "Hey! \n",
      " ¿Cómo estás?\n",
      "Hey! \n",
      "¿Cómo estás?\n"
     ]
    }
   ],
   "source": [
    "print(\"Hey! \\n ¿Cómo estás?\")\n",
    "print(\"Hey! \\n¿Cómo estás?\")"
   ]
  },
  {
   "cell_type": "code",
   "execution_count": 12,
   "metadata": {
    "pycharm": {
     "name": "#%%\n"
    }
   },
   "outputs": [
    {
     "name": "stdout",
     "output_type": "stream",
     "text": [
      "Hey\n",
      "\n",
      "\n",
      "¿Cómo estás?\n"
     ]
    }
   ],
   "source": [
    "print(\"Hey\")\n",
    "print(\"\\n\")\n",
    "print(\"¿Cómo estás?\")"
   ]
  },
  {
   "cell_type": "markdown",
   "metadata": {
    "pycharm": {
     "name": "#%% md\n"
    }
   },
   "source": [
    "## Indexing & Slicing\n",
    "\n",
    "\n",
    "### Indexing\n",
    "\n",
    "Al iniciar la lección comentamos que el tipo de dato `String`, también conocidas como cadenas de texto en español, son secuencias ordenadas de caracteres. Al ser secuencias ordenadas necesariamente estamos hablando de que cada caracter dentro de la cadena estará acompañado de un índice numérico, e.g. 0, 1, 2, ...\n",
    "\n",
    "Por tanto, al momento de crear un `String` dentro de Python esteremos creando de manera implícita una secuencia numérica paralela a la cadena de texto. Todo esto representa una ventaja en situaciones varias.\n"
   ]
  },
  {
   "cell_type": "code",
   "execution_count": 13,
   "metadata": {
    "pycharm": {
     "name": "#%%\n"
    }
   },
   "outputs": [],
   "source": [
    "string_ejemplo = \"hola\" "
   ]
  },
  {
   "cell_type": "code",
   "execution_count": 14,
   "metadata": {
    "pycharm": {
     "name": "#%%\n"
    }
   },
   "outputs": [
    {
     "data": {
      "text/plain": [
       "'h'"
      ]
     },
     "execution_count": 14,
     "metadata": {},
     "output_type": "execute_result"
    }
   ],
   "source": [
    "string_ejemplo[0]"
   ]
  },
  {
   "cell_type": "code",
   "execution_count": 15,
   "metadata": {
    "pycharm": {
     "name": "#%%\n"
    }
   },
   "outputs": [
    {
     "data": {
      "text/plain": [
       "'l'"
      ]
     },
     "execution_count": 15,
     "metadata": {},
     "output_type": "execute_result"
    }
   ],
   "source": [
    "string_ejemplo[2]"
   ]
  },
  {
   "cell_type": "code",
   "execution_count": 17,
   "metadata": {
    "pycharm": {
     "name": "#%%\n"
    }
   },
   "outputs": [
    {
     "data": {
      "text/plain": [
       "'a'"
      ]
     },
     "execution_count": 17,
     "metadata": {},
     "output_type": "execute_result"
    }
   ],
   "source": [
    "string_ejemplo[-1]"
   ]
  },
  {
   "cell_type": "code",
   "execution_count": 18,
   "metadata": {
    "pycharm": {
     "name": "#%%\n"
    }
   },
   "outputs": [
    {
     "ename": "IndexError",
     "evalue": "string index out of range",
     "output_type": "error",
     "traceback": [
      "\u001B[1;31m---------------------------------------------------------------------------\u001B[0m",
      "\u001B[1;31mIndexError\u001B[0m                                Traceback (most recent call last)",
      "\u001B[1;32m<ipython-input-18-add2dbadac9d>\u001B[0m in \u001B[0;36m<module>\u001B[1;34m\u001B[0m\n\u001B[1;32m----> 1\u001B[1;33m \u001B[0mstring_ejemplo\u001B[0m\u001B[1;33m[\u001B[0m\u001B[1;36m4\u001B[0m\u001B[1;33m]\u001B[0m\u001B[1;33m\u001B[0m\u001B[1;33m\u001B[0m\u001B[0m\n\u001B[0m",
      "\u001B[1;31mIndexError\u001B[0m: string index out of range"
     ]
    }
   ],
   "source": [
    "string_ejemplo[4]"
   ]
  },
  {
   "cell_type": "markdown",
   "metadata": {
    "pycharm": {
     "name": "#%% md\n"
    }
   },
   "source": [
    "### Slicing\n",
    "\n",
    "Seleccionar caracteres de manera individual es ya útil, pero también es posible seleccionar subcadenas de texto. A esta última acción se le conoce como *String Slicing*.\n",
    "\n",
    "La forma de crear estas subcadenas de texto es mediante el usos de `:`, tal y como se muestra en los siguientes ejemplos."
   ]
  },
  {
   "cell_type": "code",
   "execution_count": 19,
   "metadata": {
    "pycharm": {
     "name": "#%%\n"
    }
   },
   "outputs": [],
   "source": [
    "string_ejemplo = \"python\""
   ]
  },
  {
   "cell_type": "code",
   "execution_count": 21,
   "metadata": {
    "pycharm": {
     "name": "#%%\n"
    }
   },
   "outputs": [
    {
     "data": {
      "text/plain": [
       "'py'"
      ]
     },
     "execution_count": 21,
     "metadata": {},
     "output_type": "execute_result"
    }
   ],
   "source": [
    "string_ejemplo[0:2] # Desde el índice 0 (incluido), hasta el índice 2 (excluido)"
   ]
  },
  {
   "cell_type": "code",
   "execution_count": 22,
   "metadata": {
    "pycharm": {
     "name": "#%%\n"
    }
   },
   "outputs": [
    {
     "data": {
      "text/plain": [
       "'tho'"
      ]
     },
     "execution_count": 22,
     "metadata": {},
     "output_type": "execute_result"
    }
   ],
   "source": [
    "string_ejemplo[2:5] # Desde el índice 2 (incluido), hasta el índice 5 (excluido)"
   ]
  },
  {
   "cell_type": "code",
   "execution_count": 23,
   "metadata": {
    "pycharm": {
     "name": "#%%\n"
    }
   },
   "outputs": [
    {
     "data": {
      "text/plain": [
       "'py'"
      ]
     },
     "execution_count": 23,
     "metadata": {},
     "output_type": "execute_result"
    }
   ],
   "source": [
    "string_ejemplo[:2] # Desde el inicio, hasta el índice 2 (excluido)"
   ]
  },
  {
   "cell_type": "code",
   "execution_count": 24,
   "metadata": {
    "pycharm": {
     "name": "#%%\n"
    }
   },
   "outputs": [
    {
     "data": {
      "text/plain": [
       "'thon'"
      ]
     },
     "execution_count": 24,
     "metadata": {},
     "output_type": "execute_result"
    }
   ],
   "source": [
    "string_ejemplo[2:] # Desde el índice 2 (incluido), hasta el final"
   ]
  },
  {
   "cell_type": "markdown",
   "metadata": {
    "pycharm": {
     "name": "#%% md\n"
    }
   },
   "source": [
    "Es también posible usar índices negativos, de la siguiente forma:"
   ]
  },
  {
   "cell_type": "code",
   "execution_count": 30,
   "metadata": {
    "pycharm": {
     "name": "#%%\n"
    }
   },
   "outputs": [
    {
     "data": {
      "text/plain": [
       "'on'"
      ]
     },
     "execution_count": 30,
     "metadata": {},
     "output_type": "execute_result"
    }
   ],
   "source": [
    "string_ejemplo[-2:] #De modo inverso: Desde el final, hasta el índice 2 (excluido) "
   ]
  },
  {
   "cell_type": "markdown",
   "metadata": {
    "pycharm": {
     "name": "#%% md\n"
    }
   },
   "source": [
    "Una forma de recordar cómo funciona el *String Slicing*, es pensando en los índices como posiciones entre los caracteres, estando el 0 al extremo izquierdo del primer caracter y el índice$n$ al extremo derecho de la cadena de texto, asumiendo que la cadena de texto es de longitud $n$. \n",
    "\n",
    "El siguiente diagrama puede ser de ayuda para ilustrar lo anterior:\n",
    "\n"
   ]
  },
  {
   "cell_type": "code",
   "execution_count": 32,
   "metadata": {
    "pycharm": {
     "name": "#%%\n"
    }
   },
   "outputs": [],
   "source": [
    "# +---+---+---+---+---+---+ \n",
    "# | P | y | t | h | o | n | \n",
    "# +---+---+---+---+---+---+\n",
    "# 0   1   2   3   4   5   6\n",
    "#-6  -5  -4  -3  -2  -1"
   ]
  },
  {
   "cell_type": "code",
   "execution_count": 34,
   "metadata": {
    "pycharm": {
     "name": "#%%\n"
    }
   },
   "outputs": [
    {
     "name": "stdout",
     "output_type": "stream",
     "text": [
      "python\n",
      "pto\n"
     ]
    }
   ],
   "source": [
    "print(string_ejemplo[::1])\n",
    "print(string_ejemplo[::2])"
   ]
  },
  {
   "cell_type": "markdown",
   "metadata": {
    "pycharm": {
     "name": "#%% md\n"
    }
   },
   "source": [
    "La anterior línea de código muestra que también es posible indicar el tamaño de cada paso que damos sobre la cadena de texto al deslizarnos sobre ella. \n",
    "\n",
    "Finalmente, quiero mostrarles una funcionalidad de las llamadas \"pythonistas\"."
   ]
  },
  {
   "cell_type": "code",
   "execution_count": 35,
   "metadata": {
    "pycharm": {
     "name": "#%%\n"
    }
   },
   "outputs": [
    {
     "data": {
      "text/plain": [
       "'nohtyp'"
      ]
     },
     "execution_count": 35,
     "metadata": {},
     "output_type": "execute_result"
    }
   ],
   "source": [
    "string_ejemplo[::-1]"
   ]
  },
  {
   "cell_type": "code",
   "execution_count": 36,
   "metadata": {
    "pycharm": {
     "name": "#%%\n"
    }
   },
   "outputs": [
    {
     "data": {
      "text/plain": [
       "'nhy'"
      ]
     },
     "execution_count": 36,
     "metadata": {},
     "output_type": "execute_result"
    }
   ],
   "source": [
    "string_ejemplo[::-2]"
   ]
  },
  {
   "cell_type": "markdown",
   "metadata": {
    "pycharm": {
     "name": "#%% md\n"
    }
   },
   "source": [
    "Esta funcionalidad me fue útil cuando iniciaba en mi carrera como profesional de la ciencia de datos, concretamente durante las pruebas técnicas de los procesos de selección."
   ]
  },
  {
   "cell_type": "markdown",
   "metadata": {
    "pycharm": {
     "name": "#%% md\n"
    }
   },
   "source": [
    "## Propiedades del tipo de dato String\n",
    "\n",
    "En este momento es importante mencionar que una de las propiedades características de este tipo de dato es la *inmutabilidad*. Esto significa que una vez una cadena de texto es creada, los elementos dentro de ella no pueden ser modificados o intercambiados, por ejemplo:\n"
   ]
  },
  {
   "cell_type": "code",
   "execution_count": 37,
   "metadata": {
    "pycharm": {
     "name": "#%%\n"
    }
   },
   "outputs": [
    {
     "data": {
      "text/plain": [
       "'python'"
      ]
     },
     "execution_count": 37,
     "metadata": {},
     "output_type": "execute_result"
    }
   ],
   "source": [
    "string_ejemplo"
   ]
  },
  {
   "cell_type": "code",
   "execution_count": 40,
   "metadata": {
    "pycharm": {
     "name": "#%%\n"
    }
   },
   "outputs": [
    {
     "ename": "TypeError",
     "evalue": "'str' object does not support item assignment",
     "output_type": "error",
     "traceback": [
      "\u001B[1;31m---------------------------------------------------------------------------\u001B[0m",
      "\u001B[1;31mTypeError\u001B[0m                                 Traceback (most recent call last)",
      "\u001B[1;32m<ipython-input-40-136503f3a1d8>\u001B[0m in \u001B[0;36m<module>\u001B[1;34m\u001B[0m\n\u001B[1;32m----> 1\u001B[1;33m \u001B[0mstring_ejemplo\u001B[0m\u001B[1;33m[\u001B[0m\u001B[1;36m0\u001B[0m\u001B[1;33m]\u001B[0m \u001B[1;33m=\u001B[0m \u001B[1;34m\"h\"\u001B[0m\u001B[1;33m\u001B[0m\u001B[1;33m\u001B[0m\u001B[0m\n\u001B[0m",
      "\u001B[1;31mTypeError\u001B[0m: 'str' object does not support item assignment"
     ]
    }
   ],
   "source": [
    "string_ejemplo[0] = \"h\""
   ]
  },
  {
   "cell_type": "markdown",
   "metadata": {
    "pycharm": {
     "name": "#%% md\n"
    }
   },
   "source": [
    "No obstante, sí es posible crear una concatenación y sobre escribir la cadena de texto. En principio esto podría sonar a una contradicción, pero bastará con hacer uso de la función `id()` para entender que la cadena de texto original no ha sido modificada, en cambio la variable ahora apunta a un nuevo slot de memoria.\n",
    "\n"
   ]
  },
  {
   "cell_type": "code",
   "execution_count": 41,
   "metadata": {
    "pycharm": {
     "name": "#%%\n"
    }
   },
   "outputs": [
    {
     "data": {
      "text/plain": [
       "2580396966832"
      ]
     },
     "execution_count": 41,
     "metadata": {},
     "output_type": "execute_result"
    }
   ],
   "source": [
    "id(string_ejemplo)"
   ]
  },
  {
   "cell_type": "code",
   "execution_count": 42,
   "metadata": {
    "pycharm": {
     "name": "#%%\n"
    }
   },
   "outputs": [
    {
     "data": {
      "text/plain": [
       "'python concatenado'"
      ]
     },
     "execution_count": 42,
     "metadata": {},
     "output_type": "execute_result"
    }
   ],
   "source": [
    "string_ejemplo = string_ejemplo + \" concatenado\"\n",
    "string_ejemplo"
   ]
  },
  {
   "cell_type": "code",
   "execution_count": 43,
   "metadata": {
    "pycharm": {
     "name": "#%%\n"
    }
   },
   "outputs": [
    {
     "data": {
      "text/plain": [
       "2580464037360"
      ]
     },
     "execution_count": 43,
     "metadata": {},
     "output_type": "execute_result"
    }
   ],
   "source": [
    "id(string_ejemplo)"
   ]
  },
  {
   "cell_type": "markdown",
   "metadata": {
    "pycharm": {
     "name": "#%% md\n"
    }
   },
   "source": [
    "Otra cosa curiosa que es posible, es la multiplicación de cadenas de texto. "
   ]
  },
  {
   "cell_type": "code",
   "execution_count": 45,
   "metadata": {
    "pycharm": {
     "name": "#%%\n"
    }
   },
   "outputs": [
    {
     "data": {
      "text/plain": [
       "'z'"
      ]
     },
     "execution_count": 45,
     "metadata": {},
     "output_type": "execute_result"
    }
   ],
   "source": [
    "s = \"z\"\n",
    "s"
   ]
  },
  {
   "cell_type": "code",
   "execution_count": 46,
   "metadata": {
    "pycharm": {
     "name": "#%%\n"
    }
   },
   "outputs": [
    {
     "data": {
      "text/plain": [
       "'zzzzz'"
      ]
     },
     "execution_count": 46,
     "metadata": {},
     "output_type": "execute_result"
    }
   ],
   "source": [
    "s*5"
   ]
  },
  {
   "cell_type": "markdown",
   "metadata": {
    "pycharm": {
     "name": "#%% md\n"
    }
   },
   "source": [
    "## Métodos del tipo de dato String \n",
    "\n",
    "Los objetos en Python, tales como las cadenas de texto (Strings), están acompañados por métodos (built-in functions). Estos métodos son simplemente funciones creadas como propiedades dentro de los objetos (ya llegaremos a este punto más adelante) que al ejecutarse generar alguna acción sobre el objeto.\n",
    "\n",
    "Los métodos son ejecutados al poner un `.` al final del nombre de la variable que almacena el objeto, tal y como se muestra en la siguiente línea:\n",
    "\n",
    "`objeto.método(parámetros)`\n",
    "\n",
    "Los parámetros son argumentos que podemos pasar al método y que modificaran en cierto modo la ejecución de éste. Por ahora no es muy importante entender al 100% lo anterior, ya entraremos en la definición de funciones y en la programación orientada a objetos. \n",
    "\n",
    "Ahora procederemos a mostrar algunos de los métodos del tipo de dato String:"
   ]
  },
  {
   "cell_type": "code",
   "execution_count": 48,
   "metadata": {
    "pycharm": {
     "name": "#%%\n"
    }
   },
   "outputs": [
    {
     "data": {
      "text/plain": [
       "'Python'"
      ]
     },
     "execution_count": 48,
     "metadata": {},
     "output_type": "execute_result"
    }
   ],
   "source": [
    "string_ejemplo = \"Python\"\n",
    "string_ejemplo"
   ]
  },
  {
   "cell_type": "code",
   "execution_count": 49,
   "metadata": {
    "pycharm": {
     "name": "#%%\n"
    }
   },
   "outputs": [
    {
     "data": {
      "text/plain": [
       "'PYTHON'"
      ]
     },
     "execution_count": 49,
     "metadata": {},
     "output_type": "execute_result"
    }
   ],
   "source": [
    "# Convertir todo a mayúsculas\n",
    "string_ejemplo.upper()"
   ]
  },
  {
   "cell_type": "code",
   "execution_count": 50,
   "metadata": {
    "pycharm": {
     "name": "#%%\n"
    }
   },
   "outputs": [
    {
     "data": {
      "text/plain": [
       "'python'"
      ]
     },
     "execution_count": 50,
     "metadata": {},
     "output_type": "execute_result"
    }
   ],
   "source": [
    "# Convertir todo a minúsculas\n",
    "string_ejemplo.lower()"
   ]
  },
  {
   "cell_type": "code",
   "execution_count": 75,
   "metadata": {
    "pycharm": {
     "name": "#%%\n"
    }
   },
   "outputs": [
    {
     "data": {
      "text/plain": [
       "'Programación en Python'"
      ]
     },
     "execution_count": 75,
     "metadata": {},
     "output_type": "execute_result"
    }
   ],
   "source": [
    "string_ejemplo = \"Programación en Python\"\n",
    "string_ejemplo"
   ]
  },
  {
   "cell_type": "code",
   "execution_count": 52,
   "metadata": {
    "pycharm": {
     "name": "#%%\n"
    }
   },
   "outputs": [
    {
     "data": {
      "text/plain": [
       "['Programación', 'en', 'Python']"
      ]
     },
     "execution_count": 52,
     "metadata": {},
     "output_type": "execute_result"
    }
   ],
   "source": [
    "# Dividir una cadena de texto \n",
    "string_ejemplo.split() # En este caso estamos usando el parámetro por defecto, que separa por \" \""
   ]
  },
  {
   "cell_type": "code",
   "execution_count": 53,
   "metadata": {
    "pycharm": {
     "name": "#%%\n"
    }
   },
   "outputs": [
    {
     "data": {
      "text/plain": [
       "['Programació', ' e', ' Pytho', '']"
      ]
     },
     "execution_count": 53,
     "metadata": {},
     "output_type": "execute_result"
    }
   ],
   "source": [
    "string_ejemplo.split(\"n\")"
   ]
  },
  {
   "cell_type": "code",
   "execution_count": 54,
   "metadata": {
    "scrolled": true,
    "pycharm": {
     "name": "#%%\n"
    }
   },
   "outputs": [
    {
     "data": {
      "text/plain": [
       "0"
      ]
     },
     "execution_count": 54,
     "metadata": {},
     "output_type": "execute_result"
    }
   ],
   "source": [
    "# Número de veces que cierto caracter aparece en una cadena de texto\n",
    "string_ejemplo.count(\"p\")"
   ]
  },
  {
   "cell_type": "markdown",
   "metadata": {
    "pycharm": {
     "name": "#%% md\n"
    }
   },
   "source": [
    "Es importante mencionar que Python hace distinción entre mayúsculas y minúsculas, por tanto `P != p`.\n",
    "\n",
    "Si quisiéramos dar la vuelta a esta situación, para poder contar la letra `p` independientemente de si aparece en minúsculas o mayúsculas, podemos hacer uso de la concatenación de métodos."
   ]
  },
  {
   "cell_type": "code",
   "execution_count": 55,
   "metadata": {
    "scrolled": true,
    "pycharm": {
     "name": "#%%\n"
    }
   },
   "outputs": [
    {
     "data": {
      "text/plain": [
       "2"
      ]
     },
     "execution_count": 55,
     "metadata": {},
     "output_type": "execute_result"
    }
   ],
   "source": [
    "string_ejemplo.lower().count(\"p\")"
   ]
  },
  {
   "cell_type": "code",
   "execution_count": 77,
   "metadata": {
    "pycharm": {
     "name": "#%%\n"
    }
   },
   "outputs": [
    {
     "data": {
      "text/plain": [
       "'Programación en Python'"
      ]
     },
     "execution_count": 77,
     "metadata": {},
     "output_type": "execute_result"
    }
   ],
   "source": [
    "string_ejemplo"
   ]
  },
  {
   "cell_type": "code",
   "execution_count": 63,
   "metadata": {
    "pycharm": {
     "name": "#%%\n"
    }
   },
   "outputs": [
    {
     "data": {
      "text/plain": [
       "11"
      ]
     },
     "execution_count": 63,
     "metadata": {},
     "output_type": "execute_result"
    }
   ],
   "source": [
    "# Busca en la cadena de texto si un caracter aparece, y regresa la primera posición en donde aparece\n",
    "string_ejemplo.find(\"n\") "
   ]
  },
  {
   "cell_type": "code",
   "execution_count": 64,
   "metadata": {
    "pycharm": {
     "name": "#%%\n"
    }
   },
   "outputs": [
    {
     "data": {
      "text/plain": [
       "14"
      ]
     },
     "execution_count": 64,
     "metadata": {},
     "output_type": "execute_result"
    }
   ],
   "source": [
    "string_ejemplo.find(\"n\", string_ejemplo.find(\"n\") + 1) "
   ]
  },
  {
   "cell_type": "code",
   "execution_count": 76,
   "metadata": {
    "pycharm": {
     "name": "#%%\n"
    }
   },
   "outputs": [
    {
     "data": {
      "text/plain": [
       "21"
      ]
     },
     "execution_count": 76,
     "metadata": {},
     "output_type": "execute_result"
    }
   ],
   "source": [
    "string_ejemplo.rfind(\"n\")"
   ]
  },
  {
   "cell_type": "code",
   "execution_count": 60,
   "metadata": {
    "pycharm": {
     "name": "#%%\n"
    }
   },
   "outputs": [
    {
     "data": {
      "text/plain": [
       "'Programació-- e-- Pytho--'"
      ]
     },
     "execution_count": 60,
     "metadata": {},
     "output_type": "execute_result"
    }
   ],
   "source": [
    "# Sustituimos la aparición de un caracter por algún otro\n",
    "string_ejemplo.replace(\"n\",\"--\")"
   ]
  },
  {
   "cell_type": "code",
   "execution_count": 68,
   "metadata": {
    "pycharm": {
     "name": "#%%\n"
    }
   },
   "outputs": [
    {
     "data": {
      "text/plain": [
       "'  hola  '"
      ]
     },
     "execution_count": 68,
     "metadata": {},
     "output_type": "execute_result"
    }
   ],
   "source": [
    "string_ejemplo = \"  hola  \"\n",
    "string_ejemplo"
   ]
  },
  {
   "cell_type": "code",
   "execution_count": 70,
   "metadata": {
    "scrolled": true,
    "pycharm": {
     "name": "#%%\n"
    }
   },
   "outputs": [
    {
     "data": {
      "text/plain": [
       "'hola'"
      ]
     },
     "execution_count": 70,
     "metadata": {},
     "output_type": "execute_result"
    }
   ],
   "source": [
    "# Eliminamos espacios en ambos extremos.\n",
    "string_ejemplo.strip()"
   ]
  },
  {
   "cell_type": "code",
   "execution_count": 73,
   "metadata": {
    "pycharm": {
     "name": "#%%\n"
    }
   },
   "outputs": [
    {
     "data": {
      "text/plain": [
       "'  hola  '"
      ]
     },
     "execution_count": 73,
     "metadata": {},
     "output_type": "execute_result"
    }
   ],
   "source": [
    "string_ejemplo"
   ]
  },
  {
   "cell_type": "code",
   "execution_count": 74,
   "metadata": {
    "scrolled": true,
    "pycharm": {
     "name": "#%%\n"
    }
   },
   "outputs": [
    {
     "data": {
      "text/plain": [
       "'Hola'"
      ]
     },
     "execution_count": 74,
     "metadata": {},
     "output_type": "execute_result"
    }
   ],
   "source": [
    "# Convertimos a formato nombre propio\n",
    "string_ejemplo.strip().capitalize()"
   ]
  },
  {
   "cell_type": "markdown",
   "metadata": {
    "pycharm": {
     "name": "#%% md\n"
    }
   },
   "source": [
    "Estos sólo fueron algunos de los ejemplos más útiles dentro de mi experiencia, pero recomiendo encarecidamente consultar la página oficial de Python que contiene la documentación entera sobre el tipo de [métodos](https://docs.python.org/3/library/stdtypes.html#string-methods) disponibles y aplicables a las cadenas de texto. "
   ]
  },
  {
   "cell_type": "markdown",
   "metadata": {
    "pycharm": {
     "name": "#%% md\n"
    }
   },
   "source": [
    "## Formato para impresión en pantalla\n",
    "\n",
    "En ocasiones, y muy seguramente al momento de escribir funciones complejas, querremos imprimir mensajes que den información útil a los usuarios durante el proceso de ejecución. \n",
    "\n",
    "Bajo este caso de uso buscamos inyectar ciertos items dentro de una cadena de texto, en lugar de concatenar. \n",
    "\n",
    "Dentro de esta última sección mostraremos tres distintas opciones disponibles:\n",
    "\n",
    "1. Método .format()\n",
    "2. Método de marcadores %\n",
    "3. Método f-string\n",
    "\n",
    "### Método .format()"
   ]
  },
  {
   "cell_type": "code",
   "execution_count": 12,
   "metadata": {
    "scrolled": true,
    "pycharm": {
     "name": "#%%\n"
    }
   },
   "outputs": [
    {
     "name": "stdout",
     "output_type": "stream",
     "text": [
      "Imprimir una variable -- TEXTO -- dentro de un texto\n"
     ]
    }
   ],
   "source": [
    "s = \"-- TEXTO --\"\n",
    "print(\"Imprimir una variable {} dentro de un texto\".format(s))"
   ]
  },
  {
   "cell_type": "markdown",
   "metadata": {
    "pycharm": {
     "name": "#%% md\n"
    }
   },
   "source": [
    "### Método de marcadores %"
   ]
  },
  {
   "cell_type": "code",
   "execution_count": 10,
   "metadata": {
    "pycharm": {
     "name": "#%%\n"
    }
   },
   "outputs": [
    {
     "name": "stdout",
     "output_type": "stream",
     "text": [
      "Imprimir con una variable: -- TEXTO --\n"
     ]
    }
   ],
   "source": [
    "print(\"Imprimir con una variable: %s\" %s)"
   ]
  },
  {
   "cell_type": "code",
   "execution_count": 11,
   "metadata": {
    "pycharm": {
     "name": "#%%\n"
    }
   },
   "outputs": [
    {
     "name": "stdout",
     "output_type": "stream",
     "text": [
      "Imprimir -- TEXT 1 -- y -- TEXT 2 --\n"
     ]
    }
   ],
   "source": [
    "s1 = \"-- TEXT 1 --\"\n",
    "s2 = \"-- TEXT 2 --\"\n",
    "\n",
    "print(\"Imprimir %s y %s\" %(s1, s2))"
   ]
  },
  {
   "cell_type": "markdown",
   "metadata": {
    "pycharm": {
     "name": "#%% md\n"
    }
   },
   "source": [
    "### Método f-string"
   ]
  },
  {
   "cell_type": "code",
   "execution_count": 14,
   "metadata": {
    "pycharm": {
     "name": "#%%\n"
    }
   },
   "outputs": [
    {
     "name": "stdout",
     "output_type": "stream",
     "text": [
      "Imprimir una variable -- TEXTO -- dentro de un texto\n"
     ]
    }
   ],
   "source": [
    "s = \"-- TEXTO --\"\n",
    "print(f\"Imprimir una variable {s} dentro de un texto\")"
   ]
  },
  {
   "cell_type": "markdown",
   "metadata": {
    "pycharm": {
     "name": "#%% md\n"
    }
   },
   "source": [
    "Llegados a este punto, podría sonar redundante el haber explorado dicha funcionalidad. No obstante, es una práctica común dentro del mundo de desarrollo en Python y ciertamente les facilitará el interpretar y entender el código de otros autores."
   ]
  },
  {
   "cell_type": "markdown",
   "metadata": {
    "pycharm": {
     "name": "#%% md\n"
    }
   },
   "source": [
    "Esto sólo compone una pequeña introducción a las cadenas de texto en Python, más adelante iremos descubriendo nuevos métodos y propiedades con casos de uso específicos."
   ]
  }
 ],
 "metadata": {
  "kernelspec": {
   "display_name": "Python 3",
   "language": "python",
   "name": "python3"
  },
  "language_info": {
   "codemirror_mode": {
    "name": "ipython",
    "version": 3
   },
   "file_extension": ".py",
   "mimetype": "text/x-python",
   "name": "python",
   "nbconvert_exporter": "python",
   "pygments_lexer": "ipython3",
   "version": "3.8.8"
  }
 },
 "nbformat": 4,
 "nbformat_minor": 4
}