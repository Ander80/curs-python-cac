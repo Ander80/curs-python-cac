{
 "cells": [
  {
   "cell_type": "markdown",
   "metadata": {},
   "source": [
    "# Tuplas\n",
    "\n",
    "Hasta ahora hemos visto que tanto las *Listas* como *Strings* comparten propiedades como índices y operaciones del tipo *slicing*. Ambas estructuras de datos son ejemplos de secuencias en Python, pero existe aún otro ejemplo de estructuras de datos llamadas *tuplas*.\n",
    "\n",
    "Las *Tuplas* son estructuras de datos muy similares a las *Listas* y su principal diferencia es que las *Tuplas* son inmutables, dicho de otro modo, una vez creada una *Tupla* no podremos alterar ninguna de sus componentes, salvo reescribiendo el objeto.\n",
    "\n",
    "En esta lección veremos son siguientes temas:\n",
    "\n",
    "    1.) Construcción de Tuplas\n",
    "    2.) Inmutabilidad \n",
    "    3.) Métodos Básicos de Tuplas\n",
    "    4.) ¿Cuándo usar Tuplas?\n",
    "\n",
    "\n",
    "## Construcción de Tuplas\n",
    "\n",
    "Para crear un objeto de la clase Tupla usamos paréntesis simples `()` separando cada uno de sus elementos con comas `,`. Por ejemplo:"
   ]
  },
  {
   "cell_type": "code",
   "execution_count": 3,
   "metadata": {},
   "outputs": [
    {
     "data": {
      "text/plain": [
       "(1, 2, 'a', 'b')"
      ]
     },
     "execution_count": 3,
     "metadata": {},
     "output_type": "execute_result"
    }
   ],
   "source": [
    "t = (1, 2, \"a\", \"b\")\n",
    "t"
   ]
  },
  {
   "cell_type": "markdown",
   "metadata": {},
   "source": [
    "Otra forma de crear las tuplas en Python, al igual que con el resto de estructuras de datos, es mediante su propio constructor `tuple()`"
   ]
  },
  {
   "cell_type": "code",
   "execution_count": 6,
   "metadata": {},
   "outputs": [
    {
     "data": {
      "text/plain": [
       "(1, 2, 'a', 'b')"
      ]
     },
     "execution_count": 6,
     "metadata": {},
     "output_type": "execute_result"
    }
   ],
   "source": [
    "t = tuple([1, 2, \"a\", \"b\"])\n",
    "t"
   ]
  },
  {
   "cell_type": "markdown",
   "metadata": {},
   "source": [
    "Existe una propiedad muy recurrida en Python llamada *tuple unpacking*. Básicamente nos permite asignar el resultado de una función/operación a una tupla, sin necesidad de especificar los paréntesis.\n",
    "\n",
    "Pese a que lo anterior podría sonar simple, resulta realmente ventajoso al momento de asignar a una variable una secuencioa de longitud desconocida."
   ]
  },
  {
   "cell_type": "code",
   "execution_count": 8,
   "metadata": {},
   "outputs": [
    {
     "data": {
      "text/plain": [
       "(12345, 54321, 'Hola!')"
      ]
     },
     "execution_count": 8,
     "metadata": {},
     "output_type": "execute_result"
    }
   ],
   "source": [
    "t = 12345, 54321, 'Hola!'\n",
    "t"
   ]
  },
  {
   "cell_type": "code",
   "execution_count": 9,
   "metadata": {},
   "outputs": [
    {
     "data": {
      "text/plain": [
       "((12345, 54321, 'Hola!'), 1, 2, 3)"
      ]
     },
     "execution_count": 9,
     "metadata": {},
     "output_type": "execute_result"
    }
   ],
   "source": [
    "t2 = t, 1, 2, 3\n",
    "t2"
   ]
  },
  {
   "cell_type": "code",
   "execution_count": 10,
   "metadata": {},
   "outputs": [
    {
     "data": {
      "text/plain": [
       "([1, 2, 3], [4, 5, 6])"
      ]
     },
     "execution_count": 10,
     "metadata": {},
     "output_type": "execute_result"
    }
   ],
   "source": []
  },
  {
   "cell_type": "markdown",
   "metadata": {},
   "source": [
    "Como pudimos observar en las anteriores celdas, las tuplas siempre incluyen sus elementos dentro de paréntesis al momento de imprimirse en pantalla, de modo que las tuplas anidadas se interpretan correctamente; al poderse declarar con o sin paréntesis, es importante mencionar que los paréntesis son necesarios si la tupla es parte de una expresión más grande o compleja.\n",
    "\n",
    "## Inmutabilidad \n",
    "\n",
    "Aunque las tuplas pueden parecer similares a las listas, a menudo se usan en diferentes situaciones y para diferentes propósitos. Las tuplas son inmutables y, por lo general, contienen una secuencia heterogénea de elementos a los que se accede vía unpacking o mediante índices. Las listas, por el contrario, son mutables y sus elementos suelen ser homogéneos y se accede a ellos iterando sobre la lista.\n",
    "\n",
    "Veamos un ejemplo:"
   ]
  },
  {
   "cell_type": "code",
   "execution_count": 11,
   "metadata": {},
   "outputs": [
    {
     "data": {
      "text/plain": [
       "(1, 2, 3, 4)"
      ]
     },
     "execution_count": 11,
     "metadata": {},
     "output_type": "execute_result"
    }
   ],
   "source": [
    "t = (1, 2, 3, 4)\n",
    "t"
   ]
  },
  {
   "cell_type": "code",
   "execution_count": 12,
   "metadata": {},
   "outputs": [
    {
     "data": {
      "text/plain": [
       "3"
      ]
     },
     "execution_count": 12,
     "metadata": {},
     "output_type": "execute_result"
    }
   ],
   "source": [
    "t[2]"
   ]
  },
  {
   "cell_type": "code",
   "execution_count": 15,
   "metadata": {},
   "outputs": [
    {
     "ename": "TypeError",
     "evalue": "'tuple' object does not support item assignment",
     "output_type": "error",
     "traceback": [
      "\u001b[1;31m---------------------------------------------------------------------------\u001b[0m",
      "\u001b[1;31mTypeError\u001b[0m                                 Traceback (most recent call last)",
      "\u001b[1;32m<ipython-input-15-45549d36daea>\u001b[0m in \u001b[0;36m<module>\u001b[1;34m\u001b[0m\n\u001b[1;32m----> 1\u001b[1;33m \u001b[0mt\u001b[0m\u001b[1;33m[\u001b[0m\u001b[1;36m2\u001b[0m\u001b[1;33m]\u001b[0m \u001b[1;33m=\u001b[0m \u001b[1;36m1\u001b[0m\u001b[1;33m\u001b[0m\u001b[1;33m\u001b[0m\u001b[0m\n\u001b[0m",
      "\u001b[1;31mTypeError\u001b[0m: 'tuple' object does not support item assignment"
     ]
    }
   ],
   "source": [
    "t[2] = 1"
   ]
  },
  {
   "cell_type": "markdown",
   "metadata": {},
   "source": [
    "No es posible reasignar elementos individuales de una tupla, sin embargo, es posible crear tuplas que contengan objetos mutables, como listas. Una lista dentro de una tupla, seguirá conservando sus atributos de mutabilidad."
   ]
  },
  {
   "cell_type": "code",
   "execution_count": 23,
   "metadata": {},
   "outputs": [
    {
     "data": {
      "text/plain": [
       "([1, 2, 3], [4, 5, 6])"
      ]
     },
     "execution_count": 23,
     "metadata": {},
     "output_type": "execute_result"
    }
   ],
   "source": [
    "t = ([1,2,3], [4,5,6])\n",
    "t"
   ]
  },
  {
   "cell_type": "code",
   "execution_count": 22,
   "metadata": {},
   "outputs": [
    {
     "data": {
      "text/plain": [
       "([1, 1, 3], [4, 5, 6])"
      ]
     },
     "execution_count": 22,
     "metadata": {},
     "output_type": "execute_result"
    }
   ],
   "source": [
    "t[0][1] = 1\n",
    "t"
   ]
  },
  {
   "cell_type": "markdown",
   "metadata": {},
   "source": [
    "## Métodos Básicos de Tuplas\n",
    "\n",
    "Las tuplas tienen menos métodos en comparación de las listas. Esto es debido principalmente a su inmutabilidad que les brinda agilidad y enficiencia."
   ]
  },
  {
   "cell_type": "code",
   "execution_count": 29,
   "metadata": {},
   "outputs": [
    {
     "data": {
      "text/plain": [
       "('valor1', 'valor2', 'hola', 'valor1')"
      ]
     },
     "execution_count": 29,
     "metadata": {},
     "output_type": "execute_result"
    }
   ],
   "source": [
    "t = (\"valor1\", \"valor2\", \"hola\", \"valor1\")\n",
    "t"
   ]
  },
  {
   "cell_type": "code",
   "execution_count": 28,
   "metadata": {},
   "outputs": [
    {
     "data": {
      "text/plain": [
       "2"
      ]
     },
     "execution_count": 28,
     "metadata": {},
     "output_type": "execute_result"
    }
   ],
   "source": [
    "# Regresa el índice (menor) de un valor dentro de la tupla.\n",
    "t.index(\"hola\")"
   ]
  },
  {
   "cell_type": "code",
   "execution_count": 31,
   "metadata": {},
   "outputs": [
    {
     "data": {
      "text/plain": [
       "0"
      ]
     },
     "execution_count": 31,
     "metadata": {},
     "output_type": "execute_result"
    }
   ],
   "source": [
    "t.index(\"valor1\")"
   ]
  },
  {
   "cell_type": "code",
   "execution_count": 32,
   "metadata": {},
   "outputs": [
    {
     "data": {
      "text/plain": [
       "2"
      ]
     },
     "execution_count": 32,
     "metadata": {},
     "output_type": "execute_result"
    }
   ],
   "source": [
    "# Regresa el número de veces que aparece un elemento dentro de la tupla.\n",
    "t.count('valor1')"
   ]
  },
  {
   "cell_type": "markdown",
   "metadata": {},
   "source": [
    "## ¿Cuándo usar Tuplas?\n",
    "\n",
    "Parecería que las tuplas no son realmente útiles en comparación con las listas y, pare ser de todo honesto, existen pocas situaciones (más allá de un *tuple unpacking*) en donde será preferible usar listas. \n",
    "\n",
    "En general, las Tuplas son una alternativa excelente cuando se busca mantener fijo un valor a lo largo de un proceso dentro de un script. Al usar Tuplas, estamos forzando la integridad de los datos de inicio a fin."
   ]
  }
 ],
 "metadata": {
  "kernelspec": {
   "display_name": "Python 3",
   "language": "python",
   "name": "python3"
  },
  "language_info": {
   "codemirror_mode": {
    "name": "ipython",
    "version": 3
   },
   "file_extension": ".py",
   "mimetype": "text/x-python",
   "name": "python",
   "nbconvert_exporter": "python",
   "pygments_lexer": "ipython3",
   "version": "3.8.8"
  }
 },
 "nbformat": 4,
 "nbformat_minor": 4
}
