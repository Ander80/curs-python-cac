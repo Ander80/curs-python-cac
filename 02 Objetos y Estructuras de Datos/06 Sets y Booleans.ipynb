{
 "cells": [
  {
   "cell_type": "markdown",
   "metadata": {},
   "source": [
    "# Sets y Booleans \n",
    "\n",
    "Existen otros dos tipos de datos que cubriremos.\n",
    "\n",
    "1. Sets\n",
    "2. Booleans\n",
    "\n",
    "## Sets\n",
    "\n",
    "Python también incluye un tipo de datos para conjuntos (sets). Un conjunto es una colección desordenada de elementos únicos. Los usos básicos incluyen: \n",
    "\n",
    "1. Pruebas de contención, probar si un elemento es parte de un conjunto.\n",
    "2. Eliminación de elementos duplicadas, provenientes de cualquier otra estructura de datos. \n",
    "\n",
    "Los conjuntos también admiten operaciones matemáticas como la unión, intersección, diferencia y diferencia simétrica.\n",
    "\n",
    "En esta sub-sección veremos:\n",
    "\n",
    "    1.) Construcción de conjuntos\n",
    "    2.) Operaciones y Métodos de Conjuntos\n",
    "\n",
    "### Construcción de conjuntos\n",
    "\n",
    "Se pueden utilizar llaves `{}` o el constructor `set()` para crear conjuntos. \n",
    "\n",
    "Para crear un conjunto vacío, debe usar `set()`, no `{}`; la llaves vacías crearán un diccionario vacío, una estructura de datos que ya hemos discutido.\n",
    "\n",
    "Ahora veremos una pequeña demostración de cómo usarlos."
   ]
  },
  {
   "cell_type": "code",
   "execution_count": 2,
   "metadata": {
    "scrolled": true
   },
   "outputs": [
    {
     "data": {
      "text/plain": [
       "[1, 1, 3, 4, 4, 1, 3]"
      ]
     },
     "execution_count": 2,
     "metadata": {},
     "output_type": "execute_result"
    }
   ],
   "source": [
    "lst = [1, 1, 3, 4, 4, 1, 3]\n",
    "lst"
   ]
  },
  {
   "cell_type": "markdown",
   "metadata": {},
   "source": [
    "Ahora procederemos a crear un conjunto con el constructor `set()`. "
   ]
  },
  {
   "cell_type": "code",
   "execution_count": 4,
   "metadata": {},
   "outputs": [
    {
     "data": {
      "text/plain": [
       "{1, 3, 4}"
      ]
     },
     "execution_count": 4,
     "metadata": {},
     "output_type": "execute_result"
    }
   ],
   "source": [
    "s = set(lst)\n",
    "s"
   ]
  },
  {
   "cell_type": "markdown",
   "metadata": {},
   "source": [
    "Tal y como ya lo esperábamos, al momento de construir un conjunto los elementos duplicados se han eliminado.\n",
    "\n",
    "Ahora procederemos a crear un conjunto con el símbolo de las llaves `{}`."
   ]
  },
  {
   "cell_type": "code",
   "execution_count": 5,
   "metadata": {},
   "outputs": [
    {
     "ename": "TypeError",
     "evalue": "unhashable type: 'list'",
     "output_type": "error",
     "traceback": [
      "\u001b[1;31m---------------------------------------------------------------------------\u001b[0m",
      "\u001b[1;31mTypeError\u001b[0m                                 Traceback (most recent call last)",
      "\u001b[1;32m<ipython-input-5-071f1b08b472>\u001b[0m in \u001b[0;36m<module>\u001b[1;34m\u001b[0m\n\u001b[1;32m----> 1\u001b[1;33m \u001b[1;33m{\u001b[0m\u001b[0mlst\u001b[0m\u001b[1;33m}\u001b[0m\u001b[1;33m\u001b[0m\u001b[1;33m\u001b[0m\u001b[0m\n\u001b[0m",
      "\u001b[1;31mTypeError\u001b[0m: unhashable type: 'list'"
     ]
    }
   ],
   "source": [
    "{lst}"
   ]
  },
  {
   "cell_type": "markdown",
   "metadata": {},
   "source": [
    "Esto sucede dado que las llaves `{}` sólo las podemos emplear cuando ingresamos una secuencia de longitud arbitraria."
   ]
  },
  {
   "cell_type": "code",
   "execution_count": 9,
   "metadata": {},
   "outputs": [
    {
     "data": {
      "text/plain": [
       "{1, 3, 4, 'hola'}"
      ]
     },
     "execution_count": 9,
     "metadata": {},
     "output_type": "execute_result"
    }
   ],
   "source": [
    "s = {1, 1, 3, 4, 4, 1, 3, \"hola\"}\n",
    "s"
   ]
  },
  {
   "cell_type": "markdown",
   "metadata": {},
   "source": [
    "Finalmente, la creación de un conjunto a partir de una cadena de texto podría ser de interés como solución a cierto tipo de problemas. Veamos cómo funcion."
   ]
  },
  {
   "cell_type": "code",
   "execution_count": 12,
   "metadata": {},
   "outputs": [
    {
     "data": {
      "text/plain": [
       "{'i', 'm', 'p', 's'}"
      ]
     },
     "execution_count": 12,
     "metadata": {},
     "output_type": "execute_result"
    }
   ],
   "source": [
    "set(\"mississippi\")"
   ]
  },
  {
   "cell_type": "markdown",
   "metadata": {},
   "source": [
    "En el anterior ejemplo se muestra claramente que no se mantiene el orden original."
   ]
  },
  {
   "cell_type": "markdown",
   "metadata": {},
   "source": [
    "### Operaciones y Métodos de Conjuntos\n",
    "\n",
    "Aquellos que estén familiarizados con los conjuntos desde una perspectiva matemática, sabrán que existen una serie de operaciones como la unión, intersección, diferencia, etc.\n",
    "\n",
    "En esta sección veremos algunas de las operaciones para las que los conjuntos pueden ser una excelente alternativa."
   ]
  },
  {
   "cell_type": "code",
   "execution_count": 19,
   "metadata": {},
   "outputs": [],
   "source": [
    "s1 = {1, 2, 3, 4}\n",
    "s2 = {3, 4, 5, 6}"
   ]
  },
  {
   "cell_type": "code",
   "execution_count": 20,
   "metadata": {},
   "outputs": [
    {
     "data": {
      "text/plain": [
       "{1, 2, 3, 4, 5, 6}"
      ]
     },
     "execution_count": 20,
     "metadata": {},
     "output_type": "execute_result"
    }
   ],
   "source": [
    "# Unión \n",
    "\n",
    "s1 | s2"
   ]
  },
  {
   "cell_type": "code",
   "execution_count": 21,
   "metadata": {},
   "outputs": [
    {
     "data": {
      "text/plain": [
       "{3, 4}"
      ]
     },
     "execution_count": 21,
     "metadata": {},
     "output_type": "execute_result"
    }
   ],
   "source": [
    "# Intersección\n",
    "\n",
    "s1 & s2"
   ]
  },
  {
   "cell_type": "code",
   "execution_count": 23,
   "metadata": {},
   "outputs": [
    {
     "data": {
      "text/plain": [
       "{1, 2}"
      ]
     },
     "execution_count": 23,
     "metadata": {},
     "output_type": "execute_result"
    }
   ],
   "source": [
    "# Diferencia \n",
    "s1 - s2"
   ]
  },
  {
   "cell_type": "code",
   "execution_count": 24,
   "metadata": {},
   "outputs": [
    {
     "data": {
      "text/plain": [
       "{1, 2, 5, 6}"
      ]
     },
     "execution_count": 24,
     "metadata": {},
     "output_type": "execute_result"
    }
   ],
   "source": [
    "# Diferencia simétrica \n",
    "\n",
    "s1 ^ s2 "
   ]
  },
  {
   "cell_type": "code",
   "execution_count": 27,
   "metadata": {},
   "outputs": [
    {
     "data": {
      "text/plain": [
       "{1, 2, 3, 4}"
      ]
     },
     "execution_count": 27,
     "metadata": {},
     "output_type": "execute_result"
    }
   ],
   "source": [
    "# Test de contención\n",
    "s1"
   ]
  },
  {
   "cell_type": "code",
   "execution_count": 25,
   "metadata": {},
   "outputs": [
    {
     "data": {
      "text/plain": [
       "True"
      ]
     },
     "execution_count": 25,
     "metadata": {},
     "output_type": "execute_result"
    }
   ],
   "source": [
    "1 in s1"
   ]
  },
  {
   "cell_type": "code",
   "execution_count": 28,
   "metadata": {},
   "outputs": [
    {
     "data": {
      "text/plain": [
       "False"
      ]
     },
     "execution_count": 28,
     "metadata": {},
     "output_type": "execute_result"
    }
   ],
   "source": [
    "5 in s1"
   ]
  },
  {
   "cell_type": "markdown",
   "metadata": {},
   "source": [
    "## Booleans\n",
    "\n",
    "Dentro de Python también se ha implementado una subclase de los enteros, llamados Booleans. Esta subclase se compone sólo de dos valores `True` (1) y `False` (0).\n",
    "\n",
    "Como tal, las funciones normales de creación y eliminación no se aplican a los valores booleanos, i.e. los dos valores posibles se inicializan junto con Python y ambos estarán siempre en un mismo slot de memoria.\n",
    "\n",
    "En esta subsección revisaremos los siguientes puntos:\n",
    "\n",
    "    1.) Operaciones \n",
    "    2.) Comparaciones\n",
    "\n",
    "### Operaciones\n",
    "\n",
    "Estas son las operaciones con booleans, ordenadas de manera ascendente por prioridad:\n",
    "\n",
    "<table>\n",
    "<tr>\n",
    "    <th>Operación</th> \n",
    "    <th>Resultado</th>\n",
    "</tr>\n",
    "\n",
    "<tr>\n",
    "    <td>A or B</td>\n",
    "    <td>Si A es False, entonces B, cualquier otro caso A</td> \n",
    "</tr>\n",
    "\n",
    "<tr>\n",
    "    <td>A and B</td>\n",
    "    <td>Si A es False, entonces A, cualquier otro caso B</td> \n",
    "</tr>\n",
    "\n",
    "<tr>\n",
    "    <td>not A</td>\n",
    "    <td>Si A es False, entonces True, cualquier otro caso False</td> \n",
    "</tr>\n",
    "    \n",
    "</table>\n",
    " \n"
   ]
  },
  {
   "cell_type": "code",
   "execution_count": 32,
   "metadata": {},
   "outputs": [],
   "source": [
    "A = False  \n",
    "B = True"
   ]
  },
  {
   "cell_type": "code",
   "execution_count": 34,
   "metadata": {},
   "outputs": [
    {
     "data": {
      "text/plain": [
       "True"
      ]
     },
     "execution_count": 34,
     "metadata": {},
     "output_type": "execute_result"
    }
   ],
   "source": [
    "# test\n",
    "A or B"
   ]
  },
  {
   "cell_type": "markdown",
   "metadata": {},
   "source": [
    "### Comparaciones\n",
    "\n",
    "Existen ocho operaciones de comparación en Python. Todas tienen la misma prioridad (que es más alta que la de las operaciones booleanas). Las comparaciones se pueden encadenar arbitrariamente; por ejemplo, `x <y <= z` es equivalente a `x <y e y <= z`.\n",
    "\n",
    "Esta tabla resume las operaciones de comparación:\n",
    "\n",
    "<table>\n",
    "<tr>\n",
    "    <th>Comparación</th> \n",
    "    <th>Significado</th>\n",
    "</tr>\n",
    "\n",
    "<tr>\n",
    "    <td> < </td>\n",
    "    <td>Menor estricto</td> \n",
    "</tr>\n",
    "\n",
    "<tr>\n",
    "    <td><= </td>\n",
    "    <td>Menor o igual</td> \n",
    "</tr>\n",
    "\n",
    "<tr>\n",
    "    <td>></td>\n",
    "    <td>Mayor estricto</td> \n",
    "</tr>\n",
    "    \n",
    "<tr>\n",
    "    <td>>=</td>\n",
    "    <td>Mayor o igual</td> \n",
    "</tr>\n",
    "<tr>\n",
    "    <td>==</td>\n",
    "    <td>Igual</td> \n",
    "</tr>\n",
    "<tr>\n",
    "    <td>!=</td>\n",
    "    <td>No igual</td> \n",
    "</tr>\n",
    "<tr>\n",
    "    <td>is</td>\n",
    "    <td>Idéntico</td> \n",
    "</tr>\n",
    "<tr>\n",
    "    <td>is not</td>\n",
    "    <td>No idéntico</td> \n",
    "</tr>\n",
    "</table>"
   ]
  },
  {
   "cell_type": "code",
   "execution_count": 40,
   "metadata": {},
   "outputs": [
    {
     "data": {
      "text/plain": [
       "True"
      ]
     },
     "execution_count": 40,
     "metadata": {},
     "output_type": "execute_result"
    }
   ],
   "source": [
    "# Menor estricto \n",
    "\n",
    "1 < 2 "
   ]
  },
  {
   "cell_type": "code",
   "execution_count": 42,
   "metadata": {},
   "outputs": [
    {
     "data": {
      "text/plain": [
       "True"
      ]
     },
     "execution_count": 42,
     "metadata": {},
     "output_type": "execute_result"
    }
   ],
   "source": [
    "# Menor o igual\n",
    "\n",
    "5<=5"
   ]
  },
  {
   "cell_type": "code",
   "execution_count": 43,
   "metadata": {},
   "outputs": [
    {
     "data": {
      "text/plain": [
       "False"
      ]
     },
     "execution_count": 43,
     "metadata": {},
     "output_type": "execute_result"
    }
   ],
   "source": [
    "# Mayor estricto\n",
    "\n",
    "3 > 4"
   ]
  },
  {
   "cell_type": "code",
   "execution_count": 46,
   "metadata": {},
   "outputs": [
    {
     "data": {
      "text/plain": [
       "False"
      ]
     },
     "execution_count": 46,
     "metadata": {},
     "output_type": "execute_result"
    }
   ],
   "source": [
    "# Mayor o igual\n",
    "\n",
    "10 >= 11"
   ]
  },
  {
   "cell_type": "code",
   "execution_count": 61,
   "metadata": {},
   "outputs": [
    {
     "data": {
      "text/plain": [
       "True"
      ]
     },
     "execution_count": 61,
     "metadata": {},
     "output_type": "execute_result"
    }
   ],
   "source": [
    "# Igual \n",
    "\n",
    "a = [1, 2, 3]\n",
    "b = a.copy()\n",
    "a == b"
   ]
  },
  {
   "cell_type": "code",
   "execution_count": 62,
   "metadata": {},
   "outputs": [
    {
     "data": {
      "text/plain": [
       "False"
      ]
     },
     "execution_count": 62,
     "metadata": {},
     "output_type": "execute_result"
    }
   ],
   "source": [
    "c = (1, 2, 3)\n",
    "a == c"
   ]
  },
  {
   "cell_type": "code",
   "execution_count": 63,
   "metadata": {},
   "outputs": [
    {
     "data": {
      "text/plain": [
       "True"
      ]
     },
     "execution_count": 63,
     "metadata": {},
     "output_type": "execute_result"
    }
   ],
   "source": [
    "# No igual\n",
    "a != c"
   ]
  },
  {
   "cell_type": "code",
   "execution_count": 64,
   "metadata": {},
   "outputs": [
    {
     "name": "stdout",
     "output_type": "stream",
     "text": [
      "[1, 2, 3]\n",
      "[1, 2, 3]\n"
     ]
    },
    {
     "data": {
      "text/plain": [
       "False"
      ]
     },
     "execution_count": 64,
     "metadata": {},
     "output_type": "execute_result"
    }
   ],
   "source": [
    "# Idéntico\n",
    "print(a)\n",
    "print(b)\n",
    "a is b"
   ]
  },
  {
   "cell_type": "code",
   "execution_count": 65,
   "metadata": {},
   "outputs": [
    {
     "name": "stdout",
     "output_type": "stream",
     "text": [
      "ID de a: 2700547754560\n",
      "ID de b: 2700549070912\n"
     ]
    }
   ],
   "source": [
    "print(\"ID de a:\",id(a))\n",
    "print(\"ID de b:\",id(b))"
   ]
  },
  {
   "cell_type": "code",
   "execution_count": 66,
   "metadata": {},
   "outputs": [
    {
     "data": {
      "text/plain": [
       "True"
      ]
     },
     "execution_count": 66,
     "metadata": {},
     "output_type": "execute_result"
    }
   ],
   "source": [
    "# No idéntico \n",
    "\n",
    "a is not b"
   ]
  },
  {
   "cell_type": "code",
   "execution_count": 67,
   "metadata": {},
   "outputs": [
    {
     "data": {
      "text/plain": [
       "False"
      ]
     },
     "execution_count": 67,
     "metadata": {},
     "output_type": "execute_result"
    }
   ],
   "source": [
    "a = 1\n",
    "b = 1\n",
    "\n",
    "a is not b"
   ]
  }
 ],
 "metadata": {
  "kernelspec": {
   "display_name": "Python 3",
   "language": "python",
   "name": "python3"
  },
  "language_info": {
   "codemirror_mode": {
    "name": "ipython",
    "version": 3
   },
   "file_extension": ".py",
   "mimetype": "text/x-python",
   "name": "python",
   "nbconvert_exporter": "python",
   "pygments_lexer": "ipython3",
   "version": "3.8.8"
  }
 },
 "nbformat": 4,
 "nbformat_minor": 4
}
