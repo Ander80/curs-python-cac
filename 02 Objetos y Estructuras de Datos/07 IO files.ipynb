{
 "cells": [
  {
   "cell_type": "markdown",
   "metadata": {
    "pycharm": {
     "name": "#%%\n"
    }
   },
   "source": [
    "# IO Files\n",
    "\n",
    "\n",
    "En esta lección aprenderemos el sistema base de python para importar y exportar archivos, concretamente veremos:\n",
    "\n",
    "1. ¿Qué es un archivo?\n",
    "2. Abrir y cerrar archivos en Python\n",
    "2. Escribir y leer archivos en Python\n",
    "\n",
    "\n",
    "## ¿Qué es un archivo?\n",
    "\n",
    "Antes de trabajar con archivos en Python es importante entender qué es exactamente un archivo, y cómo son gestionados por los systemas operativos. \n",
    "\n",
    "En esencia, un archivo es un conjunto de bytes que se utiliza para almacenar datos. Estos datos están organizados en un formato específico y pueden ser algo tan simple como un archivo de texto o tan complicado como un ejecutable, e.g. python. \n",
    "\n",
    "Los archivos en la mayoría de sistemas tienen tres partes principales:\n",
    "\n",
    "- **Encabezado**: metadatos sobre el contenido del archivo (nombre de archivo, tamaño, tipo, etc.)\n",
    "- **Datos**: contenido del archivo escrito por el creador o editor.\n",
    "- **End of file (EOF)**: carácter especial que indica el final del archivo.\n",
    "\n",
    "### Rutas de archivos\n",
    "\n",
    "Cuando accedemos a un archivo en un sistema operativo, se requiere una ruta de archivo. **La ruta del archivo es una cadena de texto que representa la ubicación de un archivo**. Se divide en tres partes principales:\n",
    "\n",
    "- **Ruta de la carpeta**: la ubicación de la carpeta de archivos en el sistema de archivos, donde las carpetas subsiguientes están separadas por una barra diagonal / (Unix) o una barra diagonal inversa \\ (Windows).\n",
    "- **Nombre de archivo**: el nombre real del archivo.\n",
    "- **Extensión**: el final de la ruta del archivo precedido por un punto (.) utilizado para indicar el tipo de archivo \n",
    "\n",
    "Ejemplo windows\n",
    "\n",
    "````\n",
    "\"C:\\Users\\heber\\ejemplo.txt\"\n",
    "\n",
    "````\n",
    "\n",
    "Ejemplo Unix\n",
    "\n",
    "````\n",
    "\"/home/heber/ejemplo.txt\"\n",
    "\n",
    "````\n",
    "\n",
    "### Codificaciones de caracteres\n",
    "\n",
    "Otro aspecto importante es la codificación de los datos a bytes. Una codificación es una traducción de bytes a caracteres legibles por humanos. Esto normalmente se hace asignando un valor numérico para representar un carácter. \n",
    "\n",
    "Por ejemplo:\n",
    "\n",
    "````\n",
    "a => 1\n",
    "b => 2\n",
    "c => 3\n",
    "...\n",
    "````\n",
    "\n",
    "Las dos codificaciones más comunes son los formatos [ASCII](https://www.ascii-code.com/) y [UTF-8](https://home.unicode.org/). ASCII solo puede almacenar 128 caracteres, mientras que Unicode puede contener hasta 1.114.112 caracteres.\n",
    "\n",
    "\n",
    "\n",
    "## Abrir y cerrar archivos en Python\n",
    "\n",
    "\n",
    "Para trabajar con un archivo desde python, lo primero que debemos hacer es abrirlo. Esto se hace usando la función pre-instalada de python `open()`. La manera más sencilla de usar la función tiene la siguiente forma:\n",
    "\n",
    "```\n",
    "f = open(file='ruta archivo')\n",
    "```\n",
    "\n",
    "Por ejemplo, para abrir un archivo dentro del actual directorio de trabajo, asumiendo que existe el archivo, ejecutaremos el siguiente comando:"
   ]
  },
  {
   "cell_type": "code",
   "execution_count": 12,
   "metadata": {
    "pycharm": {
     "name": "#%%\n"
    }
   },
   "outputs": [
    {
     "data": {
      "text/plain": [
       "<_io.TextIOWrapper name='./test.txt' mode='r' encoding='UTF-8'>"
      ]
     },
     "execution_count": 12,
     "metadata": {},
     "output_type": "execute_result"
    }
   ],
   "source": [
    "f = open(file='./test.txt')\n",
    "f"
   ]
  },
  {
   "cell_type": "markdown",
   "metadata": {},
   "source": [
    "Después de abrir un archivo, lo siguiente que debe aprender es cómo cerrarlo.\n",
    "\n",
    "> **IMPORTANTE**: Siempre debe asegurarse de que un archivo abierto esté correctamente cerrado. Los sistemas operativos limitan la cantidad de archivos abiertos que puede tener un solo proceso.\n",
    "\n",
    "En la mayoría de los casos, al finalizar la ejecución de Python, los archivos abiertos se cerrará. Sin embargo, no hay garantía de cuándo sucederá exactamente eso. Esto puede conducir a un comportamiento no deseado, e.g. fugas de recursos.\n",
    "\n",
    "La manera más fácil es llamando al método `.close()` de la clase file.\n"
   ]
  },
  {
   "cell_type": "code",
   "execution_count": 13,
   "metadata": {},
   "outputs": [],
   "source": [
    "f.close()"
   ]
  },
  {
   "cell_type": "markdown",
   "metadata": {},
   "source": [
    "La manera más correcta es encapsular la manipulación del archivo dento del comando `with`. El comando `with` automáticamente se encarga de cerrar el archivo una vez que sale del bloque de indentación, incluso si ocurre un error. Recomiendo encarecidamente que utilizar `with` siempre que sea posible, ya que ayuda a escribir código más limpio y facilita la gestión de errores inesperados.\n",
    "\n",
    "La sintaxis es la siguiente"
   ]
  },
  {
   "cell_type": "code",
   "execution_count": 14,
   "metadata": {},
   "outputs": [],
   "source": [
    "with open(file='./test.txt', mode='r') as f:\n",
    "    pass "
   ]
  },
  {
   "cell_type": "markdown",
   "metadata": {},
   "source": [
    "Donde:\n",
    "\n",
    "- El argumento `file` sirve para indicar la ruta absoluta o relativa al archivo que queremos leer\n",
    "- El argumento `mode` indica el modo de conexión al archivo, existen varias opciones, pero la más comunes son:\n",
    "    - 'r': Modo lectura.\n",
    "    - 'w': Modo escritura, esto truca el archivo, i.e. eliminar el contenido del archivo sin borrarlo.\n",
    "    - 'a': Modo escritura, añadiendo al final del archivo el nuevo contenido si existe el archivo.\n",
    "    - 'x': Modo de creación, fallará si ya existe el archivo.\n",
    "- El comando `pass` indica a Python que no haga nada"
   ]
  },
  {
   "cell_type": "markdown",
   "metadata": {},
   "source": [
    "## Escribir y leer archivos en Python\n",
    "\n",
    "\n",
    "### Lectura\n",
    "\n",
    "Es muy probable que una vez que hayamos abierto un archivo, querramos leerlo o escribirlo. Primero cubriremos la lectura de un archivo. Hay varios métodos que se pueden usar:\n",
    "\n",
    "<table>\n",
    "<tr>\n",
    "    <th>Método</th> \n",
    "    <th>¿Qué hace?</th>\n",
    "</tr>\n",
    "\n",
    "<tr>\n",
    "    <td>.read(size=-1)</td>\n",
    "    <td>Lee tantos bytes del archivo según el valor del argumento size. Si no se pasa ningún argumento o -1, entonces se lee todo el archivo.</td> \n",
    "</tr>\n",
    "\n",
    "<tr>\n",
    "    <td>.readlines()</td> \n",
    "    <td>Lee tantos caracteres de una línea según el valor del arrgumento `size`. Esto continúa hasta el final de la línea. Si no se pasa ningún argumento o -1, entonces se lee toda la línea (o el resto de la línea).</td> \n",
    "</tr>\n",
    "<tr>\n",
    "    <td>.readline(size=-1)\t</td> \n",
    "            <td>Lee las líneas restantes del objeto de archivo y las devuelve como una lista.</td> \n",
    "</tr>\n",
    " </table>\n",
    " \n",
    "Usando el mismo archivo `'test.txt'` que usamos anteriormente, veamos algunos ejemplos de cómo usar estos métodos. Aquí hay un ejemplo de cómo abrir y leer el archivo completo usando `.read()`:"
   ]
  },
  {
   "cell_type": "code",
   "execution_count": 15,
   "metadata": {},
   "outputs": [
    {
     "name": "stdout",
     "output_type": "stream",
     "text": [
      "Hola\n",
      "siguiente línea\n",
      "tercera línea\n"
     ]
    }
   ],
   "source": [
    "with open(file='./test.txt', mode='r') as f:\n",
    "    contenido = f.read()\n",
    "print(contenido)"
   ]
  },
  {
   "cell_type": "code",
   "execution_count": 23,
   "metadata": {},
   "outputs": [
    {
     "data": {
      "text/plain": [
       "'Hola\\nsiguiente línea\\ntercera línea'"
      ]
     },
     "execution_count": 23,
     "metadata": {},
     "output_type": "execute_result"
    }
   ],
   "source": [
    "contenido"
   ]
  },
  {
   "cell_type": "code",
   "execution_count": 25,
   "metadata": {},
   "outputs": [
    {
     "name": "stdout",
     "output_type": "stream",
     "text": [
      "Hol\n",
      "a\n",
      "\n",
      "sig\n"
     ]
    }
   ],
   "source": [
    "with open(file='./test.txt', mode='r') as f:\n",
    "    print(f.readline(3))\n",
    "    print(f.readline(3))\n",
    "    print(f.readline(3))\n"
   ]
  },
  {
   "cell_type": "code",
   "execution_count": 26,
   "metadata": {},
   "outputs": [
    {
     "data": {
      "text/plain": [
       "['Hola\\n', 'siguiente línea\\n', 'tercera línea']"
      ]
     },
     "execution_count": 26,
     "metadata": {},
     "output_type": "execute_result"
    }
   ],
   "source": [
    "with open(file='./test.txt', mode='r') as f:\n",
    "    con_lst = f.readlines()\n",
    "con_lst"
   ]
  },
  {
   "cell_type": "markdown",
   "metadata": {},
   "source": [
    "### Escritura\n",
    "\n",
    "Ahora veremos cómo escribir archivos. Al igual que con la lectura de archivos, exsten métodos que son útiles para escribir en un archivo.\n",
    "\n",
    "\n",
    "<table>\n",
    "<tr>\n",
    "    <th>Método</th> \n",
    "    <th>¿Qué hace?</th>\n",
    "</tr>\n",
    "\n",
    "<tr>\n",
    "    <td>.write(string))</td>\n",
    "    <td>Escribe la cadena de texto en un archivo.</td> \n",
    "</tr>\n",
    "\n",
    "<tr>\n",
    "    <td>.readlines()</td> \n",
    "    <td>Escribe una secuencia, e.g. una lista, al archivo. No se añaden finales de línea a cada elemento de secuencia. Depende de nosotros agregar los finales de línea apropiados.</td> \n",
    "</tr>\n",
    " </table>\n"
   ]
  },
  {
   "cell_type": "code",
   "execution_count": 27,
   "metadata": {},
   "outputs": [
    {
     "data": {
      "text/plain": [
       "['Hola\\n', 'siguiente línea\\n', 'tercera línea']"
      ]
     },
     "execution_count": 27,
     "metadata": {},
     "output_type": "execute_result"
    }
   ],
   "source": [
    "with open(file='./test_2.txt', mode='w') as f:\n",
    "    f.write(\"Nuevo archic\")"
   ]
  },
  {
   "cell_type": "code",
   "execution_count": null,
   "metadata": {},
   "outputs": [],
   "source": [
    "lst = [\"abc\", \"-123\\n\", \":)\"]"
   ]
  }
 ],
 "metadata": {
  "kernelspec": {
   "display_name": "Python 3 (ipykernel)",
   "language": "python",
   "name": "python3"
  },
  "language_info": {
   "codemirror_mode": {
    "name": "ipython",
    "version": 3
   },
   "file_extension": ".py",
   "mimetype": "text/x-python",
   "name": "python",
   "nbconvert_exporter": "python",
   "pygments_lexer": "ipython3",
   "version": "3.8.6"
  }
 },
 "nbformat": 4,
 "nbformat_minor": 1
}
