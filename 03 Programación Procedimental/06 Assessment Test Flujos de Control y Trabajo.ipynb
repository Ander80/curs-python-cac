{
 "cells": [
  {
   "cell_type": "markdown",
   "metadata": {},
   "source": [
    "## Ejercicio 1\n",
    "\n",
    "Dado un entero `n`, ingresado por el usuario. Crea una lista con los `n` primeros números (excluyendo al cero) divisibles entre 3, i.e. que al dividirlos entre 3 su residuo es 0.\n",
    "\n",
    "hint: puedes usar la función `input()` para solicitar que el usuario introduzca un entero y validar que efectivamente sea un entero. El loop `while` podría ser una buena alternativa. \n"
   ]
  },
  {
   "cell_type": "code",
   "execution_count": null,
   "metadata": {},
   "outputs": [],
   "source": [
    "# Escribe tu código aquí:"
   ]
  },
  {
   "cell_type": "markdown",
   "metadata": {},
   "source": [
    "Si n=10.\n",
    "\n",
    "Output correcto: `[3, 6, 9, 12, 15, 18, 21, 24, 27, 30]` "
   ]
  },
  {
   "cell_type": "markdown",
   "metadata": {},
   "source": [
    "## Ejercicio 2\n",
    "\n",
    "dado el diccionario `fahrenheit`, declarado debajo, genera otro diccionario con las temperaturas en celsius, redondeando el resultado a 2 dígitos.\n",
    "\n",
    "$$c = (f - 32) * 5/9$$\n",
    "\n",
    "Las llaves del nuevo diccinario, deberán substituir la \"f\" por una \"c\""
   ]
  },
  {
   "cell_type": "code",
   "execution_count": null,
   "metadata": {},
   "outputs": [],
   "source": [
    "fahrenheit = {'t1 f':-30, 't2 f':-20, 't3 f':-10, 't4 f':0}"
   ]
  },
  {
   "cell_type": "code",
   "execution_count": null,
   "metadata": {},
   "outputs": [],
   "source": [
    "# Escribe tu código aquí:"
   ]
  },
  {
   "cell_type": "markdown",
   "metadata": {},
   "source": [
    "Output correcto: `{'t1 c': -34.44, 't2 c': -28.89, 't3 c': -23.33, 't4 c': -17.78}` "
   ]
  },
  {
   "cell_type": "markdown",
   "metadata": {},
   "source": [
    "## Ejercicio 3\n",
    "\n",
    "Dada la cadena de texto `text` abajo declarada, crea una lista que contenga sólo aquellas palabras que inicien con la letra \"l\" o la letra \"m\" (sin importar si es mayúscula o minúscula).\n",
    "\n",
    "Importante: Elimina las `,` de la cadena de texto.\n",
    "\n",
    "hint: Recuerda que puedes utilizar métodos de las cadenas de texto como `split()`. También recuerda que la expreción `3 in [1, 2, 3]` regresa `True`  "
   ]
  },
  {
   "cell_type": "code",
   "execution_count": null,
   "metadata": {},
   "outputs": [],
   "source": [
    "text = \"En un lugar de la Mancha, de cuyo nombre no quiero acordarme, no ha mucho tiempo que vivía un hidalgo de los de lanza,\""
   ]
  },
  {
   "cell_type": "code",
   "execution_count": null,
   "metadata": {},
   "outputs": [],
   "source": [
    "# Escribe tu código aquí:"
   ]
  },
  {
   "cell_type": "markdown",
   "metadata": {},
   "source": [
    "Output correcto: `['lugar', 'la', 'Mancha', 'mucho', 'los', 'lanza']` "
   ]
  }
 ],
 "metadata": {
  "kernelspec": {
   "display_name": "Python 3",
   "language": "python",
   "name": "python3"
  },
  "language_info": {
   "codemirror_mode": {
    "name": "ipython",
    "version": 3
   },
   "file_extension": ".py",
   "mimetype": "text/x-python",
   "name": "python",
   "nbconvert_exporter": "python",
   "pygments_lexer": "ipython3",
   "version": "3.8.8"
  }
 },
 "nbformat": 4,
 "nbformat_minor": 4
}
