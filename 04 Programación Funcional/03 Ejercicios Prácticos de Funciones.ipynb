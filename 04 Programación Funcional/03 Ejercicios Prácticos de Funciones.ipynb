{
 "cells": [
  {
   "cell_type": "markdown",
   "metadata": {},
   "source": [
    "# Ejercicios Prácticos de Funciones\n",
    "\n",
    "En esta sección realizaremos ejercicios con un grado de dificultad ascendente. En algunos casos será necesaria una pequeña búsqueda usando Google + Stack Overflow."
   ]
  },
  {
   "cell_type": "markdown",
   "metadata": {},
   "source": [
    "## Ejercicio 1 - Yoda\n",
    "<img src=\"../files/MaestroYoda.jpg\" width=\"250\">\n",
    "\n",
    "Dada una cadena de texto, invertir el orden en el que las palabras aparecen. Por ejemplo:\n",
    "\n",
    "`\"I am Yoda\"` $\\rightarrow$ `\"Yoda am I\"`"
   ]
  },
  {
   "cell_type": "code",
   "execution_count": null,
   "metadata": {},
   "outputs": [],
   "source": [
    "def yoda(text):\n",
    "    # Escribe aquí tu código\n",
    "    pass"
   ]
  },
  {
   "cell_type": "code",
   "execution_count": null,
   "metadata": {},
   "outputs": [],
   "source": [
    "# Verifica tu respuesta\n",
    "text = \"I am Yoda\"\n",
    "yoda(text)"
   ]
  },
  {
   "cell_type": "markdown",
   "metadata": {},
   "source": [
    "## Ejercicio 2 - Tiene 33\n",
    "\n",
    "Dada una lista de número, regresa el valor `True` si la lista contiene al menos un 3 junto a otro 3. Por ejemplo\n",
    "\n",
    "* `[1,3,3]` $\\rightarrow$ `True`\n",
    "* `[3,1,3]` $\\rightarrow$ `False`\n",
    "* `[4,1,3,3]` $\\rightarrow$ `True`"
   ]
  },
  {
   "cell_type": "code",
   "execution_count": null,
   "metadata": {},
   "outputs": [],
   "source": [
    "def tiene_33(lst):\n",
    "    # Escribe aquí tu código\n",
    "    pass"
   ]
  },
  {
   "cell_type": "code",
   "execution_count": null,
   "metadata": {},
   "outputs": [],
   "source": [
    "tiene_33([1,3,3])"
   ]
  },
  {
   "cell_type": "code",
   "execution_count": null,
   "metadata": {},
   "outputs": [],
   "source": [
    "tiene_33([3,1,3])"
   ]
  },
  {
   "cell_type": "code",
   "execution_count": null,
   "metadata": {},
   "outputs": [],
   "source": [
    "tiene_33([4,1,3,3])"
   ]
  },
  {
   "cell_type": "markdown",
   "metadata": {},
   "source": [
    "## Ejercicio 3 - Contar Primos \n",
    "\n",
    "Escribir una función que cuente cuántos [números primos](https://es.wikipedia.org/wiki/N%C3%BAmero_primo) existen hasta un numero dado por el usuario.\n",
    "\n",
    "Por convención, se asume que el $0$ y el $1$ no son número primos.\n",
    "\n",
    "* `count_prim(100)` $\\rightarrow$ `25`\n",
    "* `count_prim(50)` $\\rightarrow$ `15`\n"
   ]
  },
  {
   "cell_type": "code",
   "execution_count": null,
   "metadata": {},
   "outputs": [],
   "source": [
    "def count_prim(limit):\n",
    "    # Escribe aquí tu código\n",
    "    pass  \n",
    "    "
   ]
  },
  {
   "cell_type": "code",
   "execution_count": null,
   "metadata": {},
   "outputs": [],
   "source": [
    "count_prim(100)"
   ]
  },
  {
   "cell_type": "code",
   "execution_count": null,
   "metadata": {},
   "outputs": [],
   "source": [
    "count_prim(50)"
   ]
  }
 ],
 "metadata": {
  "kernelspec": {
   "display_name": "Python 3",
   "language": "python",
   "name": "python3"
  },
  "language_info": {
   "codemirror_mode": {
    "name": "ipython",
    "version": 3
   },
   "file_extension": ".py",
   "mimetype": "text/x-python",
   "name": "python",
   "nbconvert_exporter": "python",
   "pygments_lexer": "ipython3",
   "version": "3.8.8"
  }
 },
 "nbformat": 4,
 "nbformat_minor": 4
}
