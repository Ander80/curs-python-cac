{
 "cells": [
  {
   "cell_type": "markdown",
   "metadata": {},
   "source": [
    "# Ejercicios Prácticos de Funciones 2"
   ]
  },
  {
   "cell_type": "markdown",
   "metadata": {},
   "source": [
    "## Ejercicio 1 \n",
    "\n",
    "Escribe una función que dado una cadena de texto, indique mediante el uso de la función `print()` el número de letras mayúsculas y minúsculas. Por ejemplo:\n",
    "\n",
    "Dada la cadena de texto:\n",
    "\n",
    "`s = \"Los Castores son un género de roedores semiacuáticos nativos de América del Norte y Eurasia\"` \n",
    "\n",
    "Resultado:\n",
    "\n",
    "`\n",
    "El número de mayúsculas es: 5\n",
    "el número de minúsculas es: 72\n",
    "`\n",
    "\n",
    "Hint: Las cadenas de texto tienen un método que valida si una letra es mayúscula po minúscula."
   ]
  },
  {
   "cell_type": "code",
   "execution_count": 4,
   "metadata": {},
   "outputs": [
    {
     "name": "stdout",
     "output_type": "stream",
     "text": [
      "El número de mayúsculas es: 5\n",
      "El número de minúsculas es: 72\n"
     ]
    }
   ],
   "source": [
    "s = \"Los Castores son un género de roedores semiacuáticos nativos de América del Norte y Eurasia\"\n",
    "def contador(s):\n",
    "    # Escribe tu código aquí\n",
    "    pass\n",
    "contador(s)"
   ]
  },
  {
   "cell_type": "markdown",
   "metadata": {},
   "source": [
    "## Ejercicio 2\n",
    "\n",
    "Escribe una función que dada una lista de número de longitud arbitraria, calcule:\n",
    "\n",
    "* Media/promedio: $ \\mu = \\dfrac{1}{N}\\sum\\limits_{i=1}^N x_{i}$\n",
    "* Desviación estándar: $\\sigma = \\sqrt{\\dfrac{1}{N}\\sum\\limits_{i=1}^N (x_{i} - \\mu)^2}$\n",
    "\n",
    "El resultado debe ser regresado al usuario usando *tuple unpacking*, en donde el primer valor será la media y el segundo la desviación estándar. Por ejemplo:\n",
    "\n",
    "Dada la lista:\n",
    "\n",
    "`lst = [1, 4, 11, 23, 45, 11, 4, 1, 11, 11]`\n",
    "\n",
    "Resultado:\n",
    "\n",
    "`(12.2, 12.58)` "
   ]
  },
  {
   "cell_type": "code",
   "execution_count": 17,
   "metadata": {},
   "outputs": [
    {
     "data": {
      "text/plain": [
       "(12.2, 12.584116973391499)"
      ]
     },
     "execution_count": 17,
     "metadata": {},
     "output_type": "execute_result"
    }
   ],
   "source": [
    "lst = [1, 4, 11, 23, 45, 11, 4, 1, 11, 11]\n",
    "\n",
    "def resumen(lst):\n",
    "    # Escribe tu código aquí\n",
    "    pass \n",
    "resumen(lst)"
   ]
  }
 ],
 "metadata": {
  "kernelspec": {
   "display_name": "Python 3 (ipykernel)",
   "language": "python",
   "name": "python3"
  },
  "language_info": {
   "codemirror_mode": {
    "name": "ipython",
    "version": 3
   },
   "file_extension": ".py",
   "mimetype": "text/x-python",
   "name": "python",
   "nbconvert_exporter": "python",
   "pygments_lexer": "ipython3",
   "version": "3.8.6"
  }
 },
 "nbformat": 4,
 "nbformat_minor": 4
}
