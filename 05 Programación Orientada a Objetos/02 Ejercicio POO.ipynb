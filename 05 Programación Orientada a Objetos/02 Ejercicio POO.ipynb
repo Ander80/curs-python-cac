{
 "cells": [
  {
   "cell_type": "markdown",
   "metadata": {},
   "source": [
    "# Ejercicio Programación Orientada a Objetos\n",
    "\n",
    "\n",
    "Este es un ejercicio clásico de la programación orientada a objetos, y es muy probable que sea la idea base que opera en los sistemas bancarios. \n",
    "\n",
    "El objetivo será crear una clase `CuentaBancaria` con:\n",
    "\n",
    "1. Atributos:\n",
    "    + titular\n",
    "    + balance: por defecto 500\n",
    "2. Métodos:\n",
    "    + depositar\n",
    "    + retirar\n",
    "    \n",
    "3. BONUS - Implementa una solución para que:\n",
    "    cuenta_001 $\\lt$ cuenta_002 $\\rightarrow$ True si y sólo si cuenta_001.balance<cuenta_002.balance\n",
    "    \n",
    "Importante, el método `retirar(monto)` no deberá exceder de el balance disponible al momento de ejecutarse.\n"
   ]
  },
  {
   "cell_type": "code",
   "execution_count": 16,
   "metadata": {},
   "outputs": [],
   "source": [
    "class CuentaBancaria:\n",
    "    \n",
    "    # Tu código aquí\n",
    "    pass"
   ]
  },
  {
   "cell_type": "code",
   "execution_count": 17,
   "metadata": {},
   "outputs": [],
   "source": [
    "cuenta = CuentaBancaria(titular = \"Heber\")"
   ]
  },
  {
   "cell_type": "code",
   "execution_count": 18,
   "metadata": {},
   "outputs": [
    {
     "data": {
      "text/plain": [
       "500"
      ]
     },
     "execution_count": 18,
     "metadata": {},
     "output_type": "execute_result"
    }
   ],
   "source": [
    "cuenta.balance"
   ]
  },
  {
   "cell_type": "code",
   "execution_count": 19,
   "metadata": {},
   "outputs": [
    {
     "name": "stdout",
     "output_type": "stream",
     "text": [
      "No es posible depositar una cantidad negativa\n"
     ]
    }
   ],
   "source": [
    "cuenta.depositar(-10)"
   ]
  },
  {
   "cell_type": "code",
   "execution_count": 20,
   "metadata": {},
   "outputs": [
    {
     "name": "stdout",
     "output_type": "stream",
     "text": [
      "Deposito exitoso!\n",
      "Nuevo balance: 600\n"
     ]
    }
   ],
   "source": [
    "cuenta.depositar(100)"
   ]
  },
  {
   "cell_type": "code",
   "execution_count": 21,
   "metadata": {},
   "outputs": [
    {
     "name": "stdout",
     "output_type": "stream",
     "text": [
      "Retiro exitoso!\n",
      "Nuevo balance: 500\n"
     ]
    }
   ],
   "source": [
    "cuenta.retirar(100)"
   ]
  },
  {
   "cell_type": "code",
   "execution_count": 22,
   "metadata": {},
   "outputs": [
    {
     "name": "stdout",
     "output_type": "stream",
     "text": [
      "Balance en cuenta insuficiente\n"
     ]
    }
   ],
   "source": [
    "cuenta.retirar(800)"
   ]
  },
  {
   "cell_type": "code",
   "execution_count": 23,
   "metadata": {},
   "outputs": [],
   "source": [
    "cuenta_001 = CuentaBancaria(titular = \"Persona 1\", balance = 100)\n",
    "cuenta_002 = CuentaBancaria(titular = \"Persona 2\", balance = 200)\n"
   ]
  },
  {
   "cell_type": "code",
   "execution_count": 24,
   "metadata": {},
   "outputs": [
    {
     "data": {
      "text/plain": [
       "True"
      ]
     },
     "execution_count": 24,
     "metadata": {},
     "output_type": "execute_result"
    }
   ],
   "source": [
    "cuenta_001<cuenta_002"
   ]
  },
  {
   "cell_type": "code",
   "execution_count": null,
   "metadata": {},
   "outputs": [],
   "source": []
  }
 ],
 "metadata": {
  "kernelspec": {
   "display_name": "Python 3",
   "language": "python",
   "name": "python3"
  },
  "language_info": {
   "codemirror_mode": {
    "name": "ipython",
    "version": 3
   },
   "file_extension": ".py",
   "mimetype": "text/x-python",
   "name": "python",
   "nbconvert_exporter": "python",
   "pygments_lexer": "ipython3",
   "version": "3.8.5"
  }
 },
 "nbformat": 4,
 "nbformat_minor": 4
}
