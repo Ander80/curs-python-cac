{
 "cells": [
  {
   "cell_type": "markdown",
   "id": "1e34a10c",
   "metadata": {},
   "source": [
    "# Exceptions en Python\n",
    "\n",
    "Los objetivos de aprendizaje son:\n",
    "\n",
    "1. Motivación.\n",
    "2. Exceptions vs Syntax Errors.\n",
    "3. Cláusula `raise`.\n",
    "4. `AssertionError`.\n",
    "5. Gestión de excepciones: `try` & `except`.\n",
    "6. Cláusula `else`.\n",
    "7. Cláusula `finally`.\n",
    "8. Construir excepciones.\n",
    "\n",
    "## Motivación.\n",
    "\n",
    "Un programa de Python termina tan pronto como encuentra un error. Un error puede ser:\n",
    "\n",
    "- Error de sintaxi.\n",
    "\n",
    "- Excepción. \n",
    "\n",
    "Entender y gestionar las excepciones nos ayudará a crear código más robusto. \n",
    "\n",
    "## Exceptions vs Syntax Errors.\n",
    "\n",
    "Los errores de sintaxis ocurren cuando se detecta una declaración incorrecta:"
   ]
  },
  {
   "cell_type": "code",
   "execution_count": null,
   "id": "64f50aee",
   "metadata": {},
   "outputs": [],
   "source": [
    "print(0/0"
   ]
  },
  {
   "cell_type": "markdown",
   "id": "fad678cb",
   "metadata": {},
   "source": [
    "La flecha indica dónde se encontró el error de sintaxis, en este caso nos falta un paréntesis. Si lo añadimos:"
   ]
  },
  {
   "cell_type": "code",
   "execution_count": null,
   "id": "e5432f1d",
   "metadata": {},
   "outputs": [],
   "source": [
    "print(0/0)"
   ]
  },
  {
   "cell_type": "markdown",
   "id": "d2de0648",
   "metadata": {},
   "source": [
    "Ahora nos encontramos con una error del tipo excepción.\n",
    "\n",
    "> Los errores del tipo excepción ocurre siempre que ocurra un error dentro de código Python sintácticamente correcto.\n",
    "\n",
    "Python nos indicará qué tipo de excepción se encontró. En este caso `ZeroDivisionError`. Python viene con varias excepciones integradas, así como con la posibilidad de crear excepciones propias.\n",
    "\n",
    "## Cláusula `raise`.\n",
    "\n",
    "Podemos usar `raise` para levantar una excepción si ocurre una condición:"
   ]
  },
  {
   "cell_type": "code",
   "execution_count": null,
   "id": "4fbf8a16",
   "metadata": {},
   "outputs": [],
   "source": [
    "from dataclasses import dataclass\n",
    "\n",
    "@dataclass\n",
    "class Poliza:\n",
    "    nombre: str\n",
    "    edad: int\n",
    "\n",
    "\n",
    "def suscribir_poliza(nombre_asegurado: str, edad_asegurado: int) -> Poliza:\n",
    "    \n",
    "    if edad_asegurado<=0:\n",
    "        \n",
    "        raise ValueError(\"Edad de Asegurado debe ser > 0\")\n",
    "    \n",
    "    else:\n",
    "        \n",
    "        return Poliza(nombre=nombre_asegurado, edad=edad_asegurado)"
   ]
  },
  {
   "cell_type": "markdown",
   "id": "6c6c3a4a",
   "metadata": {},
   "source": [
    "Si ejecutamos el siguiente código levantaremos la excepción:"
   ]
  },
  {
   "cell_type": "code",
   "execution_count": null,
   "id": "5dd5b4e3",
   "metadata": {
    "scrolled": true
   },
   "outputs": [],
   "source": [
    "suscribir_poliza(\n",
    "    nombre_asegurado=\"Heber\",\n",
    "    edad_asegurado=10\n",
    ")"
   ]
  },
  {
   "cell_type": "markdown",
   "id": "77a2c966",
   "metadata": {},
   "source": [
    "## `AssertionError`.\n",
    "\n",
    "\n",
    "El `AssertionError` aparece en el contexto de verificar que una condición sea verdadera para validar que el resto del programa se ejecutará de manera correcta.\n",
    "\n",
    "La función `assert()` levantará `AssertionError` si pasamos `False` como argumento, en caso contrario la ejecución seguirá.\n"
   ]
  },
  {
   "cell_type": "code",
   "execution_count": null,
   "id": "81ed0414",
   "metadata": {},
   "outputs": [],
   "source": [
    "def suscribir_poliza(nombre_asegurado: str, edad_asegurado: int) -> Poliza:\n",
    "    \n",
    "    assert(edad_asegurado > 0), \"Edad de Asegurado debe ser > 0\"\n",
    "        \n",
    "    return Poliza(nombre=nombre_asegurado, edad=edad_asegurado)"
   ]
  },
  {
   "cell_type": "markdown",
   "id": "d0fe9802",
   "metadata": {},
   "source": [
    "En este caso la string que está inmediatamente después de la llamada a la función `assert` se mostrará en caso de que la condición sea `False`. "
   ]
  },
  {
   "cell_type": "code",
   "execution_count": null,
   "id": "bfe002b4",
   "metadata": {},
   "outputs": [],
   "source": [
    "suscribir_poliza(\n",
    "    nombre_asegurado=\"Heber\",\n",
    "    edad_asegurado=0\n",
    ")"
   ]
  },
  {
   "cell_type": "markdown",
   "id": "0982b3be",
   "metadata": {},
   "source": [
    "## Gestión de excepciones: `try` & `except`.\n",
    "\n",
    "Las cláusula `try` y `except` se usa para capturar y gestionar excepciones, la sintaxis más rudimentaria es la siguiente:\n",
    "\n",
    "```Python\n",
    "\n",
    "try:\n",
    "    <code>\n",
    "except:\n",
    "    <code>\n",
    "\n",
    "```\n",
    "\n",
    "Python:\n",
    "1. ejecutará el código dentro de `try`.\n",
    "2. En caso de encontrar una excepción se ejecutará el código dentro de `except`.\n",
    "\n",
    "Por ejemplo:"
   ]
  },
  {
   "cell_type": "code",
   "execution_count": null,
   "id": "3f13ce8a",
   "metadata": {},
   "outputs": [],
   "source": [
    "edad_asegurado = int(input(\"Selecciona edad de asegurado \"))\n",
    "while True:\n",
    "\n",
    "    try:\n",
    "        poliza = suscribir_poliza(\n",
    "            nombre_asegurado=\"Heber\",\n",
    "            edad_asegurado=edad_asegurado\n",
    "        )\n",
    "        print(poliza)\n",
    "        break\n",
    "    except:\n",
    "        print(\"Edad debe ser > 0\")\n",
    "        edad_asegurado = int(input(\"Selecciona edad de asegurado \"))\n"
   ]
  },
  {
   "cell_type": "markdown",
   "id": "0fdecfb8",
   "metadata": {},
   "source": [
    ">**Nota**: Usar sólo `except:` puede capturar cualquier tipo de error, y esto puede ser confuso."
   ]
  },
  {
   "cell_type": "code",
   "execution_count": null,
   "id": "5949e0fe",
   "metadata": {},
   "outputs": [],
   "source": [
    "edad_asegurado = input(\"Selecciona edad de asegurado \")\n",
    "while True:\n",
    "\n",
    "    try:\n",
    "        poliza = suscribir_poliza(\n",
    "            nombre_asegurado=\"Heber\",\n",
    "            edad_asegurado=edad_asegurado\n",
    "        )\n",
    "        print(poliza)\n",
    "        break\n",
    "    except:\n",
    "        print(\"Edad debe ser > 0\")\n",
    "        edad_asegurado = input(\"Selecciona edad de asegurado \")\n"
   ]
  },
  {
   "cell_type": "markdown",
   "id": "309f4b93",
   "metadata": {},
   "source": [
    "Es mejor usar el tipo de excepción que estábamos esperando:"
   ]
  },
  {
   "cell_type": "code",
   "execution_count": null,
   "id": "1458df9c",
   "metadata": {},
   "outputs": [],
   "source": [
    "from dataclasses import dataclass\n",
    "\n",
    "@dataclass\n",
    "class Poliza:\n",
    "    nombre: str\n",
    "    edad: int\n",
    "\n",
    "\n",
    "def suscribir_poliza(nombre_asegurado: str, edad_asegurado: int) -> Poliza:\n",
    "    \n",
    "    if edad_asegurado<=0:\n",
    "        \n",
    "        raise ValueError(\"Edad de Asegurado debe ser > 0\")\n",
    "    \n",
    "    else:\n",
    "        \n",
    "        return Poliza(nombre=nombre_asegurado, edad=edad_asegurado)\n"
   ]
  },
  {
   "cell_type": "markdown",
   "id": "7941f29b",
   "metadata": {},
   "source": [
    "Esto lo hacemos especificando el tipo de error a un lado de `except`, si esperamos más de un tipo podemos poner más de una vez la cláusula `except` o `except (ValueError, AssertionError)`"
   ]
  },
  {
   "cell_type": "code",
   "execution_count": null,
   "id": "f7680292",
   "metadata": {},
   "outputs": [],
   "source": [
    "edad_asegurado = input(\"Selecciona edad de asegurado \")\n",
    "while True:\n",
    "\n",
    "    try:\n",
    "        poliza = suscribir_poliza(\n",
    "            nombre_asegurado=\"Heber\",\n",
    "            edad_asegurado=edad_asegurado\n",
    "        )\n",
    "        print(poliza)\n",
    "        break\n",
    "    except ValueError:\n",
    "        print(\"Edad debe ser > 0\")\n",
    "        edad_asegurado = input(\"Selecciona edad de asegurado \")\n"
   ]
  },
  {
   "cell_type": "markdown",
   "id": "25d2e701",
   "metadata": {},
   "source": [
    "## Cláusula `else`.\n",
    "\n",
    "La cláusula `else`, puede indicarle a un programa que ejecute un determinado bloque de código sólo si no hay excepciones.\n",
    "\n",
    "Podemos re-escribir el código que teníamos de la siguiente forma, y quedará más limpio."
   ]
  },
  {
   "cell_type": "code",
   "execution_count": null,
   "id": "46690f8d",
   "metadata": {},
   "outputs": [],
   "source": [
    "edad_asegurado = int(input(\"Selecciona edad de asegurado \"))\n",
    "while True:\n",
    "\n",
    "    try:\n",
    "        poliza = suscribir_poliza(\n",
    "            nombre_asegurado=\"Heber\",\n",
    "            edad_asegurado=edad_asegurado\n",
    "        )\n",
    "    except ValueError:\n",
    "        print(\"Edad debe ser > 0\")\n",
    "        edad_asegurado = int(input(\"Selecciona edad de asegurado \"))\n",
    "    \n",
    "    else:\n",
    "        print(poliza)\n",
    "        break"
   ]
  },
  {
   "cell_type": "markdown",
   "id": "337623a7",
   "metadata": {},
   "source": [
    "## Cláusula `finally`.\n",
    "\n",
    "Imaginemos una situación en donde no importa si ocurre una excepción o no, siempre tenemos que ejecutar una acción al finalizar.\n",
    "\n",
    ">Al leer un archivo, no importa qué suceda siempre tenemos que cerrarlo.\n",
    "\n",
    "Esto lo podemos lograr con la cláusula `finally`:"
   ]
  },
  {
   "cell_type": "code",
   "execution_count": null,
   "id": "8add1662",
   "metadata": {},
   "outputs": [],
   "source": [
    "try:\n",
    "    f = open('ejemplo.txt')\n",
    "    x = f.read()[1]\n",
    "\n",
    "except FileNotFoundError:\n",
    "    print(\"Archivo no encintrado\")\n",
    "    x=''\n",
    "else:\n",
    "    print(\"Cerrando Archivo\")\n",
    "    x = x.upper()\n",
    "finally:\n",
    "    f.close()"
   ]
  },
  {
   "cell_type": "code",
   "execution_count": null,
   "id": "940eb3ac",
   "metadata": {},
   "outputs": [],
   "source": [
    "f.closed"
   ]
  },
  {
   "cell_type": "code",
   "execution_count": null,
   "id": "7c346b20",
   "metadata": {},
   "outputs": [],
   "source": [
    "try:\n",
    "    f = open('ejemplo_1234.txt')\n",
    "    x = f.read()[10]\n",
    "\n",
    "except FileNotFoundError:\n",
    "    print(\"Archivo no encintrado\")\n",
    "    x=''\n",
    "else:\n",
    "    x = x.upper()\n",
    "finally:\n",
    "    print(\"Cerrando Archivo\")\n",
    "    f.close()"
   ]
  },
  {
   "cell_type": "code",
   "execution_count": null,
   "id": "4d840152",
   "metadata": {},
   "outputs": [],
   "source": [
    "f.closed"
   ]
  },
  {
   "cell_type": "code",
   "execution_count": null,
   "id": "3c22ab56",
   "metadata": {},
   "outputs": [],
   "source": []
  }
 ],
 "metadata": {
  "kernelspec": {
   "display_name": "Python 3 (ipykernel)",
   "language": "python",
   "name": "python3"
  },
  "language_info": {
   "codemirror_mode": {
    "name": "ipython",
    "version": 3
   },
   "file_extension": ".py",
   "mimetype": "text/x-python",
   "name": "python",
   "nbconvert_exporter": "python",
   "pygments_lexer": "ipython3",
   "version": "3.11.6"
  }
 },
 "nbformat": 4,
 "nbformat_minor": 5
}
