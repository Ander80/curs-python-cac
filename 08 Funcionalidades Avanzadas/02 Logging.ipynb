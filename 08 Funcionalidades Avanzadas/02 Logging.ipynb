{
 "cells": [
  {
   "cell_type": "markdown",
   "id": "19b358fd",
   "metadata": {},
   "source": [
    "# Logging\n",
    "\n",
    "1. Motivación\n",
    "2. sys.stdout y sys.stderr\n",
    "3. Loguru\n",
    "    - log levels en Loguru.\n",
    "    - Personalización de Loguru.\n",
    "    - Formato de logs.\n",
    "    - Agregar datos contextuales al logger.\n",
    "    - Errores con Loguru.\n",
    "    - Guardar logs en un archivo.\n",
    "\n",
    "\n",
    "## Motivación\n",
    "\n",
    "Logging se refiere a la acción de llevar un registro, en algún sitio de algunos eventos que ocurren durante el tiempo de ejecución. \n",
    "\n",
    "Registrar los datos correctos en los lugares correctos, nos ayudará a:\n",
    "\n",
    "- **Depurar errores**: LLevar un registro de los fallos junto con los parámetros que ocasionaron el fallo.\n",
    "<br>\n",
    "\n",
    "- **Analizar el rendimiento**: Así podremos planificar la escalabilidad correcta y optimizar costos.\n",
    "<br>\n",
    "\n",
    "- **Analizar patrones**: Entender el uso de nuestra aplicación.\n",
    "<br>\n",
    "\n",
    "## stdout y stderr\n",
    "\n",
    "\n",
    "Una primera aproximación podría ser con la función `print`"
   ]
  },
  {
   "cell_type": "code",
   "execution_count": null,
   "id": "3e662ded",
   "metadata": {},
   "outputs": [],
   "source": [
    "file_name = 'ejemplo.txt'\n",
    "with open(file_name, 'r') as f:\n",
    "    print(f\"Abriendo archivo {file_name}.\")\n",
    "    r = f.read()\n",
    "print(f\"Archivo {file_name} cerrado.\")\n",
    "    "
   ]
  },
  {
   "cell_type": "markdown",
   "id": "2c36fe50",
   "metadata": {},
   "source": [
    "Por defecto todos los datos que genera Python pueden estar en dos sitios:\n",
    "\n",
    "- `stdout`: Lugar en donde se almacenaran temporalmente los output the ejecuciones **sin** errores.\n",
    "\n",
    "- `stderr`: Lugar en donde se almacenaran temporalmente los output the ejecuciones **con** errores.\n",
    "\n",
    "En el caso de los notebooks se usa un Stream, y no un archivo."
   ]
  },
  {
   "cell_type": "code",
   "execution_count": null,
   "id": "c6b25c3a",
   "metadata": {},
   "outputs": [],
   "source": [
    "import sys\n",
    "print(sys.stderr)"
   ]
  },
  {
   "cell_type": "markdown",
   "id": "4b4b1bed",
   "metadata": {},
   "source": [
    "En el caso de una instancia normal de Python el `stderr` luce así:\n",
    "\n",
    "```Python\n",
    "import sys\n",
    "sys.stderr\n",
    "<_io.TextIOWrapper name='<stderr>' mode='w' encoding='utf-8'>\n",
    "```\n",
    "\n",
    "Pero una vez que se ejecuta el programa, no tenemos manera de recuperar los datos. Tampoco tenemos información contextual de la ejecución, e.g. la hora y el día.\n",
    "\n",
    "## Loguru\n",
    "\n",
    "Es un paquete para gestionar lo logs en Python, es probablemente el paquete [más utilizado](https://github.com/Delgan/loguru) dentro de su categoría. \n",
    "\n",
    "Esto se debe a que su objetivo es facilitar el proceso de configuración de un sistema de logging, proporciona una alternativa mucho más fácil de configurar al módulo de logging predeterminado de Python.\n",
    "\n",
    "al ser una librería de terceros significa que lo tendremos que installar, **si tenemos un entorno virtual activado de poetry** podemos:\n",
    "\n",
    "```shell\n",
    "poetry add loguru\n",
    "```\n",
    "\n",
    "Obtendremos algo similar a:\n",
    "\n",
    "```shell\n",
    "Using version ^0.6.0 for loguru\n",
    "\n",
    "Updating dependencies\n",
    "Resolving dependencies... (0.9s)\n",
    "\n",
    "Writing lock file\n",
    "\n",
    "Package operations: 1 install, 0 updates, 0 removals\n",
    "\n",
    "  • Installing loguru (0.6.0)\n",
    "```\n",
    "\n",
    "La forma más básica de usar `loguru` es importando el objeto `logger` del paquete `loguru`. El `logger` está preconfigurado, así que lo podemos usar directamente.\n"
   ]
  },
  {
   "cell_type": "code",
   "execution_count": null,
   "id": "06b822cb",
   "metadata": {},
   "outputs": [],
   "source": [
    "from loguru import logger\n",
    "logger"
   ]
  },
  {
   "cell_type": "markdown",
   "id": "5e316b38",
   "metadata": {},
   "source": [
    "Podemos usar El método `debug()` para registrar un mensaje de nivel DEBUG.\n",
    "\n",
    "> Debug significa depurar un programa para identificar y corregir errores."
   ]
  },
  {
   "cell_type": "code",
   "execution_count": null,
   "id": "4739b981",
   "metadata": {},
   "outputs": [],
   "source": [
    "logger.debug(\"Mensaje de depuración\")"
   ]
  },
  {
   "cell_type": "markdown",
   "id": "04b06e8c",
   "metadata": {},
   "source": [
    "La salida contiene los siguientes detalles:\n",
    "\n",
    "- `2023-01-15 19:21:23.866` - `timestamp`, el tiempo justo en que se ejecutó el comando.\n",
    "\n",
    "- `DEBUG` - el nivel de logging, Esta variable se utiliza para describir el nivel de gravedad.\n",
    "\n",
    "- `__main__:<módulo>:1` - la ubicación del archivo, el alcance y el número de línea. En este ejemplo:\n",
    "    - La ubicación del archivo es `__main__`, porque estamos ejecutando el archivo desde el script de entrada de python (notebook)\n",
    "    - El alcance es `\\<module\\>` porque el registrador no está ubicado dentro de una clase o una función.\n",
    "    - La línea es `1` porque el logger está en la primera línea de la celda.\n",
    "    \n",
    "\n",
    "### log levels en Loguru.\n",
    "\n",
    "\n",
    "Los *log levels* (niveles de registro) especifican la gravedad de un log (registro) para que los mensajes se puedan filtrar o priorizar en función de su urgencia.\n",
    "\n",
    "Loguru ofrece siete niveles de registro:\n",
    "\n",
    "- `TRACE` (5): se utiliza para registrar información detallada sobre la ruta de ejecución del programa con fines de diagnóstico.\n",
    "<br>\n",
    "\n",
    "- `DEBUG` (10): utilizado por los desarrolladores para registrar mensajes con fines de depuración.\n",
    "<br>\n",
    "\n",
    "- `INFO` (20): se utiliza para registrar mensajes informativos que describen el funcionamiento normal del programa.\n",
    "<br>\n",
    "\n",
    "- `SUCCESS` (25): similar a INFO pero se utiliza para indicar el éxito de una operación.\n",
    "<br>\n",
    "\n",
    "- `WARNING` (30): se utiliza para indicar un evento inusual que puede requerir una mayor investigación.\n",
    "<br>\n",
    "\n",
    "- `ERROR` (40): se utiliza para registrar condiciones de error que afectaron una operación específica.\n",
    "<br>\n",
    "\n",
    "- `CRITICAL` (50): se utiliza para registrar condiciones de error que impiden el funcionamiento de una función principal.\n",
    "<br>\n",
    "\n"
   ]
  },
  {
   "cell_type": "code",
   "execution_count": null,
   "id": "74bb629f",
   "metadata": {},
   "outputs": [],
   "source": [
    "logger.trace(\"trace.\")\n",
    "logger.debug(\"debug.\")\n",
    "logger.info(\"info\")\n",
    "logger.success(\"success.\")\n",
    "logger.warning(\"warning.\")\n",
    "logger.error(\"error.\")\n",
    "logger.critical(\"critical.\")"
   ]
  },
  {
   "cell_type": "markdown",
   "id": "b3637374",
   "metadata": {},
   "source": [
    "### Personalización de Loguru.\n",
    "\n",
    "Loguru simplifica el proceso de configuración utilizando únicamente su método `add()`, Algunos de sus parámetros son:\n",
    "\n",
    "- `sink`: Especifica un destino para cada registro producido por el registrador. De forma predeterminada, se establece en sys.stderr.\n",
    "<br>\n",
    "\n",
    "- `level`: Especifica el nivel de registro mínimo para el registrador.\n",
    "<br>\n",
    "\n",
    "- `format`: Útil para definir un formato personalizado para los logs.\n",
    "<br>\n",
    "\n",
    "### Formato de logs.\n",
    "\n",
    "Se puede reformatear los logs a través del parámetro `format` del método `add()`. \n",
    "\n",
    "Cada log es un diccionario de Python, que contiene datos como `timestamp`, nivel de registro ,etc. Recomiendo mirar la [documentación](https://loguru.readthedocs.io/en/stable/api/logger.html#record) para ver una lista de todas las directivas de formato.\n",
    "\n"
   ]
  },
  {
   "cell_type": "code",
   "execution_count": null,
   "id": "ff3b6ecd",
   "metadata": {},
   "outputs": [],
   "source": [
    "import sys\n",
    "from loguru import logger\n",
    "\n",
    "handler_id = logger.add(sys.stderr, format=\"{time} | {level} | {message}\")\n",
    "\n",
    "logger.debug(\"Mensaje\")"
   ]
  },
  {
   "cell_type": "markdown",
   "id": "7027f5ca",
   "metadata": {},
   "source": [
    "¿Qué ha sucedido? Resulta que hemos añadido un nuevo `handler` y por tanto cada vez que loggeamos un mensaje estaremos utilizando los `handlers` disponibles"
   ]
  },
  {
   "cell_type": "code",
   "execution_count": null,
   "id": "76b4811b",
   "metadata": {},
   "outputs": [],
   "source": [
    "logger.remove(0)\n",
    "logger.debug(\"Mensaje\")"
   ]
  },
  {
   "cell_type": "code",
   "execution_count": null,
   "id": "18398ef8",
   "metadata": {},
   "outputs": [],
   "source": [
    "logger.remove(handler_id)\n",
    "handler_id = logger.add(sys.stderr, format=\"{time} | {level} | {file} |{message}\")\n",
    "logger.debug(\"Mensaje\")"
   ]
  },
  {
   "cell_type": "markdown",
   "id": "88545d8e",
   "metadata": {},
   "source": [
    "### Agregar datos contextuales al logger.\n",
    "\n",
    "Además del mensaje, a menudo es necesario incluir otra información relevante en la entrada de log, e.g. los parámetros de una función o la configuración de nuestra aplicación.\n",
    "\n",
    "La directiva de formato `{extra}` sirve justo para eso:"
   ]
  },
  {
   "cell_type": "code",
   "execution_count": null,
   "id": "09f76e25",
   "metadata": {},
   "outputs": [],
   "source": [
    "import sys\n",
    "from loguru import logger\n",
    "\n",
    "\n",
    "class Estimator():\n",
    "    \n",
    "    def __init__(self,):\n",
    "        \n",
    "        logger.remove()\n",
    "        logger.add(sys.stderr, format=\"{time:MMMM D, YYYY > HH:mm:ss} | {level} | {message} | {extra}\")\n",
    "\n",
    "    def predict(self, x: float) -> float:\n",
    "        y = x*0.1 + 3\n",
    "        predict_logger = logger.bind(x=x, y=y)\n",
    "        predict_logger.success(\"Predicción generada con éxito\")\n",
    "        return y\n",
    "\n",
    "\n",
    "estimator = Estimator()\n",
    "estimator.predict(5)"
   ]
  },
  {
   "cell_type": "code",
   "execution_count": null,
   "id": "420d9a22",
   "metadata": {},
   "outputs": [],
   "source": [
    "estimator.predict(8)"
   ]
  },
  {
   "cell_type": "markdown",
   "id": "900405e1",
   "metadata": {},
   "source": [
    "### Errores con Loguru.\n",
    "\n",
    "Los logs son una excelente forma para entender y solucionar errores.\n",
    "\n",
    "Puede loggear errores automáticamente a medida que ocurren dentro de una función:"
   ]
  },
  {
   "cell_type": "code",
   "execution_count": null,
   "id": "6b368178",
   "metadata": {},
   "outputs": [],
   "source": [
    "logger.remove()\n",
    "logger.add(sys.stderr, format=\"{time:MMMM D, YYYY > HH:mm:ss} | {level} | {message} | {extra}\")\n",
    "\n",
    "@logger.catch\n",
    "def test(x):\n",
    "    50/x\n",
    "\n",
    "test(0)"
   ]
  },
  {
   "cell_type": "markdown",
   "id": "5f2119d5",
   "metadata": {},
   "source": [
    "### Guardar logs en un archivo.\n",
    "\n",
    "La opción de `sink` del método `add()` permite elegir el destino de todos los log emitidos a través de un logger. \n",
    "\n",
    "Hasta ahora, solo hemos sólo hemos usado `stderr`, pero también podemos crear un archivo. El archivo debe tener la extensión *.log"
   ]
  },
  {
   "cell_type": "code",
   "execution_count": null,
   "id": "d5252c64",
   "metadata": {},
   "outputs": [],
   "source": [
    "logger.add(\"loguru.log\")\n",
    "\n",
    "logger.debug(\"Mensaje debug.\")"
   ]
  },
  {
   "cell_type": "code",
   "execution_count": null,
   "id": "8aa9701f",
   "metadata": {},
   "outputs": [],
   "source": []
  }
 ],
 "metadata": {
  "kernelspec": {
   "display_name": "Python 3 (ipykernel)",
   "language": "python",
   "name": "python3"
  },
  "language_info": {
   "codemirror_mode": {
    "name": "ipython",
    "version": 3
   },
   "file_extension": ".py",
   "mimetype": "text/x-python",
   "name": "python",
   "nbconvert_exporter": "python",
   "pygments_lexer": "ipython3",
   "version": "3.11.6"
  }
 },
 "nbformat": 4,
 "nbformat_minor": 5
}
