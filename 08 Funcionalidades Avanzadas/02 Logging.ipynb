{
 "cells": [
  {
   "cell_type": "markdown",
   "id": "19b358fd",
   "metadata": {},
   "source": [
    "# Logging\n",
    "\n",
    "1. Motivación\n",
    "2. sys.stdout y sys.stderr\n",
    "3. Loguru\n",
    "    - log levels en Loguru.\n",
    "    - Personalización de Loguru.\n",
    "    - Formato de logs.\n",
    "    - Agregar datos contextuales al logger.\n",
    "    - Errores con Loguru.\n",
    "    - Guardar logs en un archivo.\n",
    "\n",
    "\n",
    "## Motivación\n",
    "\n",
    "Logging se refiere a la acción de llevar un registro, en algún sitio de algunos eventos que ocurren durante el tiempo de ejecución. \n",
    "\n",
    "Registrar los datos correctos en los lugares correctos, nos ayudará a:\n",
    "\n",
    "- **Depurar errores**: LLevar un registro de los fallos junto con los parámetros que ocasionaron el fallo.\n",
    "<br>\n",
    "\n",
    "- **Analizar el rendimiento**: Así podremos planificar la escalabilidad correcta y optimizar costos.\n",
    "<br>\n",
    "\n",
    "- **Analizar patrones**: Entender el uso de nuestra aplicación.\n",
    "<br>\n",
    "\n",
    "## stdout y stderr\n",
    "\n",
    "\n",
    "Una primera aproximación podría ser con la función `print`"
   ]
  },
  {
   "cell_type": "code",
   "execution_count": 1,
   "id": "3e662ded",
   "metadata": {},
   "outputs": [
    {
     "name": "stdout",
     "output_type": "stream",
     "text": [
      "Abriendo archivo ejemplo.txt.\n",
      "Archivo ejemplo.txt cerrado.\n"
     ]
    }
   ],
   "source": [
    "file_name = 'ejemplo.txt'\n",
    "with open(file_name, 'r') as f:\n",
    "    print(f\"Abriendo archivo {file_name}.\")\n",
    "    r = f.read()\n",
    "print(f\"Archivo {file_name} cerrado.\")\n",
    "    "
   ]
  },
  {
   "cell_type": "markdown",
   "id": "2c36fe50",
   "metadata": {},
   "source": [
    "Por defecto todos los datos que genera Python pueden estar en dos sitios:\n",
    "\n",
    "- `stdout`: Lugar en donde se almacenaran temporalmente los output the ejecuciones **sin** errores.\n",
    "\n",
    "- `stderr`: Lugar en donde se almacenaran temporalmente los output the ejecuciones **con** errores.\n",
    "\n",
    "En el caso de los notebooks se usa un Stream, y no un archivo."
   ]
  },
  {
   "cell_type": "code",
   "execution_count": 2,
   "id": "c6b25c3a",
   "metadata": {},
   "outputs": [
    {
     "name": "stdout",
     "output_type": "stream",
     "text": [
      "<ipykernel.iostream.OutStream object at 0x111683af0>\n"
     ]
    }
   ],
   "source": [
    "import sys\n",
    "print(sys.stderr)"
   ]
  },
  {
   "cell_type": "markdown",
   "id": "4b4b1bed",
   "metadata": {},
   "source": [
    "En el caso de una instancia normal de Python el `stderr` luce así:\n",
    "\n",
    "```Python\n",
    "import sys\n",
    "sys.stderr\n",
    "<_io.TextIOWrapper name='<stderr>' mode='w' encoding='utf-8'>\n",
    "```\n",
    "\n",
    "Pero una vez que se ejecuta el programa, no tenemos manera de recuperar los datos. Tampoco tenemos información contextual de la ejecución, e.g. la hora y el día.\n",
    "\n",
    "## Loguru\n",
    "\n",
    "Es un paquete para gestionar lo logs en Python, es probablemente el paquete [más utilizado](https://github.com/Delgan/loguru) dentro de su categoría. \n",
    "\n",
    "Esto se debe a que su objetivo es facilitar el proceso de configuración de un sistema de logging, proporciona una alternativa mucho más fácil de configurar al módulo de logging predeterminado de Python.\n",
    "\n",
    "al ser una librería de terceros significa que lo tendremos que installar, **si tenemos un entorno virtual activado de poetry** podemos:\n",
    "\n",
    "```shell\n",
    "poetry add loguru\n",
    "```\n",
    "\n",
    "Obtendremos algo similar a:\n",
    "\n",
    "```shell\n",
    "Using version ^0.6.0 for loguru\n",
    "\n",
    "Updating dependencies\n",
    "Resolving dependencies... (0.9s)\n",
    "\n",
    "Writing lock file\n",
    "\n",
    "Package operations: 1 install, 0 updates, 0 removals\n",
    "\n",
    "  • Installing loguru (0.6.0)\n",
    "```\n",
    "\n",
    "La forma más básica de usar `loguru` es importando el objeto `logger` del paquete `loguru`. El `logger` está preconfigurado, así que lo podemos usar directamente.\n"
   ]
  },
  {
   "cell_type": "code",
   "execution_count": 4,
   "id": "06b822cb",
   "metadata": {},
   "outputs": [
    {
     "data": {
      "text/plain": [
       "<loguru.logger handlers=[(id=0, level=10, sink=stderr)]>"
      ]
     },
     "execution_count": 4,
     "metadata": {},
     "output_type": "execute_result"
    }
   ],
   "source": [
    "from loguru import logger\n",
    "logger"
   ]
  },
  {
   "cell_type": "markdown",
   "id": "5e316b38",
   "metadata": {},
   "source": [
    "Podemos usar El método `debug()` para registrar un mensaje de nivel DEBUG.\n",
    "\n",
    "> Debug significa depurar un programa para identificar y corregir errores."
   ]
  },
  {
   "cell_type": "code",
   "execution_count": 5,
   "id": "4739b981",
   "metadata": {},
   "outputs": [
    {
     "name": "stderr",
     "output_type": "stream",
     "text": [
      "2023-01-23 18:53:12.583 | DEBUG    | __main__:<module>:1 - Mensaje de depuración\n"
     ]
    }
   ],
   "source": [
    "logger.debug(\"Mensaje de depuración\")"
   ]
  },
  {
   "cell_type": "markdown",
   "id": "04b06e8c",
   "metadata": {},
   "source": [
    "La salida contiene los siguientes detalles:\n",
    "\n",
    "- `2023-01-15 19:21:23.866` - `timestamp`, el tiempo justo en que se ejecutó el comando.\n",
    "\n",
    "- `DEBUG` - el nivel de logging, Esta variable se utiliza para describir el nivel de gravedad.\n",
    "\n",
    "- `__main__:<módulo>:1` - la ubicación del archivo, el alcance y el número de línea. En este ejemplo:\n",
    "    - La ubicación del archivo es `__main__`, porque estamos ejecutando el archivo desde el script de entrada de python (notebook)\n",
    "    - El alcance es `\\<module\\>` porque el registrador no está ubicado dentro de una clase o una función.\n",
    "    - La línea es `1` porque el logger está en la primera línea de la celda.\n",
    "    \n",
    "\n",
    "### log levels en Loguru.\n",
    "\n",
    "\n",
    "Los *log levels* (niveles de registro) especifican la gravedad de un log (registro) para que los mensajes se puedan filtrar o priorizar en función de su urgencia.\n",
    "\n",
    "Loguru ofrece siete niveles de registro:\n",
    "\n",
    "- `TRACE` (5): se utiliza para registrar información detallada sobre la ruta de ejecución del programa con fines de diagnóstico.\n",
    "<br>\n",
    "\n",
    "- `DEBUG` (10): utilizado por los desarrolladores para registrar mensajes con fines de depuración.\n",
    "<br>\n",
    "\n",
    "- `INFO` (20): se utiliza para registrar mensajes informativos que describen el funcionamiento normal del programa.\n",
    "<br>\n",
    "\n",
    "- `SUCCESS` (25): similar a INFO pero se utiliza para indicar el éxito de una operación.\n",
    "<br>\n",
    "\n",
    "- `WARNING` (30): se utiliza para indicar un evento inusual que puede requerir una mayor investigación.\n",
    "<br>\n",
    "\n",
    "- `ERROR` (40): se utiliza para registrar condiciones de error que afectaron una operación específica.\n",
    "<br>\n",
    "\n",
    "- `CRITICAL` (50): se utiliza para registrar condiciones de error que impiden el funcionamiento de una función principal.\n",
    "<br>\n",
    "\n"
   ]
  },
  {
   "cell_type": "code",
   "execution_count": 6,
   "id": "74bb629f",
   "metadata": {},
   "outputs": [
    {
     "name": "stderr",
     "output_type": "stream",
     "text": [
      "2023-01-23 18:56:59.198 | DEBUG    | __main__:<module>:2 - debug.\n",
      "2023-01-23 18:56:59.200 | INFO     | __main__:<module>:3 - info\n",
      "2023-01-23 18:56:59.201 | SUCCESS  | __main__:<module>:4 - success.\n",
      "2023-01-23 18:56:59.203 | WARNING  | __main__:<module>:5 - warning.\n",
      "2023-01-23 18:56:59.203 | ERROR    | __main__:<module>:6 - error.\n",
      "2023-01-23 18:56:59.205 | CRITICAL | __main__:<module>:7 - critical.\n"
     ]
    }
   ],
   "source": [
    "logger.trace(\"trace.\")\n",
    "logger.debug(\"debug.\")\n",
    "logger.info(\"info\")\n",
    "logger.success(\"success.\")\n",
    "logger.warning(\"warning.\")\n",
    "logger.error(\"error.\")\n",
    "logger.critical(\"critical.\")"
   ]
  },
  {
   "cell_type": "markdown",
   "id": "b3637374",
   "metadata": {},
   "source": [
    "### Personalización de Loguru.\n",
    "\n",
    "Loguru simplifica el proceso de configuración utilizando únicamente su método `add()`, Algunos de sus parámetros son:\n",
    "\n",
    "- `sink`: Especifica un destino para cada registro producido por el registrador. De forma predeterminada, se establece en sys.stderr.\n",
    "<br>\n",
    "\n",
    "- `level`: Especifica el nivel de registro mínimo para el registrador.\n",
    "<br>\n",
    "\n",
    "- `format`: Útil para definir un formato personalizado para los logs.\n",
    "<br>\n",
    "\n",
    "### Formato de logs.\n",
    "\n",
    "Se puede reformatear los logs a través del parámetro `format` del método `add()`. \n",
    "\n",
    "Cada log es un diccionario de Python, que contiene datos como `timestamp`, nivel de registro ,etc. Recomiendo mirar la [documentación](https://loguru.readthedocs.io/en/stable/api/logger.html#record) para ver una lista de todas las directivas de formato.\n",
    "\n"
   ]
  },
  {
   "cell_type": "code",
   "execution_count": 7,
   "id": "ff3b6ecd",
   "metadata": {},
   "outputs": [
    {
     "name": "stderr",
     "output_type": "stream",
     "text": [
      "2023-01-23 19:00:58.023 | DEBUG    | __main__:<module>:6 - Mensaje\n",
      "2023-01-23T19:00:58.023450+0100 | DEBUG | Mensaje\n"
     ]
    }
   ],
   "source": [
    "import sys\n",
    "from loguru import logger\n",
    "\n",
    "handler_id = logger.add(sys.stderr, format=\"{time} | {level} | {message}\")\n",
    "\n",
    "logger.debug(\"Mensaje\")"
   ]
  },
  {
   "cell_type": "markdown",
   "id": "7027f5ca",
   "metadata": {},
   "source": [
    "¿Qué ha sucedido? Resulta que hemos añadido un nuevo `handler` y por tanto cada vez que loggeamos un mensaje estaremos utilizando los `handlers` disponibles"
   ]
  },
  {
   "cell_type": "code",
   "execution_count": 8,
   "id": "76b4811b",
   "metadata": {},
   "outputs": [
    {
     "name": "stderr",
     "output_type": "stream",
     "text": [
      "2023-01-23T19:01:46.225533+0100 | DEBUG | Mensaje\n"
     ]
    }
   ],
   "source": [
    "logger.remove(0)\n",
    "logger.debug(\"Mensaje\")"
   ]
  },
  {
   "cell_type": "code",
   "execution_count": 9,
   "id": "18398ef8",
   "metadata": {},
   "outputs": [
    {
     "name": "stderr",
     "output_type": "stream",
     "text": [
      "2023-01-23T19:01:56.065041+0100 | DEBUG | 182477577.py |Mensaje\n"
     ]
    }
   ],
   "source": [
    "logger.remove(handler_id)\n",
    "handler_id = logger.add(sys.stderr, format=\"{time} | {level} | {file} |{message}\")\n",
    "logger.debug(\"Mensaje\")"
   ]
  },
  {
   "cell_type": "markdown",
   "id": "88545d8e",
   "metadata": {},
   "source": [
    "### Agregar datos contextuales al logger.\n",
    "\n",
    "Además del mensaje, a menudo es necesario incluir otra información relevante en la entrada de log, e.g. los parámetros de una función o la configuración de nuestra aplicación.\n",
    "\n",
    "La directiva de formato `{extra}` sirve justo para eso:"
   ]
  },
  {
   "cell_type": "code",
   "execution_count": 10,
   "id": "09f76e25",
   "metadata": {},
   "outputs": [
    {
     "name": "stderr",
     "output_type": "stream",
     "text": [
      "January 23, 2023 > 19:05:44 | SUCCESS | Predicción generada con éxito | {'x': 5, 'y': 3.5}\n"
     ]
    },
    {
     "data": {
      "text/plain": [
       "3.5"
      ]
     },
     "execution_count": 10,
     "metadata": {},
     "output_type": "execute_result"
    }
   ],
   "source": [
    "import sys\n",
    "from loguru import logger\n",
    "\n",
    "\n",
    "class Estimator():\n",
    "    \n",
    "    def __init__(self,):\n",
    "        \n",
    "        logger.remove()\n",
    "        logger.add(sys.stderr, format=\"{time:MMMM D, YYYY > HH:mm:ss} | {level} | {message} | {extra}\")\n",
    "\n",
    "    def predict(self, x: float) -> float:\n",
    "        y = x*0.1 + 3\n",
    "        predict_logger = logger.bind(x=x, y=y)\n",
    "        predict_logger.success(\"Predicción generada con éxito\")\n",
    "        return y\n",
    "\n",
    "\n",
    "estimator = Estimator()\n",
    "estimator.predict(5)"
   ]
  },
  {
   "cell_type": "code",
   "execution_count": 11,
   "id": "420d9a22",
   "metadata": {},
   "outputs": [
    {
     "name": "stderr",
     "output_type": "stream",
     "text": [
      "January 23, 2023 > 19:09:48 | SUCCESS | Predicción generada con éxito | {'x': 8, 'y': 3.8}\n"
     ]
    },
    {
     "data": {
      "text/plain": [
       "3.8"
      ]
     },
     "execution_count": 11,
     "metadata": {},
     "output_type": "execute_result"
    }
   ],
   "source": [
    "estimator.predict(8)"
   ]
  },
  {
   "cell_type": "markdown",
   "id": "900405e1",
   "metadata": {},
   "source": [
    "### Errores con Loguru.\n",
    "\n",
    "Los logs son una excelente forma para entender y solucionar errores.\n",
    "\n",
    "Puede loggear errores automáticamente a medida que ocurren dentro de una función:"
   ]
  },
  {
   "cell_type": "code",
   "execution_count": 12,
   "id": "6b368178",
   "metadata": {
    "scrolled": false
   },
   "outputs": [
    {
     "name": "stderr",
     "output_type": "stream",
     "text": [
      "January 23, 2023 > 19:10:49 | ERROR | An error has been caught in function '<module>', process 'MainProcess' (1897), thread 'MainThread' (4784453120): | {}\n",
      "Traceback (most recent call last):\n",
      "\n",
      "  File \"/Users/heber.trujilloglovoapp.com/.pyenv/versions/3.8.6/lib/python3.8/runpy.py\", line 194, in _run_module_as_main\n",
      "    return _run_code(code, main_globals, None,\n",
      "           │         │     └ {'__name__': '__main__', '__doc__': 'Entry point for launching an IPython kernel.\\n\\nThis is separate from the ipykernel pack...\n",
      "           │         └ <code object <module> at 0x10ebc49d0, file \"/Users/heber.trujilloglovoapp.com/projects/curso-python-cac/.venv/lib/python3.8/s...\n",
      "           └ <function _run_code at 0x10ebc5280>\n",
      "  File \"/Users/heber.trujilloglovoapp.com/.pyenv/versions/3.8.6/lib/python3.8/runpy.py\", line 87, in _run_code\n",
      "    exec(code, run_globals)\n",
      "         │     └ {'__name__': '__main__', '__doc__': 'Entry point for launching an IPython kernel.\\n\\nThis is separate from the ipykernel pack...\n",
      "         └ <code object <module> at 0x10ebc49d0, file \"/Users/heber.trujilloglovoapp.com/projects/curso-python-cac/.venv/lib/python3.8/s...\n",
      "  File \"/Users/heber.trujilloglovoapp.com/projects/curso-python-cac/.venv/lib/python3.8/site-packages/ipykernel_launcher.py\", line 17, in <module>\n",
      "    app.launch_new_instance()\n",
      "    │   └ <bound method Application.launch_instance of <class 'ipykernel.kernelapp.IPKernelApp'>>\n",
      "    └ <module 'ipykernel.kernelapp' from '/Users/heber.trujilloglovoapp.com/projects/curso-python-cac/.venv/lib/python3.8/site-pack...\n",
      "  File \"/Users/heber.trujilloglovoapp.com/projects/curso-python-cac/.venv/lib/python3.8/site-packages/traitlets/config/application.py\", line 1041, in launch_instance\n",
      "    app.start()\n",
      "    │   └ <function IPKernelApp.start at 0x11165f310>\n",
      "    └ <ipykernel.kernelapp.IPKernelApp object at 0x10ea91490>\n",
      "  File \"/Users/heber.trujilloglovoapp.com/projects/curso-python-cac/.venv/lib/python3.8/site-packages/ipykernel/kernelapp.py\", line 724, in start\n",
      "    self.io_loop.start()\n",
      "    │    │       └ <function BaseAsyncIOLoop.start at 0x10fb49ca0>\n",
      "    │    └ <tornado.platform.asyncio.AsyncIOMainLoop object at 0x111660e20>\n",
      "    └ <ipykernel.kernelapp.IPKernelApp object at 0x10ea91490>\n",
      "  File \"/Users/heber.trujilloglovoapp.com/projects/curso-python-cac/.venv/lib/python3.8/site-packages/tornado/platform/asyncio.py\", line 215, in start\n",
      "    self.asyncio_loop.run_forever()\n",
      "    │    │            └ <function BaseEventLoop.run_forever at 0x10f1049d0>\n",
      "    │    └ <_UnixSelectorEventLoop running=True closed=False debug=False>\n",
      "    └ <tornado.platform.asyncio.AsyncIOMainLoop object at 0x111660e20>\n",
      "  File \"/Users/heber.trujilloglovoapp.com/.pyenv/versions/3.8.6/lib/python3.8/asyncio/base_events.py\", line 570, in run_forever\n",
      "    self._run_once()\n",
      "    │    └ <function BaseEventLoop._run_once at 0x10f107550>\n",
      "    └ <_UnixSelectorEventLoop running=True closed=False debug=False>\n",
      "  File \"/Users/heber.trujilloglovoapp.com/.pyenv/versions/3.8.6/lib/python3.8/asyncio/base_events.py\", line 1859, in _run_once\n",
      "    handle._run()\n",
      "    │      └ <function Handle._run at 0x10f0af8b0>\n",
      "    └ <Handle <TaskWakeupMethWrapper object at 0x1116f2760>(<Future finis...0f0>, ...],))>)>\n",
      "  File \"/Users/heber.trujilloglovoapp.com/.pyenv/versions/3.8.6/lib/python3.8/asyncio/events.py\", line 81, in _run\n",
      "    self._context.run(self._callback, *self._args)\n",
      "    │    │            │    │           │    └ <member '_args' of 'Handle' objects>\n",
      "    │    │            │    │           └ <Handle <TaskWakeupMethWrapper object at 0x1116f2760>(<Future finis...0f0>, ...],))>)>\n",
      "    │    │            │    └ <member '_callback' of 'Handle' objects>\n",
      "    │    │            └ <Handle <TaskWakeupMethWrapper object at 0x1116f2760>(<Future finis...0f0>, ...],))>)>\n",
      "    │    └ <member '_context' of 'Handle' objects>\n",
      "    └ <Handle <TaskWakeupMethWrapper object at 0x1116f2760>(<Future finis...0f0>, ...],))>)>\n",
      "  File \"/Users/heber.trujilloglovoapp.com/projects/curso-python-cac/.venv/lib/python3.8/site-packages/ipykernel/kernelbase.py\", line 512, in dispatch_queue\n",
      "    await self.process_one()\n",
      "          │    └ <function Kernel.process_one at 0x110cdb8b0>\n",
      "          └ <ipykernel.ipkernel.IPythonKernel object at 0x1116a57f0>\n",
      "  File \"/Users/heber.trujilloglovoapp.com/projects/curso-python-cac/.venv/lib/python3.8/site-packages/ipykernel/kernelbase.py\", line 501, in process_one\n",
      "    await dispatch(*args)\n",
      "          │         └ ([<zmq.sugar.frame.Frame object at 0x1116e95c0>, <zmq.sugar.frame.Frame object at 0x1116e9880>, <zmq.sugar.frame.Frame object...\n",
      "          └ <bound method Kernel.dispatch_shell of <ipykernel.ipkernel.IPythonKernel object at 0x1116a57f0>>\n",
      "  File \"/Users/heber.trujilloglovoapp.com/projects/curso-python-cac/.venv/lib/python3.8/site-packages/ipykernel/kernelbase.py\", line 408, in dispatch_shell\n",
      "    await result\n",
      "          └ <coroutine object Kernel.execute_request at 0x11176b440>\n",
      "  File \"/Users/heber.trujilloglovoapp.com/projects/curso-python-cac/.venv/lib/python3.8/site-packages/ipykernel/kernelbase.py\", line 731, in execute_request\n",
      "    reply_content = await reply_content\n",
      "                          └ <coroutine object IPythonKernel.do_execute at 0x1117c1f40>\n",
      "  File \"/Users/heber.trujilloglovoapp.com/projects/curso-python-cac/.venv/lib/python3.8/site-packages/ipykernel/ipkernel.py\", line 417, in do_execute\n",
      "    res = shell.run_cell(\n",
      "          │     └ <function ZMQInteractiveShell.run_cell at 0x11164eaf0>\n",
      "          └ <ipykernel.zmqshell.ZMQInteractiveShell object at 0x1116a5d30>\n",
      "  File \"/Users/heber.trujilloglovoapp.com/projects/curso-python-cac/.venv/lib/python3.8/site-packages/ipykernel/zmqshell.py\", line 540, in run_cell\n",
      "    return super().run_cell(*args, **kwargs)\n",
      "                             │       └ {'store_history': True, 'silent': False, 'cell_id': None}\n",
      "                             └ ('logger.remove()\\nlogger.add(sys.stderr, format=\"{time:MMMM D, YYYY > HH:mm:ss} | {level} | {message} | {extra}\")\\n\\n@logger...\n",
      "  File \"/Users/heber.trujilloglovoapp.com/projects/curso-python-cac/.venv/lib/python3.8/site-packages/IPython/core/interactiveshell.py\", line 2945, in run_cell\n",
      "    result = self._run_cell(\n",
      "             │    └ <function InteractiveShell._run_cell at 0x110239c10>\n",
      "             └ <ipykernel.zmqshell.ZMQInteractiveShell object at 0x1116a5d30>\n",
      "  File \"/Users/heber.trujilloglovoapp.com/projects/curso-python-cac/.venv/lib/python3.8/site-packages/IPython/core/interactiveshell.py\", line 3000, in _run_cell\n",
      "    return runner(coro)\n",
      "           │      └ <coroutine object InteractiveShell.run_cell_async at 0x1117c1bc0>\n",
      "           └ <function _pseudo_sync_runner at 0x11022c550>\n",
      "  File \"/Users/heber.trujilloglovoapp.com/projects/curso-python-cac/.venv/lib/python3.8/site-packages/IPython/core/async_helpers.py\", line 129, in _pseudo_sync_runner\n",
      "    coro.send(None)\n",
      "    │    └ <method 'send' of 'coroutine' objects>\n",
      "    └ <coroutine object InteractiveShell.run_cell_async at 0x1117c1bc0>\n",
      "  File \"/Users/heber.trujilloglovoapp.com/projects/curso-python-cac/.venv/lib/python3.8/site-packages/IPython/core/interactiveshell.py\", line 3203, in run_cell_async\n",
      "    has_raised = await self.run_ast_nodes(code_ast.body, cell_name,\n",
      "                       │    │             │        │     └ '/var/folders/96/060rxfdx4yngs36jbqnwdsqh0000gp/T/ipykernel_1897/2907556000.py'\n",
      "                       │    │             │        └ [<_ast.Expr object at 0x1116ec6d0>, <_ast.Expr object at 0x1116833a0>, <_ast.FunctionDef object at 0x1117e6940>, <_ast.Expr o...\n",
      "                       │    │             └ <_ast.Module object at 0x1116ec160>\n",
      "                       │    └ <function InteractiveShell.run_ast_nodes at 0x110239ee0>\n",
      "                       └ <ipykernel.zmqshell.ZMQInteractiveShell object at 0x1116a5d30>\n",
      "  File \"/Users/heber.trujilloglovoapp.com/projects/curso-python-cac/.venv/lib/python3.8/site-packages/IPython/core/interactiveshell.py\", line 3382, in run_ast_nodes\n",
      "    if await self.run_code(code, result, async_=asy):\n",
      "             │    │        │     │              └ False\n",
      "             │    │        │     └ <ExecutionResult object at 1116e7e50, execution_count=12 error_before_exec=None error_in_exec=None info=<ExecutionInfo object...\n",
      "             │    │        └ <code object <module> at 0x1117979d0, file \"/var/folders/96/060rxfdx4yngs36jbqnwdsqh0000gp/T/ipykernel_1897/2907556000.py\", l...\n",
      "             │    └ <function InteractiveShell.run_code at 0x110239f70>\n",
      "             └ <ipykernel.zmqshell.ZMQInteractiveShell object at 0x1116a5d30>\n",
      "  File \"/Users/heber.trujilloglovoapp.com/projects/curso-python-cac/.venv/lib/python3.8/site-packages/IPython/core/interactiveshell.py\", line 3442, in run_code\n",
      "    exec(code_obj, self.user_global_ns, self.user_ns)\n",
      "         │         │    │               │    └ {'__name__': '__main__', '__doc__': 'Automatically created module for IPython interactive environment', '__package__': None, ...\n",
      "         │         │    │               └ <ipykernel.zmqshell.ZMQInteractiveShell object at 0x1116a5d30>\n",
      "         │         │    └ <property object at 0x110227a40>\n",
      "         │         └ <ipykernel.zmqshell.ZMQInteractiveShell object at 0x1116a5d30>\n",
      "         └ <code object <module> at 0x1117979d0, file \"/var/folders/96/060rxfdx4yngs36jbqnwdsqh0000gp/T/ipykernel_1897/2907556000.py\", l...\n",
      "\n",
      "> File \"/var/folders/96/060rxfdx4yngs36jbqnwdsqh0000gp/T/ipykernel_1897/2907556000.py\", line 8, in <module>\n",
      "    test(0)\n",
      "    └ <function test at 0x1117f7310>\n",
      "\n",
      "  File \"/var/folders/96/060rxfdx4yngs36jbqnwdsqh0000gp/T/ipykernel_1897/2907556000.py\", line 6, in test\n",
      "    50/x\n",
      "       └ 0\n",
      "\n",
      "ZeroDivisionError: division by zero\n"
     ]
    }
   ],
   "source": [
    "logger.remove()\n",
    "logger.add(sys.stderr, format=\"{time:MMMM D, YYYY > HH:mm:ss} | {level} | {message} | {extra}\")\n",
    "\n",
    "@logger.catch\n",
    "def test(x):\n",
    "    50/x\n",
    "\n",
    "test(0)"
   ]
  },
  {
   "cell_type": "markdown",
   "id": "5f2119d5",
   "metadata": {},
   "source": [
    "### Guardar logs en un archivo.\n",
    "\n",
    "La opción de `sink` del método `add()` permite elegir el destino de todos los log emitidos a través de un logger. \n",
    "\n",
    "Hasta ahora, solo hemos sólo hemos usado `stderr`, pero también podemos crear un archivo. El archivo debe tener la extensión *.log"
   ]
  },
  {
   "cell_type": "code",
   "execution_count": null,
   "id": "d5252c64",
   "metadata": {},
   "outputs": [],
   "source": [
    "logger.add(\"loguru.log\")\n",
    "\n",
    "logger.debug(\"Mensaje debug.\")"
   ]
  },
  {
   "cell_type": "code",
   "execution_count": null,
   "id": "8aa9701f",
   "metadata": {},
   "outputs": [],
   "source": []
  }
 ],
 "metadata": {
  "kernelspec": {
   "display_name": "Python 3 (ipykernel)",
   "language": "python",
   "name": "python3"
  },
  "language_info": {
   "codemirror_mode": {
    "name": "ipython",
    "version": 3
   },
   "file_extension": ".py",
   "mimetype": "text/x-python",
   "name": "python",
   "nbconvert_exporter": "python",
   "pygments_lexer": "ipython3",
   "version": "3.8.6"
  }
 },
 "nbformat": 4,
 "nbformat_minor": 5
}
