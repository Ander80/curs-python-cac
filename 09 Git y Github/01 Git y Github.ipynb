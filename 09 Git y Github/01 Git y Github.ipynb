{
 "cells": [
  {
   "cell_type": "markdown",
   "id": "f3a62871",
   "metadata": {},
   "source": [
    "# Git y Github\n",
    "\n",
    "Los objetivos de aprendizaje son:\n",
    "\n",
    "1. ¿Qué es Git?\n",
    "    - Control de versiones\n",
    "    - Control de versiones distribuido\n",
    "2. Uso básico\n",
    "    - Crear un nuevo repo\n",
    "    - Añadir Archivos\n",
    "    - Commit\n",
    "3. Staging\n",
    "4. .gitignore\n",
    "5. ¿Qué no añadir a un repo?\n",
    "6. SHA\n",
    "7. Git Log\n",
    "8. Regresar en el tiempo\n",
    "9. Branchs\n",
    "    - Merging\n",
    "    - Rebase\n",
    "    - Cherry-Picking\n",
    "10. Repositorios Remotos\n",
    "    - Clone\n",
    "    - Fetch\n",
    "    - Pull\n",
    "    - Push \n",
    "    - PRs\n",
    "    \n",
    "## ¿Qué es Git?\n",
    "\n",
    "¿Alguna vez has trabajado en un proyecto que dejó de funcionar después de realizar un cambio? y ¿después de hacer el cambio no estabas muy segur@ de cómo recuperarlo? **Git puede ser la solución**\n",
    "\n",
    "\n",
    "Git es un sistema de control de versiones distribuido (DVCS), es decir:\n",
    "\n",
    "\n",
    "- **Sistema de control de versiones**: Es un conjunto de herramientas que rastrean el historial de cambios de un conjunto de archivos, a.k.a. Repositorio. Git también permite comparar archivos entre diferentes versiones (commits), así como recuperar un archivo (o todos los archivos) de cualquier versión dentro del historial del repositorio.\n",
    "\n",
    "\n",
    "- **Distribuido**: Git no tiene un servidor central con la versión definitiva del repositorio. Todos los usuarios tienen una copia completa del repositorio.\n",
    "\n",
    "## Uso básico\n",
    "\n",
    "Comenzaremos trabajando con Git en local. Una vez que lo dominemos, agregaremos GitHub.\n",
    "\n",
    "\n",
    "### Crear un nuevo Repo\n",
    "\n",
    "Primero configuraremos nuestro nombre de usuario, recomiendo usar el mismo nombre de usuario que en GitHub.\n",
    "\n",
    "``` shell\n",
    "!git config --global user.name \"nombre de usuario\"\n",
    "```\n"
   ]
  },
  {
   "cell_type": "code",
   "execution_count": null,
   "id": "ccfda1fb",
   "metadata": {},
   "outputs": [],
   "source": [
    "!git config --global user.name "
   ]
  },
  {
   "cell_type": "markdown",
   "id": "289b0db4",
   "metadata": {},
   "source": [
    "Primero necesitaremos un repositorio para trabajar. Para ello crearemos un nuevo proyecto con poetry"
   ]
  },
  {
   "cell_type": "code",
   "execution_count": null,
   "id": "84697a22",
   "metadata": {},
   "outputs": [],
   "source": [
    "!poetry new git-test"
   ]
  },
  {
   "cell_type": "markdown",
   "id": "4d00a41a",
   "metadata": {},
   "source": [
    "Ahora cambiaremos al directorio del repositorio dentro del kernel para poder ejecutar los comandos desde acá."
   ]
  },
  {
   "cell_type": "code",
   "execution_count": null,
   "id": "6b96712c",
   "metadata": {},
   "outputs": [],
   "source": [
    "import os \n",
    "os.chdir(\"./git-test\")"
   ]
  },
  {
   "cell_type": "markdown",
   "id": "13c1d4ec",
   "metadata": {},
   "source": [
    "Verificamos:"
   ]
  },
  {
   "cell_type": "code",
   "execution_count": null,
   "id": "5d6f6313",
   "metadata": {},
   "outputs": [],
   "source": [
    "!ls"
   ]
  },
  {
   "cell_type": "markdown",
   "id": "ea7c008c",
   "metadata": {},
   "source": [
    "Para inicializar git ejecutaremos el siguiente comando:"
   ]
  },
  {
   "cell_type": "code",
   "execution_count": null,
   "id": "18ab0485",
   "metadata": {},
   "outputs": [],
   "source": [
    "!git init"
   ]
  },
  {
   "cell_type": "markdown",
   "id": "cf4da46b",
   "metadata": {},
   "source": [
    "Con el repositorio inicializado podemos usar el comando `git status` para ver el estatus de nuestro repo."
   ]
  },
  {
   "cell_type": "code",
   "execution_count": null,
   "id": "d0eca7ee",
   "metadata": {},
   "outputs": [],
   "source": [
    "!git status"
   ]
  },
  {
   "cell_type": "markdown",
   "id": "54095208",
   "metadata": {},
   "source": [
    "Esto muestra:\n",
    "\n",
    "- **On branch master**: En qué rama estamos `master` (hablaremos de las ramas más adelante)\n",
    "<br>\n",
    "\n",
    "- **No commits yet**: Significa que todavía no hay cambios versus la última versión registrada del repo.\n",
    "<br>\n",
    "\n",
    "- **Untracked files**: Una lista de los archivos que no son parte del repositorio y que no están bajo control de versión.\n",
    "<br>\n",
    "\n",
    "- **nothing added to commit but untracked files present (use \"git add\" to track)**: Sin diferencias con la última versión registrada, pero sí identifica archivos que no están siendo rastreados por el control de versiones.\n",
    "\n",
    "### Añadir Archivos\n",
    "\n",
    "Podemos añadir los archivos no rastreados al sistema de control de versiones usando el siguiente comando:"
   ]
  },
  {
   "cell_type": "code",
   "execution_count": null,
   "id": "c905a0ed",
   "metadata": {},
   "outputs": [],
   "source": [
    "!git add README.rst"
   ]
  },
  {
   "cell_type": "markdown",
   "id": "5dc91f9a",
   "metadata": {},
   "source": [
    "Veamos el estatus"
   ]
  },
  {
   "cell_type": "code",
   "execution_count": null,
   "id": "4b37773f",
   "metadata": {},
   "outputs": [],
   "source": [
    "!git status"
   ]
  },
  {
   "cell_type": "markdown",
   "id": "b8b5c789",
   "metadata": {},
   "source": [
    "**Changes to be committed**: Indica que el estado actual de la rama `master` tiene una diferencia vs la última versión registrada.\n",
    "\n",
    "Podemos añadir el resto de archivos usando el siguiente comando:"
   ]
  },
  {
   "cell_type": "code",
   "execution_count": null,
   "id": "bebdad6c",
   "metadata": {},
   "outputs": [],
   "source": [
    "!git add ."
   ]
  },
  {
   "cell_type": "code",
   "execution_count": null,
   "id": "fe3629bd",
   "metadata": {},
   "outputs": [],
   "source": [
    "!git status"
   ]
  },
  {
   "cell_type": "markdown",
   "id": "b151a433",
   "metadata": {},
   "source": [
    "### Commit\n",
    "\n",
    "Cuando hacemos *commit* de los cambios le estamos diciendo a Git que haga una \"fotografía\" del estado actual del repo y que confirme todos los cambios propuestos como válidos para esta siguiente versión.\n",
    "\n",
    "Para hacer *commit* debemos ejecutar el siguiente comando:"
   ]
  },
  {
   "cell_type": "code",
   "execution_count": null,
   "id": "0af53e36",
   "metadata": {},
   "outputs": [],
   "source": [
    "!git commit -m \"Inicializando proyecto.\""
   ]
  },
  {
   "cell_type": "markdown",
   "id": "1a06e56e",
   "metadata": {},
   "source": [
    "El comando *commit* regresa info de lo que acabamos de hacer, la mayoría no es tan útil. Lo más relevante es el SHA de la confirmación `(root-commit) <SHA>`, hablaremos de esto más adelante.\n",
    "\n",
    "\n",
    "Veamos el estatus:"
   ]
  },
  {
   "cell_type": "code",
   "execution_count": null,
   "id": "3e8d04e1",
   "metadata": {},
   "outputs": [],
   "source": [
    "!git status"
   ]
  },
  {
   "cell_type": "markdown",
   "id": "4fe7c8bd",
   "metadata": {},
   "source": [
    "## Staging\n",
    "\n",
    "\n",
    "El área de `Staging` es en dónde Git realiza un seguimiento de los cambios que queremos que estén en el próxima *commit*.\n",
    "\n",
    "Cuando ejecutamos `git add README.rst` le dijimos a Git que queríamos mover el nuevo archivo `README.rst` al área de `staging`. El archivo pasó de la sección sin seguimiento a la sección *to-be-commited*.\n",
    "\n",
    "\n",
    ">**Nota**: En `Staging` se refleja el contenido exacto del archivo cuando ejecutamos `git add`, Si modificamos el archivo aquí, el archivo aparecerá tanto en `Staging` como en `unstaged`.\n",
    "\n",
    "Veamos qué significa esto, primero abriré el archivo `README.rst` y añadiré \"Hola\":"
   ]
  },
  {
   "cell_type": "code",
   "execution_count": null,
   "id": "da35507d",
   "metadata": {},
   "outputs": [],
   "source": [
    "!git status"
   ]
  },
  {
   "cell_type": "markdown",
   "id": "52d76d26",
   "metadata": {},
   "source": [
    "Git ha detectado cambios no registrados por el sistema de control de versiones (SCV) en el archivo."
   ]
  },
  {
   "cell_type": "code",
   "execution_count": null,
   "id": "0827e149",
   "metadata": {},
   "outputs": [],
   "source": [
    "!git add README.rst"
   ]
  },
  {
   "cell_type": "code",
   "execution_count": null,
   "id": "b2df5b5f",
   "metadata": {},
   "outputs": [],
   "source": [
    "!git status"
   ]
  },
  {
   "cell_type": "markdown",
   "id": "46c812e4",
   "metadata": {},
   "source": [
    "Hemos añadido los cambios, y de esta manera están listos para formar parte de la siguiente versión.\n",
    "\n",
    "Ahora modificaré el archivo `README.rst` añadiendo \"Hola Mundo.\":"
   ]
  },
  {
   "cell_type": "code",
   "execution_count": null,
   "id": "7eeae396",
   "metadata": {},
   "outputs": [],
   "source": [
    "!git status"
   ]
  },
  {
   "cell_type": "markdown",
   "id": "0d394221",
   "metadata": {},
   "source": [
    "Con Git, en un punto dado (sin contar con todo el historial de versiones) pueden existir tres versiones de un mismo archivo: \n",
    "\n",
    "- **Changes not staged for commit**: La versión que estamos editando en nuestro disco duro.\n",
    "<br>\n",
    "\n",
    "- **Changes to be committed**: La versión que Git almacena en `Staging`, i.e. últimos cambios añadidos.\n",
    "<br>\n",
    "\n",
    "- **La última versión registada en el repo**: La versión generada después de usar `git commit`. \n",
    "\n",
    "Ahora añadiremos los últimos cambios y haremos commit."
   ]
  },
  {
   "cell_type": "code",
   "execution_count": null,
   "id": "fd975ddb",
   "metadata": {},
   "outputs": [],
   "source": [
    "!git add ."
   ]
  },
  {
   "cell_type": "code",
   "execution_count": null,
   "id": "b77dbe6f",
   "metadata": {},
   "outputs": [],
   "source": [
    "!git commit -m \"feat: update README file.\""
   ]
  },
  {
   "cell_type": "markdown",
   "id": "f1df88f9",
   "metadata": {},
   "source": [
    "Veremos que se ha generado un nuevo SHA, `master <nuevo SHA>`.\n",
    "\n",
    "## .gitignore\n",
    "\n",
    "A veces querremos que git no vea algunos archivos, e.g. un archivo con credenciales. Ahí es donde entra el archivo .gitignore.\n",
    "\n",
    "Crearemos un archivo `credenciales.py` en la práctica esto se hace mediante el uso de variables de entorno, y en desarrollo local suelen guardarse en un archivo llamado [`.env`](https://www.python-engineer.com/posts/dotenv-python/)"
   ]
  },
  {
   "cell_type": "code",
   "execution_count": null,
   "id": "9e82f949",
   "metadata": {},
   "outputs": [],
   "source": [
    "!echo \"#credenciales\" > ./credenciales.py"
   ]
  },
  {
   "cell_type": "code",
   "execution_count": null,
   "id": "820c822f",
   "metadata": {},
   "outputs": [],
   "source": [
    "!git status"
   ]
  },
  {
   "cell_type": "markdown",
   "id": "db1a9075",
   "metadata": {},
   "source": [
    "Para que se ignorar el archivo `credenciales.py` (y su contenido), agregaremos un archivo .gitignore a nuestro repositorio."
   ]
  },
  {
   "cell_type": "code",
   "execution_count": null,
   "id": "c5006acd",
   "metadata": {},
   "outputs": [],
   "source": [
    "!echo \"credenciales.py\" > .gitignore"
   ]
  },
  {
   "cell_type": "code",
   "execution_count": null,
   "id": "8e578b00",
   "metadata": {},
   "outputs": [],
   "source": [
    "!git status"
   ]
  },
  {
   "cell_type": "markdown",
   "id": "1eaa2a83",
   "metadata": {},
   "source": [
    "Ahora ya no aparece el archivo `credenciales.py`, no obstante sí vemos el nuevo archivo `.gitignore`, que es un archivo que debemos añadir al SCV."
   ]
  },
  {
   "cell_type": "code",
   "execution_count": null,
   "id": "f11b6781",
   "metadata": {},
   "outputs": [],
   "source": [
    "!git add .gitignore && git commit -m \"feat: add gitignore file.\""
   ]
  },
  {
   "cell_type": "code",
   "execution_count": null,
   "id": "5c0c16d7",
   "metadata": {},
   "outputs": [],
   "source": [
    "!git status"
   ]
  },
  {
   "cell_type": "markdown",
   "id": "d44f6282",
   "metadata": {},
   "source": [
    "## ¿Qué no añadir a un repo?\n",
    "\n",
    "No debemos poner todos los archivos dentro del SCV, existen limitaciones, así como problemas de seguridad que debemos tener en consideración, una regla sencilla es:\n",
    "\n",
    "> Solo añadir source files, nunca los archivos generados.\n",
    "\n",
    "En este contexto, un source files es cualquier archivo que hagamos nosotros, generalmente escribiendo en un editor. Un archivo generado es algo que crea la computadora, generalmente al procesar un source files.\n",
    "\n",
    "al usar Git, y especialmente cuando trabajemos con GitHub, nunca debemos colocar información confidencial en un repositorio.\n",
    "\n",
    "## SHA\n",
    "\n",
    "Cuando Git almacena cosas (archivos, directorios, confirmaciones, etc.) en su repositorio, las almacena mediante el uso de una función hash. \n",
    "\n",
    "una función hash toma una cosa y produce un identificador único para esa cosa que es mucho más compacta (20 bytes, en nuestro caso). Este ID se llama \"SHA\" en Git.\n",
    "\n",
    "Git usa los SHAs para indexar todo en su repositorio. Cada archivo tiene un SHA que refleja el contenido de ese archivo. Cada directorio, a su vez, tiene SHA. Si un archivo en ese directorio cambia, el SHA del directorio también cambia.\n",
    "\n",
    "Cada *commit* contiene el SHA del directorio padre dentro de nuestro repo, junto con otra info, así es como un número de 20 bytes describe el etado completo de nuestro Repo.\n",
    "\n",
    "\n",
    "```` shell\n",
    "commit e12848ab4c8af3a310af30953dace79833f477eb \n",
    "````\n",
    "\n",
    "## Git Log\n",
    "\n",
    "Muestra el historial de *commits* realizados hasta este momento:"
   ]
  },
  {
   "cell_type": "code",
   "execution_count": null,
   "id": "fd53657d",
   "metadata": {
    "scrolled": true
   },
   "outputs": [],
   "source": [
    "!git log"
   ]
  },
  {
   "cell_type": "markdown",
   "id": "eae2aa7e",
   "metadata": {},
   "source": [
    "## Regresar en el tiempo\n",
    "\n",
    "Debido a que Git recuerda cada *commit* realizado y su SHA, puedemos decirle a Git que vaya a cualquiera de esos *commits* para ver el repositorio tal como era en ese momento.\n",
    "\n",
    "Contenido actual del archivo README.rst:\n",
    "``` rst\n",
    "Hola Mundo.\n",
    "\n",
    "```\n",
    "\n",
    "\n",
    "Para regresar el estado original usaremos el commando:"
   ]
  },
  {
   "cell_type": "code",
   "execution_count": null,
   "id": "cbf91fc8",
   "metadata": {},
   "outputs": [],
   "source": [
    "!git checkout a36c792b088bd9365c8ed14ae23427167b53ad76"
   ]
  },
  {
   "cell_type": "code",
   "execution_count": null,
   "id": "b06009a1",
   "metadata": {},
   "outputs": [],
   "source": [
    "!git log"
   ]
  },
  {
   "cell_type": "markdown",
   "id": "3b775712",
   "metadata": {},
   "source": [
    "Vamos a procesar la nueva terminología:\n",
    "\n",
    "- **HEAD**: Es el nombre de Git para cualquier SHA que estemos viendo al momento. **NO** significa lo que está en el sistema de archivos o lo que está en `Staging`. Entonces, si editamos un archivo, la versión en el sistema de archivos es diferente a la versión en HEAD.\n",
    "\n",
    "\n",
    "- **branch**: Es una \"etiqueta\" que le damos a un SHA. Tiene algunas otras propiedades que son útiles, pero por ahora, pensemos en una rama como una etiqueta de un SHA.\n",
    "\n",
    "\n",
    "Por tanto:\n",
    "\n",
    "- **detached HEAD**: Significa que nuestro HEAD apunta a un SHA que no tiene una rama ( etiqueta) asociada.\n",
    "\n",
    "\n",
    "Si miramos el directorio del repo veremos que el archivo .gitignore no está y que el archivo README.rst está vacío, justo el estado del primer *commit*.\n",
    "\n",
    "Bien. Ahora, ¿cómo volvemos a donde estábamos? Hay dos formas, una de las cuales es igual que hicmos antes para volver al primer *commit*.\n",
    "\n",
    "La otra es mediante un *checkout* a la rama (branch) master."
   ]
  },
  {
   "cell_type": "code",
   "execution_count": null,
   "id": "aee89802",
   "metadata": {},
   "outputs": [],
   "source": [
    "! git checkout master"
   ]
  },
  {
   "cell_type": "markdown",
   "id": "2673d566",
   "metadata": {},
   "source": [
    "Esto nos devolverá al último *commit* SHA de la rama master, que en nuestro caso tiene el mensaje \"feat: add gitignore file.\"\n",
    "\n",
    "## Branchs\n",
    "\n",
    "Las ramas (*branchs*) brindan una manera de mantener separados los flujos de desarrollo. Si bien esto puede ser útil cuando trabajamos solo, es esencial cuando trabaja en equipo.\n",
    "\n",
    "Imaginemos que estamos trabajando en un equipo, y que estamos desarrollando una funcionalidad para agregar al proyecto. Mientras trabajamos en ello, no quierremos agregar los cambios a la rama principal `master`, ya que todavía no funcionan correctamente y podría estropear el código.\n",
    "\n",
    "\n",
    "Podríamos esperar para hacer *commit* de los cambios hasta terminar por completo, pero eso no es muy seguro y no siempre es práctico. Entonces, en lugar de trabajar sobre la rama `master`, crearemos una nueva rama:\n"
   ]
  },
  {
   "cell_type": "code",
   "execution_count": null,
   "id": "c69ca367",
   "metadata": {},
   "outputs": [],
   "source": [
    "!git checkout -b feat/add_func"
   ]
  },
  {
   "cell_type": "code",
   "execution_count": null,
   "id": "2d09a949",
   "metadata": {},
   "outputs": [],
   "source": [
    "!git status"
   ]
  },
  {
   "cell_type": "markdown",
   "id": "3a6a7089",
   "metadata": {},
   "source": [
    "Usamos la opción `-b` del comando `checkout` para creara una nueva rama.\n",
    "\n",
    "Al ejecutar `git status` git muestra que el nombre de la rama ha cambiado. Veamos el log:"
   ]
  },
  {
   "cell_type": "code",
   "execution_count": null,
   "id": "cc19e86a",
   "metadata": {
    "scrolled": true
   },
   "outputs": [],
   "source": [
    "!git log"
   ]
  },
  {
   "cell_type": "markdown",
   "id": "2c31e173",
   "metadata": {},
   "source": [
    "Cuando creamos una nueva rama, ésta comenzará desde la ubicación en la que estábamos. En este caso, estábamos en la parte superior de `master`.\n",
    "\n",
    "Ahora, crearemos una nueva feature:"
   ]
  },
  {
   "cell_type": "code",
   "execution_count": null,
   "id": "0acd317a",
   "metadata": {},
   "outputs": [],
   "source": [
    "!echo \"'Neva feature python'\" > ./git_test/feature.py"
   ]
  },
  {
   "cell_type": "code",
   "execution_count": null,
   "id": "37edf48d",
   "metadata": {},
   "outputs": [],
   "source": [
    "!git status"
   ]
  },
  {
   "cell_type": "code",
   "execution_count": null,
   "id": "7dbf47ee",
   "metadata": {},
   "outputs": [],
   "source": [
    "!git add git_test/feature.py"
   ]
  },
  {
   "cell_type": "code",
   "execution_count": null,
   "id": "1e7d922b",
   "metadata": {},
   "outputs": [],
   "source": [
    "!git commit -m \"feat: new feature in python.\""
   ]
  },
  {
   "cell_type": "markdown",
   "id": "034dbdb4",
   "metadata": {},
   "source": [
    "Si revisamos el log, veremos un nuevo commit:"
   ]
  },
  {
   "cell_type": "code",
   "execution_count": null,
   "id": "ad4c018e",
   "metadata": {},
   "outputs": [],
   "source": [
    "!git log"
   ]
  },
  {
   "cell_type": "markdown",
   "id": "ac5ef730",
   "metadata": {},
   "source": [
    "Regresemos a `master` y miremos los logs:"
   ]
  },
  {
   "cell_type": "code",
   "execution_count": null,
   "id": "f8bf7fa9",
   "metadata": {},
   "outputs": [],
   "source": [
    "!git checkout master && git log"
   ]
  },
  {
   "cell_type": "markdown",
   "id": "c4fd3ef2",
   "metadata": {},
   "source": [
    "El nuevo commit no está acá.\n",
    "\n",
    "Git tiene una forma integrada de comparar el estado de dos ramas:"
   ]
  },
  {
   "cell_type": "code",
   "execution_count": null,
   "id": "272676d6",
   "metadata": {},
   "outputs": [],
   "source": [
    "!git show-branch feat/add_func master"
   ]
  },
  {
   "cell_type": "markdown",
   "id": "4df03a62",
   "metadata": {},
   "source": [
    "La info que se muestra es un poco confusa al principio. \n",
    "\n",
    "- **Dos primeras lineas**: El primer carácter que no es un espacio en cada línea es `*` o `!` seguido del nombre de la rama y luego el *commit message* más reciente de cada rama.\n",
    "    - `*` se usa para indicar en qué rama estamos actualmente\n",
    "    - `!` se utiliza para todas las demás ramas. `!` está en la columna que coincide con los *commits* en la tabla inferior.\n",
    "\n",
    "La tercera línea es un separador.\n",
    "\n",
    "- **Desde la cuarta línea hasta la penúltima**: se listarán los *commits* si aparecen con el símbolo `+` significará que están en la rama actual, si aparecen con el símbolo `*` significará que no están en la rama actual pero sí en la que estamos comparando.\n",
    "\n",
    "\n",
    "- **Última línea**: Muestra el primer *commit* que comparten las dos ramas.\n",
    "\n",
    "Ahora que tenemos una rama la funcionalidad desarolladoa. ¿Cómo la compartimos con el resto del equipo?\n",
    "\n",
    "Hay tres formas principales de obtener de llevar los commits de una rama a otra:\n",
    "\n",
    "- merging\n",
    "- rebasing\n",
    "- cherry-picking\n",
    "\n",
    "\n",
    "### Merging\n",
    "\n",
    "Es la forma más simple. Cuando macemos `merge` de `feat/add_func` a `master`, Git creará una nuevo *commit* que cominará los SHA más nuevos de las dos ramas. Si todas los *commits* en la rama `feat/add_func` están por delante del *commit* más nuevo de la rama `master`, simplemente se hará un `fast-foward merge`, i.e. se colocarán los nuevos *commits* `feat/add_func` por delante de los *commits* de `master`.\n",
    "\n"
   ]
  },
  {
   "cell_type": "code",
   "execution_count": null,
   "id": "d2050687",
   "metadata": {},
   "outputs": [],
   "source": [
    "!git checkout master"
   ]
  },
  {
   "cell_type": "code",
   "execution_count": null,
   "id": "e6ea0258",
   "metadata": {},
   "outputs": [],
   "source": [
    "!git merge feat/add_func"
   ]
  },
  {
   "cell_type": "markdown",
   "id": "7af1e790",
   "metadata": {},
   "source": [
    "Si hubiéramos hecho cambios en `master` antes del `merge`, Git habría creado un nuevo *commit* que sería la combinación de los cambios de las dos ramas.\n",
    "\n",
    "Una de las cosas en las que Git es bastante bueno es en comprender los ancestros comunes de diferentes ramas y fusionar automáticamente los cambios.\n",
    "\n",
    "> **Nota**: Si la misma sección de código se ha modificado en ambas ramas, Git no puede averiguar qué hacer. Cuando esto sucede, detiene el `merge`. Esto se denomina `merge conflict`.\n",
    "\n",
    "\n",
    "### Rebasing\n",
    "\n",
    "Es similar al `merge`. En un `merge`, si ambas ramas tienen cambios, se crea un nuevo *commit* de `merge`. Al hacer `rebasing`, Git tomará los *commits* de la rama que integraremos y los reproducirá, uno a la vez, en la parte superior de la otra rama.\n",
    "\n",
    "\n",
    "### Cherry-Picking\n",
    "\n",
    "Es otro método para mover *commits* de una rama a otra. A diferencia del `merge` y `rebase`, con `cherry-picking` especificamos exactamente a qué *commits* queremos. La forma más fácil de hacer esto es simplemente especificando un solo SHA:\n",
    "\n",
    "```shell\n",
    "git cherry-pick c8290f21fc4bae610cc37734d48906828ffabac8\n",
    "```\n",
    "\n",
    "Esto le dice a Git que tome los cambios que se hicieron en c8290f21 y los aplique a la rama actual.\n",
    "\n",
    "Esta característica puede ser muy útil cuando queremos un cambio específico pero no toda la rama en la que se realizó el cambio.\n",
    "\n",
    "## Repositorios Remotos\n",
    "\n",
    "Todos los comandos que hemos discutido hasta este punto funcionan solo con su repositorio local. No se comunican con un servidor o a través de la red.\n",
    "\n",
    "Hay cuatro comandos principales de Git que pueden comunicarnos con repositorios remotos:\n",
    "\n",
    "- clone\n",
    "- fetch\n",
    "- pull\n",
    "- push\n",
    "\n",
    "\n",
    "### Clone \n",
    "\n",
    "Primero crearemos un repositorio en [GitHub](https://github.com/), después usaremos su URL para clonarlo en local."
   ]
  },
  {
   "cell_type": "code",
   "execution_count": 1,
   "id": "89a6cef7",
   "metadata": {},
   "outputs": [],
   "source": [
    "import os\n",
    "os.chdir(\"..\")\n",
    "os.chdir(\"..\")"
   ]
  },
  {
   "cell_type": "code",
   "execution_count": null,
   "id": "65ad43fe",
   "metadata": {},
   "outputs": [],
   "source": [
    "!git clone <url>"
   ]
  },
  {
   "cell_type": "code",
   "execution_count": null,
   "id": "abe97926",
   "metadata": {},
   "outputs": [],
   "source": [
    "!cd <repo-name> && ls"
   ]
  },
  {
   "cell_type": "code",
   "execution_count": 4,
   "id": "a36e328a",
   "metadata": {},
   "outputs": [],
   "source": [
    "os.chdir(\"./test-curso-cac/\")"
   ]
  },
  {
   "cell_type": "markdown",
   "id": "896e4975",
   "metadata": {},
   "source": [
    "Ahora tenemos el repositorioc en local. Esto incluye todos los commits y todas las `branches`.\n",
    "\n",
    "### Push\n",
    "\n",
    "Envía la información sobre la rama que estamos trabajando y le pregunta al `remote` si le gustaría actualizar su versión de esa rama para que coincida con la nuestra.\n",
    "\n",
    "Antes de usar el comando `push`, actualziaremos el repo:"
   ]
  },
  {
   "cell_type": "code",
   "execution_count": 5,
   "id": "338ba661",
   "metadata": {},
   "outputs": [
    {
     "name": "stdout",
     "output_type": "stream",
     "text": [
      "Switched to a new branch 'feat/new-feat'\r\n"
     ]
    }
   ],
   "source": [
    "!git checkout -b feat/new-feat"
   ]
  },
  {
   "cell_type": "code",
   "execution_count": null,
   "id": "d8282446",
   "metadata": {},
   "outputs": [],
   "source": [
    "!echo \"'Hola'\" > ./hola.py"
   ]
  },
  {
   "cell_type": "code",
   "execution_count": null,
   "id": "ec181136",
   "metadata": {},
   "outputs": [],
   "source": [
    "!git add hola.py"
   ]
  },
  {
   "cell_type": "code",
   "execution_count": null,
   "id": "56e631a2",
   "metadata": {},
   "outputs": [],
   "source": [
    "!git commit -m \"feat: add hola\""
   ]
  },
  {
   "cell_type": "code",
   "execution_count": null,
   "id": "13bcf0a0",
   "metadata": {},
   "outputs": [],
   "source": [
    "!git push --set-upstream origin feat/new-feat"
   ]
  },
  {
   "cell_type": "markdown",
   "id": "9ec19498",
   "metadata": {},
   "source": [
    "### Pull Request\n",
    "\n",
    "Se trata de una manera más estructurada de integrar cambios a un repositorio remoto, de esta manera podemos incorporar:\n",
    "\n",
    "- Revisiones: Podemos pedir a colegas que revisen nuestras cambios y añadan sugerencias.\n",
    "\n",
    "- Workflows: Podemos añadir rutinas que verifique que los cambios propuestos cumplan con requisitos de formato o que pasen un set de pruebas, e.g. `pytest`.\n",
    "\n",
    "Ahora iremos al repo y haremos una solicitud para integrar nuestros cambios...\n",
    "\n",
    "\n",
    "¿Cómo incorporamos los cambios más nuevos a nuestro repositorio local?\n",
    "\n",
    "### Fetch\n",
    "\n",
    "Cuando clonamos un nuevo repositorio, Git no solo copia una sola versión de los archivos en ese proyecto. Copia todo el repositorio y lo usa para crear un nuevo repositorio en local.\n",
    "\n",
    "Git no crea `branches` locales, excepto para `master` o `main`. Sin embargo, realiza un seguimiento de las `branches` que estaban en el servidor. Para hacerlo, Git crea un conjunto de `branches` que comienzan con `remotes/origin/<branch_name>`.\n",
    "\n",
    "`git fetch` actualiza todas las `branches` dentro de `remotes/origin`. Solo modificará las `branches` almacenadas en `remotes/origin` y ninguna de las `branches` locales.\n",
    "\n",
    "\n",
    "### Pull\n",
    "\n",
    "Git pull es simplemente la combinación de dos comandos:\n",
    "\n",
    "- Hace un git fetch para actualizar las `branches` dentro de `remotes/origin`.\n",
    "\n",
    "- Si la `branch` en la que estamos está vinculada a una `branch` remota, entonces se hará un `merge` de la `branch` `remotes/origin` a nuestra `branch` local."
   ]
  },
  {
   "cell_type": "code",
   "execution_count": null,
   "id": "ab652977",
   "metadata": {},
   "outputs": [],
   "source": [
    "!git branch"
   ]
  },
  {
   "cell_type": "code",
   "execution_count": null,
   "id": "7d20be8b",
   "metadata": {},
   "outputs": [],
   "source": [
    "!git checkout master"
   ]
  },
  {
   "cell_type": "code",
   "execution_count": null,
   "id": "fbf94c32",
   "metadata": {},
   "outputs": [],
   "source": [
    "!git pull"
   ]
  }
 ],
 "metadata": {
  "kernelspec": {
   "display_name": "Python 3 (ipykernel)",
   "language": "python",
   "name": "python3"
  },
  "language_info": {
   "codemirror_mode": {
    "name": "ipython",
    "version": 3
   },
   "file_extension": ".py",
   "mimetype": "text/x-python",
   "name": "python",
   "nbconvert_exporter": "python",
   "pygments_lexer": "ipython3",
   "version": "3.8.6"
  }
 },
 "nbformat": 4,
 "nbformat_minor": 5
}
