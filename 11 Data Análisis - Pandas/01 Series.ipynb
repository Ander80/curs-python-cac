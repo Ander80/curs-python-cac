{
 "cells": [
  {
   "cell_type": "markdown",
   "metadata": {},
   "source": [
    "# Series\n",
    "\n",
    "Objetivos de Aprendizaje\n",
    "\n",
    "1. ¿Qué es una serie?\n",
    "2. ¿Cómo crear una serie?\n",
    "3. Series vs Listas\n",
    "    - Atributos\n",
    "    - Métodos\n",
    "    - Filtros\n",
    "\n",
    "## ¿Qué es una serie?\n",
    "\n",
    "En esta lección veremos una descripción general de uno de los dos tipos de estructuras disponibles en Pandas, las Series.\n",
    "\n",
    "Las [Series](https://pandas.pydata.org/docs/reference/series.html) son una matriz etiquetada y unidimensional (~lista) capaz de contener cualquier tipo de datos (enteros, cadenas de texto, número de punto flotante, etc.). Las etiquetas suelen denominarse índices.\n",
    "\n",
    "> **Principio básico de Pandas**: La alineación entre datos e índices es intrínseca a las, i.e. el vínculo entre los índices y los datos no se romperá a menos que el usuario lo haga explícitamente.\n",
    "\n",
    "Antes de iniciar importaremos los paquetes necesarios\n"
   ]
  },
  {
   "cell_type": "code",
   "execution_count": 1,
   "metadata": {},
   "outputs": [],
   "source": [
    "import numpy as np\n",
    "import pandas as pd"
   ]
  },
  {
   "cell_type": "markdown",
   "metadata": {},
   "source": [
    "## ¿Cómo crear una Serie?\n",
    "\n",
    "Para crear una Serie en Pandas, es necesario hacer uso de su [constructor](https://pandas.pydata.org/docs/reference/api/pandas.Series.html#pandas.Series):\n",
    "\n",
    "```python\n",
    "\n",
    "s = pd.Series(data, index)\n",
    "\n",
    "```\n",
    "\n",
    "Dónde: \n",
    "\n",
    "1. `data`: Se refiere a los datos que serán almacenados en la Serie, pueden ser en la forma de una lista, dict, np.array.\n",
    "    \n",
    "2. `index`: Las etiquetas que estarán emparejadas con los datos, tienen que ser un vector unidimensional.\n",
    "\n",
    "El resto de parámetro son opcionales.\n",
    "\n",
    "Veamos un par de ejemplos:"
   ]
  },
  {
   "cell_type": "code",
   "execution_count": 2,
   "metadata": {},
   "outputs": [
    {
     "data": {
      "text/plain": [
       "a    1\n",
       "b    2\n",
       "c    3\n",
       "e    4\n",
       "f    5\n",
       "dtype: int64"
      ]
     },
     "execution_count": 2,
     "metadata": {},
     "output_type": "execute_result"
    }
   ],
   "source": [
    "# Desde una lista de datos e índices\n",
    "data = [1, 2, 3, 4, 5]\n",
    "index = [\"a\", \"b\", \"c\", \"e\", \"f\"]\n",
    "\n",
    "s = pd.Series(data, index)\n",
    "\n",
    "s"
   ]
  },
  {
   "cell_type": "code",
   "execution_count": 3,
   "metadata": {},
   "outputs": [
    {
     "data": {
      "text/plain": [
       "a    1\n",
       "b    2\n",
       "c    3\n",
       "dtype: int64"
      ]
     },
     "execution_count": 3,
     "metadata": {},
     "output_type": "execute_result"
    }
   ],
   "source": [
    "# Desde diccionario\n",
    "d = {\"a\": 1, \"b\": 2, \"c\": 3}\n",
    "s = pd.Series(d)\n",
    "s"
   ]
  },
  {
   "cell_type": "code",
   "execution_count": 4,
   "metadata": {
    "scrolled": true
   },
   "outputs": [
    {
     "data": {
      "text/plain": [
       "0    0.000000\n",
       "1    0.114136\n",
       "2    1.298794\n",
       "3    2.934978\n",
       "dtype: float64"
      ]
     },
     "execution_count": 4,
     "metadata": {},
     "output_type": "execute_result"
    }
   ],
   "source": [
    "# Desde un np.array()\n",
    "serie_1 = pd.Series(np.random.randn(40)) \n",
    "\n",
    "serie_2 = pd.Series(map(lambda x: x*np.random.rand() ,range(40)))\n",
    "\n",
    "# Podemos acceder a sus datos, tal y como se se tratara de una lista\n",
    "serie_2[:4]"
   ]
  },
  {
   "cell_type": "code",
   "execution_count": 5,
   "metadata": {
    "scrolled": true
   },
   "outputs": [
    {
     "data": {
      "text/plain": [
       "1"
      ]
     },
     "execution_count": 5,
     "metadata": {},
     "output_type": "execute_result"
    }
   ],
   "source": [
    "# También podemos acceder a los datos tal y como si se tratara de un dict \n",
    "s[\"a\"]"
   ]
  },
  {
   "cell_type": "markdown",
   "metadata": {},
   "source": [
    "> **Nota**: En la mayoría de las situaciones estaremos creando Series desde un archivo externo, por ejemplo un *.csv "
   ]
  },
  {
   "cell_type": "code",
   "execution_count": 6,
   "metadata": {},
   "outputs": [
    {
     "name": "stdout",
     "output_type": "stream",
     "text": [
      "Overwriting ejemplo.csv\n"
     ]
    }
   ],
   "source": [
    "%%writefile ejemplo.csv\n",
    "\"a\"\n",
    "\"b\"\n",
    "\"c\"\n",
    "\"d\""
   ]
  },
  {
   "cell_type": "code",
   "execution_count": 8,
   "metadata": {},
   "outputs": [
    {
     "data": {
      "text/plain": [
       "0    b\n",
       "1    c\n",
       "2    d\n",
       "Name: a, dtype: object"
      ]
     },
     "execution_count": 8,
     "metadata": {},
     "output_type": "execute_result"
    }
   ],
   "source": [
    "pd.read_csv(\"ejemplo.csv\").squeeze(\"columns\")"
   ]
  },
  {
   "cell_type": "markdown",
   "metadata": {},
   "source": [
    "Todo esto es interesante, pero...\n",
    "\n",
    "## Series vs Listas\n",
    "\n",
    "Al igual que las listas, una serie es una abstracción de una estructura de datos. En este sentido una serie es más conveniente por las funcionalidades que añade en comparación con las listas.\n",
    "\n",
    "Primero crearemos una serie a partir de número generados aletoriamente desde una distribución [normal estándar](https://es.wikipedia.org/wiki/Tabla_normal_est%C3%A1ndar)."
   ]
  },
  {
   "cell_type": "code",
   "execution_count": 9,
   "metadata": {},
   "outputs": [],
   "source": [
    "serie = pd.Series(np.random.randn(5000))"
   ]
  },
  {
   "cell_type": "code",
   "execution_count": 10,
   "metadata": {},
   "outputs": [
    {
     "data": {
      "text/plain": [
       "0      -1.113983\n",
       "1       1.105729\n",
       "2      -1.857878\n",
       "3       0.717069\n",
       "4      -1.347289\n",
       "          ...   \n",
       "4995   -1.564431\n",
       "4996    1.018331\n",
       "4997   -0.473388\n",
       "4998   -0.086333\n",
       "4999    0.351430\n",
       "Length: 5000, dtype: float64"
      ]
     },
     "execution_count": 10,
     "metadata": {},
     "output_type": "execute_result"
    }
   ],
   "source": [
    "serie"
   ]
  },
  {
   "cell_type": "markdown",
   "metadata": {},
   "source": [
    "### Atributos\n",
    "\n",
    "En esta sección revisaremos algunos de los atributos más comunes."
   ]
  },
  {
   "cell_type": "code",
   "execution_count": 11,
   "metadata": {},
   "outputs": [
    {
     "data": {
      "text/plain": [
       "dtype('float64')"
      ]
     },
     "execution_count": 11,
     "metadata": {},
     "output_type": "execute_result"
    }
   ],
   "source": [
    "# Tipo de datos que almacena\n",
    "serie.dtype"
   ]
  },
  {
   "cell_type": "code",
   "execution_count": 12,
   "metadata": {},
   "outputs": [
    {
     "data": {
      "text/plain": [
       "5000"
      ]
     },
     "execution_count": 12,
     "metadata": {},
     "output_type": "execute_result"
    }
   ],
   "source": [
    "# Número de elementos\n",
    "serie.size"
   ]
  },
  {
   "cell_type": "code",
   "execution_count": 13,
   "metadata": {},
   "outputs": [
    {
     "data": {
      "text/plain": [
       "array([-1.11398316,  1.10572941, -1.85787822, ..., -0.47338807,\n",
       "       -0.08633313,  0.35143019])"
      ]
     },
     "execution_count": 13,
     "metadata": {},
     "output_type": "execute_result"
    }
   ],
   "source": [
    "# Regresa en forma de array los datos de una Serie\n",
    "serie.values"
   ]
  },
  {
   "cell_type": "code",
   "execution_count": 14,
   "metadata": {},
   "outputs": [
    {
     "data": {
      "text/plain": [
       "RangeIndex(start=0, stop=5000, step=1)"
      ]
     },
     "execution_count": 14,
     "metadata": {},
     "output_type": "execute_result"
    }
   ],
   "source": [
    "# acceder a los índices de una Serie\n",
    "serie.index"
   ]
  },
  {
   "cell_type": "markdown",
   "metadata": {},
   "source": [
    "### Métodos\n",
    "\n",
    "En esta sección veremos algunos de los métodos más comunes y útiles de Pandas\n",
    "\n",
    "#### .head() & .tail()"
   ]
  },
  {
   "cell_type": "code",
   "execution_count": 15,
   "metadata": {},
   "outputs": [
    {
     "data": {
      "text/plain": [
       "0   -1.113983\n",
       "1    1.105729\n",
       "2   -1.857878\n",
       "3    0.717069\n",
       "4   -1.347289\n",
       "dtype: float64"
      ]
     },
     "execution_count": 15,
     "metadata": {},
     "output_type": "execute_result"
    }
   ],
   "source": [
    "serie.head()"
   ]
  },
  {
   "cell_type": "code",
   "execution_count": 16,
   "metadata": {},
   "outputs": [
    {
     "data": {
      "text/plain": [
       "4998   -0.086333\n",
       "4999    0.351430\n",
       "dtype: float64"
      ]
     },
     "execution_count": 16,
     "metadata": {},
     "output_type": "execute_result"
    }
   ],
   "source": [
    "serie.tail(2)"
   ]
  },
  {
   "cell_type": "markdown",
   "metadata": {},
   "source": [
    "#### .sort_values()\n",
    "\n",
    "Sirve para ordenar de manera descendente o ascendente los valores de una serie.\n",
    "\n",
    "El método contiene varios parámetros que puedes explorar [aquí](https://pandas.pydata.org/docs/reference/api/pandas.Series.sort_values.html#pandas.Series.sort_values), pero de un inicio es importante hacer referencia en dos de ellos:\n",
    "\n",
    "1. ascending: `True` (valor por defecto) / `False`.\n",
    "    Indica si ordenaremos de manera ascendente o descendente.\n",
    "    \n",
    "2. inplace: `True` / `False` (valor por defecto).\n",
    "    Indica si la operación modificará o no permanentemente a la Serie.\n",
    "\n",
    "Veamos un ejemplo:"
   ]
  },
  {
   "cell_type": "code",
   "execution_count": 17,
   "metadata": {},
   "outputs": [
    {
     "data": {
      "text/plain": [
       "4528   -3.715708\n",
       "16     -3.429861\n",
       "656    -3.373241\n",
       "26     -3.219683\n",
       "3825   -3.182393\n",
       "dtype: float64"
      ]
     },
     "execution_count": 17,
     "metadata": {},
     "output_type": "execute_result"
    }
   ],
   "source": [
    "serie.sort_values().head()"
   ]
  },
  {
   "cell_type": "code",
   "execution_count": 18,
   "metadata": {},
   "outputs": [
    {
     "data": {
      "text/plain": [
       "0   -1.113983\n",
       "1    1.105729\n",
       "2   -1.857878\n",
       "3    0.717069\n",
       "4   -1.347289\n",
       "dtype: float64"
      ]
     },
     "execution_count": 18,
     "metadata": {},
     "output_type": "execute_result"
    }
   ],
   "source": [
    "serie.head()"
   ]
  },
  {
   "cell_type": "code",
   "execution_count": 24,
   "metadata": {},
   "outputs": [],
   "source": [
    "serie.sort_values(ascending = False, inplace = True)"
   ]
  },
  {
   "cell_type": "code",
   "execution_count": 20,
   "metadata": {},
   "outputs": [
    {
     "data": {
      "text/plain": [
       "1770    4.026015\n",
       "2208    3.819894\n",
       "4331    3.698275\n",
       "4436    3.329037\n",
       "3046    3.206883\n",
       "          ...   \n",
       "3825   -3.182393\n",
       "26     -3.219683\n",
       "656    -3.373241\n",
       "16     -3.429861\n",
       "4528   -3.715708\n",
       "Length: 5000, dtype: float64"
      ]
     },
     "execution_count": 20,
     "metadata": {},
     "output_type": "execute_result"
    }
   ],
   "source": [
    "serie"
   ]
  },
  {
   "cell_type": "markdown",
   "metadata": {},
   "source": [
    "> Si el parámetro `inplace = True` la respuesta es `None`"
   ]
  },
  {
   "cell_type": "markdown",
   "metadata": {},
   "source": [
    "#### .sort_index() \n",
    "\n",
    "Ordenar la Serie usando los índices.\n",
    "\n",
    "El método contiene varios parámetros que puedes explorar [aquí](https://pandas.pydata.org/docs/reference/api/pandas.Series.sort_index.html)."
   ]
  },
  {
   "cell_type": "code",
   "execution_count": 25,
   "metadata": {},
   "outputs": [
    {
     "data": {
      "text/plain": [
       "0      -1.113983\n",
       "1       1.105729\n",
       "2      -1.857878\n",
       "3       0.717069\n",
       "4      -1.347289\n",
       "          ...   \n",
       "4995   -1.564431\n",
       "4996    1.018331\n",
       "4997   -0.473388\n",
       "4998   -0.086333\n",
       "4999    0.351430\n",
       "Length: 5000, dtype: float64"
      ]
     },
     "execution_count": 25,
     "metadata": {},
     "output_type": "execute_result"
    }
   ],
   "source": [
    "serie.sort_index()"
   ]
  },
  {
   "cell_type": "code",
   "execution_count": 26,
   "metadata": {},
   "outputs": [
    {
     "data": {
      "text/plain": [
       "1770    4.026015\n",
       "2208    3.819894\n",
       "4331    3.698275\n",
       "4436    3.329037\n",
       "3046    3.206883\n",
       "dtype: float64"
      ]
     },
     "execution_count": 26,
     "metadata": {},
     "output_type": "execute_result"
    }
   ],
   "source": [
    "serie.head()"
   ]
  },
  {
   "cell_type": "code",
   "execution_count": 29,
   "metadata": {},
   "outputs": [],
   "source": [
    "serie.sort_index(inplace = True)"
   ]
  },
  {
   "cell_type": "code",
   "execution_count": 23,
   "metadata": {},
   "outputs": [
    {
     "data": {
      "text/plain": [
       "0      -1.113983\n",
       "1       1.105729\n",
       "2      -1.857878\n",
       "3       0.717069\n",
       "4      -1.347289\n",
       "          ...   \n",
       "4995   -1.564431\n",
       "4996    1.018331\n",
       "4997   -0.473388\n",
       "4998   -0.086333\n",
       "4999    0.351430\n",
       "Length: 5000, dtype: float64"
      ]
     },
     "execution_count": 23,
     "metadata": {},
     "output_type": "execute_result"
    }
   ],
   "source": [
    "serie"
   ]
  },
  {
   "cell_type": "markdown",
   "metadata": {},
   "source": [
    "#### .apply()\n",
    "\n",
    "Aplica una función a los valores de una serie.\n",
    "\n",
    "**Función simple**"
   ]
  },
  {
   "cell_type": "code",
   "execution_count": 27,
   "metadata": {},
   "outputs": [],
   "source": [
    "def pos_neg(valor: float) -> str:\n",
    "    \n",
    "    if valor>= 0:\n",
    "        return \"Positivo\"\n",
    "    else:\n",
    "        return \"Negativo\"\n",
    "    "
   ]
  },
  {
   "cell_type": "code",
   "execution_count": 30,
   "metadata": {},
   "outputs": [
    {
     "data": {
      "text/plain": [
       "0   -1.113983\n",
       "1    1.105729\n",
       "2   -1.857878\n",
       "3    0.717069\n",
       "4   -1.347289\n",
       "dtype: float64"
      ]
     },
     "execution_count": 30,
     "metadata": {},
     "output_type": "execute_result"
    }
   ],
   "source": [
    "serie.head()"
   ]
  },
  {
   "cell_type": "code",
   "execution_count": 33,
   "metadata": {
    "scrolled": false
   },
   "outputs": [
    {
     "data": {
      "text/plain": [
       "0    Negativo\n",
       "1    Positivo\n",
       "2    Negativo\n",
       "3    Positivo\n",
       "4    Negativo\n",
       "dtype: object"
      ]
     },
     "execution_count": 33,
     "metadata": {},
     "output_type": "execute_result"
    }
   ],
   "source": [
    "serie.apply(pos_neg).head()"
   ]
  },
  {
   "cell_type": "markdown",
   "metadata": {},
   "source": [
    "**Función con parámetros**"
   ]
  },
  {
   "cell_type": "code",
   "execution_count": 34,
   "metadata": {},
   "outputs": [],
   "source": [
    "def restar_valor(valor: float, r: float) -> float:\n",
    "    return valor - r"
   ]
  },
  {
   "cell_type": "code",
   "execution_count": 35,
   "metadata": {},
   "outputs": [
    {
     "data": {
      "text/plain": [
       "0   -1.113983\n",
       "1    1.105729\n",
       "2   -1.857878\n",
       "3    0.717069\n",
       "4   -1.347289\n",
       "dtype: float64"
      ]
     },
     "execution_count": 35,
     "metadata": {},
     "output_type": "execute_result"
    }
   ],
   "source": [
    "serie.head()"
   ]
  },
  {
   "cell_type": "code",
   "execution_count": 38,
   "metadata": {
    "scrolled": true
   },
   "outputs": [
    {
     "data": {
      "text/plain": [
       "0   -3.113983\n",
       "1   -0.894271\n",
       "2   -3.857878\n",
       "3   -1.282931\n",
       "4   -3.347289\n",
       "dtype: float64"
      ]
     },
     "execution_count": 38,
     "metadata": {},
     "output_type": "execute_result"
    }
   ],
   "source": [
    "serie.apply(\n",
    "    restar_valor,\n",
    "    args=(2,)\n",
    ").head()"
   ]
  },
  {
   "cell_type": "markdown",
   "metadata": {},
   "source": [
    "**Funciones lambda**"
   ]
  },
  {
   "cell_type": "code",
   "execution_count": 39,
   "metadata": {},
   "outputs": [
    {
     "data": {
      "text/plain": [
       "0    1.240958\n",
       "1    1.222638\n",
       "2    3.451711\n",
       "3    0.514188\n",
       "4    1.815189\n",
       "dtype: float64"
      ]
     },
     "execution_count": 39,
     "metadata": {},
     "output_type": "execute_result"
    }
   ],
   "source": [
    "serie.apply(lambda x: x ** 2).head()"
   ]
  },
  {
   "cell_type": "code",
   "execution_count": 40,
   "metadata": {},
   "outputs": [
    {
     "data": {
      "text/plain": [
       "0   -3.113983\n",
       "1   -0.894271\n",
       "2   -3.857878\n",
       "3   -1.282931\n",
       "4   -3.347289\n",
       "dtype: float64"
      ]
     },
     "execution_count": 40,
     "metadata": {},
     "output_type": "execute_result"
    }
   ],
   "source": [
    "serie.apply(lambda x: restar_valor(x, 2)).head()"
   ]
  },
  {
   "cell_type": "markdown",
   "metadata": {},
   "source": [
    "#### Método Numéricos de Reducción"
   ]
  },
  {
   "cell_type": "code",
   "execution_count": 41,
   "metadata": {},
   "outputs": [
    {
     "data": {
      "text/plain": [
       "91.89988823228884"
      ]
     },
     "execution_count": 41,
     "metadata": {},
     "output_type": "execute_result"
    }
   ],
   "source": [
    "# Sumar todos los valore\n",
    "serie.sum()"
   ]
  },
  {
   "cell_type": "code",
   "execution_count": 42,
   "metadata": {},
   "outputs": [
    {
     "data": {
      "text/plain": [
       "5000"
      ]
     },
     "execution_count": 42,
     "metadata": {},
     "output_type": "execute_result"
    }
   ],
   "source": [
    "# Número de registros\n",
    "serie.count()"
   ]
  },
  {
   "cell_type": "code",
   "execution_count": 43,
   "metadata": {},
   "outputs": [
    {
     "data": {
      "text/plain": [
       "0.018379977646457768"
      ]
     },
     "execution_count": 43,
     "metadata": {},
     "output_type": "execute_result"
    }
   ],
   "source": [
    "# Promedio\n",
    "serie.mean()"
   ]
  },
  {
   "cell_type": "code",
   "execution_count": 44,
   "metadata": {},
   "outputs": [
    {
     "data": {
      "text/plain": [
       "1.001737911815329"
      ]
     },
     "execution_count": 44,
     "metadata": {},
     "output_type": "execute_result"
    }
   ],
   "source": [
    "# desviación estándar\n",
    "serie.std()"
   ]
  },
  {
   "cell_type": "code",
   "execution_count": 45,
   "metadata": {
    "scrolled": true
   },
   "outputs": [
    {
     "name": "stdout",
     "output_type": "stream",
     "text": [
      "-3.715707787104126\n",
      "4.026014747504358\n"
     ]
    }
   ],
   "source": [
    "# Máximo y Mínimo\n",
    "print(serie.min())\n",
    "print(serie.max())"
   ]
  },
  {
   "cell_type": "markdown",
   "metadata": {},
   "source": [
    "También es posible saber cuál es el índice del valor mínimo/máximo mediante el uso del método `.idxmin()`/`.idxmax()`, veamos cómo funciona:"
   ]
  },
  {
   "cell_type": "code",
   "execution_count": 46,
   "metadata": {},
   "outputs": [
    {
     "name": "stdout",
     "output_type": "stream",
     "text": [
      "El valor mínimo está en la posición (renglón): 4528\n",
      "El valor mínimo es: -3.715707787104126\n"
     ]
    }
   ],
   "source": [
    "print(\"El valor mínimo está en la posición (renglón): {}\".format(serie.idxmin()))\n",
    "print(\"El valor mínimo es: {}\".format(serie.iloc[serie.idxmin()]))"
   ]
  },
  {
   "cell_type": "code",
   "execution_count": 49,
   "metadata": {},
   "outputs": [
    {
     "data": {
      "text/plain": [
       "-3.715707787104126"
      ]
     },
     "execution_count": 49,
     "metadata": {},
     "output_type": "execute_result"
    }
   ],
   "source": [
    "serie.iloc[4528]"
   ]
  },
  {
   "cell_type": "code",
   "execution_count": 50,
   "metadata": {},
   "outputs": [
    {
     "data": {
      "text/plain": [
       "0.03189202445099486"
      ]
     },
     "execution_count": 50,
     "metadata": {},
     "output_type": "execute_result"
    }
   ],
   "source": [
    "# Mediana\n",
    "serie.median()"
   ]
  },
  {
   "cell_type": "code",
   "execution_count": 51,
   "metadata": {},
   "outputs": [
    {
     "data": {
      "text/plain": [
       "count    5000.000000\n",
       "mean        0.018380\n",
       "std         1.001738\n",
       "min        -3.715708\n",
       "25%        -0.668828\n",
       "50%         0.031892\n",
       "75%         0.688286\n",
       "max         4.026015\n",
       "dtype: float64"
      ]
     },
     "execution_count": 51,
     "metadata": {},
     "output_type": "execute_result"
    }
   ],
   "source": [
    "# Resumen estadístico\n",
    "serie.describe()"
   ]
  },
  {
   "cell_type": "markdown",
   "metadata": {},
   "source": [
    "Otro método interesante es `.value_count()`"
   ]
  },
  {
   "cell_type": "code",
   "execution_count": 58,
   "metadata": {},
   "outputs": [
    {
     "data": {
      "text/plain": [
       "0    5\n",
       "1    5\n",
       "2    4\n",
       "3    3\n",
       "4    4\n",
       "dtype: int64"
      ]
     },
     "execution_count": 58,
     "metadata": {},
     "output_type": "execute_result"
    }
   ],
   "source": [
    "serie_enteros = pd.Series(data = np.random.randint(low = 1, high = 10, size = 100000))\n",
    "serie_enteros.head()"
   ]
  },
  {
   "cell_type": "code",
   "execution_count": 53,
   "metadata": {},
   "outputs": [
    {
     "data": {
      "text/plain": [
       "4    52\n",
       "5    51\n",
       "9    49\n",
       "3    46\n",
       "6    44\n",
       "8    42\n",
       "7    41\n",
       "1    41\n",
       "2    34\n",
       "dtype: int64"
      ]
     },
     "execution_count": 53,
     "metadata": {},
     "output_type": "execute_result"
    }
   ],
   "source": [
    "serie_enteros.value_counts()"
   ]
  },
  {
   "cell_type": "code",
   "execution_count": 59,
   "metadata": {},
   "outputs": [
    {
     "data": {
      "text/plain": [
       "1    0.11073\n",
       "2    0.11100\n",
       "3    0.11188\n",
       "4    0.11092\n",
       "5    0.11186\n",
       "6    0.11132\n",
       "7    0.10920\n",
       "8    0.11181\n",
       "9    0.11128\n",
       "dtype: float64"
      ]
     },
     "execution_count": 59,
     "metadata": {},
     "output_type": "execute_result"
    }
   ],
   "source": [
    "serie_enteros.value_counts().sort_index()/serie_enteros.count()"
   ]
  },
  {
   "cell_type": "markdown",
   "metadata": {},
   "source": [
    "#### Vectorización de Operaciones.\n",
    "\n",
    "Cuando trabajamos con Series de vaelores numéricos no es necesario realizar un loop para hacer operaciones valor a valor, podemos aplicar una operación tomando ventaja de los múltiples cores de nuestra computadora."
   ]
  },
  {
   "cell_type": "code",
   "execution_count": 60,
   "metadata": {},
   "outputs": [
    {
     "data": {
      "text/plain": [
       "a    0.347642\n",
       "b    0.925386\n",
       "c    0.827738\n",
       "d    0.980606\n",
       "e    0.038211\n",
       "dtype: float64"
      ]
     },
     "execution_count": 60,
     "metadata": {},
     "output_type": "execute_result"
    }
   ],
   "source": [
    "s1 = pd.Series(data = np.random.uniform(size = 5), index = [\"a\",\"b\",\"c\", \"d\", \"e\"])\n",
    "s1"
   ]
  },
  {
   "cell_type": "code",
   "execution_count": 61,
   "metadata": {},
   "outputs": [
    {
     "data": {
      "text/plain": [
       "e    0\n",
       "d    1\n",
       "c    2\n",
       "b    3\n",
       "f    4\n",
       "dtype: int64"
      ]
     },
     "execution_count": 61,
     "metadata": {},
     "output_type": "execute_result"
    }
   ],
   "source": [
    "s2 = pd.Series(data = np.arange(5), index = [\"e\",\"d\",\"c\", \"b\",\"f\"])\n",
    "s2"
   ]
  },
  {
   "cell_type": "markdown",
   "metadata": {},
   "source": [
    "En este caso podemos ver que las operaciones aritméticas se alinean automáticamente en relación a los índices. Dando lugar a un valor `NaN` (Not a Number) en los sitios en los que sólo existe el índice en sólo una Serie."
   ]
  },
  {
   "cell_type": "code",
   "execution_count": 62,
   "metadata": {},
   "outputs": [
    {
     "data": {
      "text/plain": [
       "a         NaN\n",
       "b    3.925386\n",
       "c    2.827738\n",
       "d    1.980606\n",
       "e    0.038211\n",
       "f         NaN\n",
       "dtype: float64"
      ]
     },
     "execution_count": 62,
     "metadata": {},
     "output_type": "execute_result"
    }
   ],
   "source": [
    "s1 + s2"
   ]
  },
  {
   "cell_type": "code",
   "execution_count": 63,
   "metadata": {},
   "outputs": [
    {
     "data": {
      "text/plain": [
       "a    10.347642\n",
       "b    10.925386\n",
       "c    10.827738\n",
       "d    10.980606\n",
       "e    10.038211\n",
       "dtype: float64"
      ]
     },
     "execution_count": 63,
     "metadata": {},
     "output_type": "execute_result"
    }
   ],
   "source": [
    "s1 + 10"
   ]
  },
  {
   "cell_type": "code",
   "execution_count": 64,
   "metadata": {},
   "outputs": [
    {
     "data": {
      "text/plain": [
       "e     1.000000\n",
       "d     2.718282\n",
       "c     7.389056\n",
       "b    20.085537\n",
       "f    54.598150\n",
       "dtype: float64"
      ]
     },
     "execution_count": 64,
     "metadata": {},
     "output_type": "execute_result"
    }
   ],
   "source": [
    "np.exp(s2)"
   ]
  },
  {
   "cell_type": "markdown",
   "metadata": {},
   "source": [
    "#### Filtros\n",
    "\n",
    "También es posible vectorizar condiciones lógicas, para quedarnos sólo con los elementos que cumplan la condición."
   ]
  },
  {
   "cell_type": "code",
   "execution_count": 65,
   "metadata": {},
   "outputs": [
    {
     "data": {
      "text/plain": [
       "0      -1.113983\n",
       "1       1.105729\n",
       "2      -1.857878\n",
       "3       0.717069\n",
       "4      -1.347289\n",
       "          ...   \n",
       "4995   -1.564431\n",
       "4996    1.018331\n",
       "4997   -0.473388\n",
       "4998   -0.086333\n",
       "4999    0.351430\n",
       "Length: 5000, dtype: float64"
      ]
     },
     "execution_count": 65,
     "metadata": {},
     "output_type": "execute_result"
    }
   ],
   "source": [
    "serie"
   ]
  },
  {
   "cell_type": "code",
   "execution_count": 66,
   "metadata": {},
   "outputs": [
    {
     "data": {
      "text/plain": [
       "0       False\n",
       "1        True\n",
       "2       False\n",
       "3        True\n",
       "4       False\n",
       "        ...  \n",
       "4995    False\n",
       "4996     True\n",
       "4997    False\n",
       "4998    False\n",
       "4999     True\n",
       "Length: 5000, dtype: bool"
      ]
     },
     "execution_count": 66,
     "metadata": {},
     "output_type": "execute_result"
    }
   ],
   "source": [
    "serie>0"
   ]
  },
  {
   "cell_type": "code",
   "execution_count": 67,
   "metadata": {
    "scrolled": true
   },
   "outputs": [
    {
     "data": {
      "text/plain": [
       "1       1.105729\n",
       "3       0.717069\n",
       "6       0.041350\n",
       "11      1.771707\n",
       "12      0.600917\n",
       "          ...   \n",
       "4991    0.951894\n",
       "4992    0.988354\n",
       "4993    0.193081\n",
       "4996    1.018331\n",
       "4999    0.351430\n",
       "Length: 2548, dtype: float64"
      ]
     },
     "execution_count": 67,
     "metadata": {},
     "output_type": "execute_result"
    }
   ],
   "source": [
    "serie[serie>0]"
   ]
  },
  {
   "cell_type": "markdown",
   "metadata": {},
   "source": [
    "¿Cómo combinamos operaciones lógicas, i.e. cómo usar `and` y `or`?"
   ]
  },
  {
   "cell_type": "code",
   "execution_count": 68,
   "metadata": {},
   "outputs": [
    {
     "data": {
      "text/plain": [
       "16     -3.429861\n",
       "26     -3.219683\n",
       "429    -3.014698\n",
       "531    -3.117518\n",
       "656    -3.373241\n",
       "878    -2.961614\n",
       "1164    3.114429\n",
       "1256    3.184485\n",
       "1324   -2.978864\n",
       "1770    4.026015\n",
       "2208    3.819894\n",
       "2671   -3.010072\n",
       "3004    3.032304\n",
       "3046    3.206883\n",
       "3555   -3.166072\n",
       "3825   -3.182393\n",
       "4121    3.050377\n",
       "4331    3.698275\n",
       "4436    3.329037\n",
       "4528   -3.715708\n",
       "4617   -3.068921\n",
       "4927    3.131987\n",
       "dtype: float64"
      ]
     },
     "execution_count": 68,
     "metadata": {},
     "output_type": "execute_result"
    }
   ],
   "source": [
    "# En este caso, filtraremos sólo los valores más extremos de la distribución normal\n",
    "serie[\n",
    "    (serie > (serie.mean() + 2.95*serie.std())) \n",
    "    | (serie < (serie.mean() - 2.95*serie.std()))\n",
    "]"
   ]
  },
  {
   "cell_type": "code",
   "execution_count": 71,
   "metadata": {},
   "outputs": [
    {
     "data": {
      "text/plain": [
       "37      2.005332\n",
       "63      2.509303\n",
       "94      2.793881\n",
       "98      2.104165\n",
       "116     2.182798\n",
       "          ...   \n",
       "4730    2.171736\n",
       "4800    2.315346\n",
       "4904    2.627313\n",
       "4980    2.351998\n",
       "4985    2.365987\n",
       "Length: 117, dtype: float64"
      ]
     },
     "execution_count": 71,
     "metadata": {},
     "output_type": "execute_result"
    }
   ],
   "source": [
    "import math \n",
    "serie[\n",
    "    (serie.apply(math.trunc) % 2 ==0) \n",
    "    & (serie.apply(math.trunc) > 0)\n",
    "]"
   ]
  }
 ],
 "metadata": {
  "kernelspec": {
   "display_name": "Python 3 (ipykernel)",
   "language": "python",
   "name": "python3"
  },
  "language_info": {
   "codemirror_mode": {
    "name": "ipython",
    "version": 3
   },
   "file_extension": ".py",
   "mimetype": "text/x-python",
   "name": "python",
   "nbconvert_exporter": "python",
   "pygments_lexer": "ipython3",
   "version": "3.8.6"
  }
 },
 "nbformat": 4,
 "nbformat_minor": 4
}
