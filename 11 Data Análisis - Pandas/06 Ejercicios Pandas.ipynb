{
 "cells": [
  {
   "cell_type": "markdown",
   "id": "collective-working",
   "metadata": {},
   "source": [
    "# Ejercicios Pandas\n",
    "\n",
    "En esta sección exploraremos un set de datos ficticio de compras realizadas dentro de la web de una aseguradora. El objetivo es contestar a las preguntas, mismas que estarán marcadas en **negritas**. \n",
    "\n",
    "Es importante mencionar que las preguntas tienen más de una solución posible, y al igual que en los ejercicios anteriores, la dificultad irá aumentando a medida que vayan progresando en los ejercicios.\n",
    "\n",
    "### 1. importa pandas y numpy"
   ]
  },
  {
   "cell_type": "code",
   "execution_count": 1,
   "id": "mounted-edmonton",
   "metadata": {},
   "outputs": [],
   "source": [
    "# Tu código aquí"
   ]
  },
  {
   "cell_type": "markdown",
   "id": "radical-single",
   "metadata": {},
   "source": [
    "### 2. Importa el DataFrame dentro de una variable\n",
    "\n",
    "* Nombre del archivo: direct_insurance.csv\n",
    "* Ruta del archivo: \\Data\\ejercicios\n",
    "\n",
    "hint: En caso de UnicodeDecodeError el parámetro `encoding` podría brindar una solución. "
   ]
  },
  {
   "cell_type": "code",
   "execution_count": 2,
   "id": "excessive-oregon",
   "metadata": {},
   "outputs": [
    {
     "data": {
      "text/html": [
       "<div>\n",
       "<style scoped>\n",
       "    .dataframe tbody tr th:only-of-type {\n",
       "        vertical-align: middle;\n",
       "    }\n",
       "\n",
       "    .dataframe tbody tr th {\n",
       "        vertical-align: top;\n",
       "    }\n",
       "\n",
       "    .dataframe thead th {\n",
       "        text-align: right;\n",
       "    }\n",
       "</style>\n",
       "<table border=\"1\" class=\"dataframe\">\n",
       "  <thead>\n",
       "    <tr style=\"text-align: right;\">\n",
       "      <th></th>\n",
       "      <th>Address</th>\n",
       "      <th>Lot</th>\n",
       "      <th>AM or PM</th>\n",
       "      <th>Browser Info</th>\n",
       "      <th>Company</th>\n",
       "      <th>Credit Card</th>\n",
       "      <th>CC Exp Date</th>\n",
       "      <th>CC Security Code</th>\n",
       "      <th>CC Provider</th>\n",
       "      <th>Email</th>\n",
       "      <th>Job</th>\n",
       "      <th>IP Address</th>\n",
       "      <th>Language</th>\n",
       "      <th>Insurance premium</th>\n",
       "    </tr>\n",
       "  </thead>\n",
       "  <tbody>\n",
       "    <tr>\n",
       "      <th>0</th>\n",
       "      <td>16629 Pace Camp Apt. 448\\nAlexisborough, NE 77...</td>\n",
       "      <td>46 in</td>\n",
       "      <td>PM</td>\n",
       "      <td>Opera/9.56.(X11; Linux x86_64; sl-SI) Presto/2...</td>\n",
       "      <td>Martinez-Herman</td>\n",
       "      <td>6.011930e+15</td>\n",
       "      <td>20-Feb</td>\n",
       "      <td>900</td>\n",
       "      <td>JCB 16 digit</td>\n",
       "      <td>pdunlap@yahoo.com</td>\n",
       "      <td>Scientist, product/process development</td>\n",
       "      <td>149.146.147.205</td>\n",
       "      <td>el</td>\n",
       "      <td>98.14</td>\n",
       "    </tr>\n",
       "    <tr>\n",
       "      <th>1</th>\n",
       "      <td>9374 Jasmine Spurs Suite 508\\nSouth John, TN 8...</td>\n",
       "      <td>28 rn</td>\n",
       "      <td>PM</td>\n",
       "      <td>Opera/8.93.(Windows 98; Win 9x 4.90; en-US) Pr...</td>\n",
       "      <td>Fletcher, Richards and Whitaker</td>\n",
       "      <td>3.337760e+15</td>\n",
       "      <td>18-Nov</td>\n",
       "      <td>561</td>\n",
       "      <td>Mastercard</td>\n",
       "      <td>anthony41@reed.com</td>\n",
       "      <td>Drilling engineer</td>\n",
       "      <td>15.160.41.51</td>\n",
       "      <td>fr</td>\n",
       "      <td>70.73</td>\n",
       "    </tr>\n",
       "    <tr>\n",
       "      <th>2</th>\n",
       "      <td>Unit 0065 Box 5052\\nDPO AP 27450</td>\n",
       "      <td>94 vE</td>\n",
       "      <td>PM</td>\n",
       "      <td>Mozilla/5.0 (compatible; MSIE 9.0; Windows NT ...</td>\n",
       "      <td>Simpson, Williams and Pham</td>\n",
       "      <td>6.759580e+11</td>\n",
       "      <td>19-Aug</td>\n",
       "      <td>699</td>\n",
       "      <td>JCB 16 digit</td>\n",
       "      <td>amymiller@morales-harrison.com</td>\n",
       "      <td>Customer service manager</td>\n",
       "      <td>132.207.160.22</td>\n",
       "      <td>de</td>\n",
       "      <td>0.95</td>\n",
       "    </tr>\n",
       "  </tbody>\n",
       "</table>\n",
       "</div>"
      ],
      "text/plain": [
       "                                             Address    Lot AM or PM  \\\n",
       "0  16629 Pace Camp Apt. 448\\nAlexisborough, NE 77...  46 in       PM   \n",
       "1  9374 Jasmine Spurs Suite 508\\nSouth John, TN 8...  28 rn       PM   \n",
       "2                   Unit 0065 Box 5052\\nDPO AP 27450  94 vE       PM   \n",
       "\n",
       "                                        Browser Info  \\\n",
       "0  Opera/9.56.(X11; Linux x86_64; sl-SI) Presto/2...   \n",
       "1  Opera/8.93.(Windows 98; Win 9x 4.90; en-US) Pr...   \n",
       "2  Mozilla/5.0 (compatible; MSIE 9.0; Windows NT ...   \n",
       "\n",
       "                           Company   Credit Card CC Exp Date  \\\n",
       "0                  Martinez-Herman  6.011930e+15      20-Feb   \n",
       "1  Fletcher, Richards and Whitaker  3.337760e+15      18-Nov   \n",
       "2       Simpson, Williams and Pham  6.759580e+11      19-Aug   \n",
       "\n",
       "   CC Security Code   CC Provider                           Email  \\\n",
       "0               900  JCB 16 digit               pdunlap@yahoo.com   \n",
       "1               561    Mastercard              anthony41@reed.com   \n",
       "2               699  JCB 16 digit  amymiller@morales-harrison.com   \n",
       "\n",
       "                                      Job       IP Address Language  \\\n",
       "0  Scientist, product/process development  149.146.147.205       el   \n",
       "1                       Drilling engineer     15.160.41.51       fr   \n",
       "2                Customer service manager   132.207.160.22       de   \n",
       "\n",
       "   Insurance premium  \n",
       "0              98.14  \n",
       "1              70.73  \n",
       "2               0.95  "
      ]
     },
     "execution_count": 2,
     "metadata": {},
     "output_type": "execute_result"
    }
   ],
   "source": [
    "df = pass"
   ]
  },
  {
   "cell_type": "markdown",
   "id": "accessible-trouble",
   "metadata": {},
   "source": [
    "### 3. ¿Cuántas columnas y filas tiene el DataFrame?"
   ]
  },
  {
   "cell_type": "code",
   "execution_count": 3,
   "id": "eight-accused",
   "metadata": {},
   "outputs": [
    {
     "name": "stdout",
     "output_type": "stream",
     "text": [
      "Número de filas 10000\n",
      "\n",
      "Número de Columnas 14\n"
     ]
    }
   ],
   "source": [
    "# Tu código aquí"
   ]
  },
  {
   "cell_type": "markdown",
   "id": "lightweight-surveillance",
   "metadata": {},
   "source": [
    "### 4. ¿Cuál es el valor promedio y desviación estándar del campo `Insurance premium`?"
   ]
  },
  {
   "cell_type": "code",
   "execution_count": 4,
   "id": "affected-rings",
   "metadata": {
    "scrolled": true
   },
   "outputs": [
    {
     "name": "stdout",
     "output_type": "stream",
     "text": [
      "Promedio Insurance premium: 50.34730200000025\n",
      "Desv. Est. Insurance premium: 29.015836309789048\n"
     ]
    }
   ],
   "source": [
    "# Tu código aquí"
   ]
  },
  {
   "cell_type": "markdown",
   "id": "split-retrieval",
   "metadata": {},
   "source": [
    "### 5. ¿Cuáles son los valores máximos y mínimos de `Insurance premium`?"
   ]
  },
  {
   "cell_type": "code",
   "execution_count": 5,
   "id": "ordered-order",
   "metadata": {},
   "outputs": [
    {
     "name": "stdout",
     "output_type": "stream",
     "text": [
      "Mínimo Insurance premium: 0.0\n",
      "Máximo Insurance premium: 99.99\n"
     ]
    }
   ],
   "source": [
    "# Tu código aquí"
   ]
  },
  {
   "cell_type": "markdown",
   "id": "governing-proceeding",
   "metadata": {},
   "source": [
    "### 6. El 90% de los valores dentro del campo `Insurance premium` se encuentran por debajo de qué valor"
   ]
  },
  {
   "cell_type": "code",
   "execution_count": 6,
   "id": "advisory-antique",
   "metadata": {},
   "outputs": [
    {
     "name": "stdout",
     "output_type": "stream",
     "text": [
      "Percentil 90% Insurance premium: 90.59200000000001\n"
     ]
    }
   ],
   "source": [
    "# Tu código aquí"
   ]
  },
  {
   "cell_type": "markdown",
   "id": "unlimited-spare",
   "metadata": {},
   "source": [
    "Pregunta abiert: Viéndo los anteriores valores ¿Qué podríamos concluir? En caso de querer realizar un modelo ¿Qué supuesto de distribución estadística podría ser válido?"
   ]
  },
  {
   "cell_type": "markdown",
   "id": "dependent-grade",
   "metadata": {},
   "source": [
    "### 7. ¿Qué % de personas tienen Inglés `'en'` como su elección de lenguaje para el sitio web?"
   ]
  },
  {
   "cell_type": "code",
   "execution_count": 7,
   "id": "annual-eagle",
   "metadata": {},
   "outputs": [
    {
     "data": {
      "text/plain": [
       "0.1098"
      ]
     },
     "execution_count": 7,
     "metadata": {},
     "output_type": "execute_result"
    }
   ],
   "source": [
    "# Tu código aquí"
   ]
  },
  {
   "cell_type": "markdown",
   "id": "august-analysis",
   "metadata": {},
   "source": [
    "### 8. ¿Cuántas personas tienen la palabra `\"scientist\"` (sin importar mayúsculas o minúsculas) en el campo `Job`?"
   ]
  },
  {
   "cell_type": "code",
   "execution_count": 8,
   "id": "exact-factory",
   "metadata": {},
   "outputs": [
    {
     "data": {
      "text/plain": [
       "421"
      ]
     },
     "execution_count": 8,
     "metadata": {},
     "output_type": "execute_result"
    }
   ],
   "source": [
    "# Tu código aquí"
   ]
  },
  {
   "cell_type": "markdown",
   "id": "charged-pasta",
   "metadata": {},
   "source": [
    "### 9. ¿Cual es la hora con mayor actividad de compra `\"AM\"` o `\"PM\"`?"
   ]
  },
  {
   "cell_type": "code",
   "execution_count": 1,
   "id": "changed-venture",
   "metadata": {},
   "outputs": [],
   "source": [
    "# Tu código aquí"
   ]
  },
  {
   "cell_type": "markdown",
   "id": "realistic-consultation",
   "metadata": {},
   "source": [
    "### 10. ¿Cuáles son los 5 proveedores de email más populares (e,g. gmail.com, yahoo.com, etc.)?"
   ]
  },
  {
   "cell_type": "code",
   "execution_count": null,
   "id": "american-basin",
   "metadata": {},
   "outputs": [],
   "source": []
  },
  {
   "cell_type": "code",
   "execution_count": null,
   "id": "south-trade",
   "metadata": {},
   "outputs": [],
   "source": []
  },
  {
   "cell_type": "code",
   "execution_count": 10,
   "id": "tracked-petersburg",
   "metadata": {},
   "outputs": [
    {
     "data": {
      "text/plain": [
       "hotmail.com     1638\n",
       "yahoo.com       1616\n",
       "gmail.com       1605\n",
       "smith.com         42\n",
       "williams.com      37\n",
       "Name: Email, dtype: int64"
      ]
     },
     "execution_count": 10,
     "metadata": {},
     "output_type": "execute_result"
    }
   ],
   "source": [
    "# Tu código aquí"
   ]
  }
 ],
 "metadata": {
  "kernelspec": {
   "display_name": "Python 3",
   "language": "python",
   "name": "python3"
  },
  "language_info": {
   "codemirror_mode": {
    "name": "ipython",
    "version": 3
   },
   "file_extension": ".py",
   "mimetype": "text/x-python",
   "name": "python",
   "nbconvert_exporter": "python",
   "pygments_lexer": "ipython3",
   "version": "3.8.5"
  }
 },
 "nbformat": 4,
 "nbformat_minor": 5
}
