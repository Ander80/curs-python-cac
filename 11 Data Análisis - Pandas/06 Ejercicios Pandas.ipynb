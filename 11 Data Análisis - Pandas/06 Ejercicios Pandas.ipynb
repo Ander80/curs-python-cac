{
 "cells": [
  {
   "cell_type": "markdown",
   "id": "collective-working",
   "metadata": {},
   "source": [
    "# Ejercicios Pandas\n",
    "\n",
    "En esta sección exploraremos un set de datos ficticio de compras realizadas dentro de la web de una aseguradora. El objetivo es contestar a las preguntas, mismas que estarán marcadas en **negritas**. \n",
    "\n",
    "Es importante mencionar que las preguntas tienen más de una solución posible, y al igual que en los ejercicios anteriores, la dificultad irá aumentando a medida que vayan progresando en los ejercicios.\n",
    "\n",
    "### 1. importa pandas y numpy"
   ]
  },
  {
   "cell_type": "code",
   "execution_count": null,
   "id": "mounted-edmonton",
   "metadata": {},
   "outputs": [],
   "source": [
    "# Tu código aquí"
   ]
  },
  {
   "cell_type": "markdown",
   "id": "radical-single",
   "metadata": {},
   "source": [
    "### 2. Importa el DataFrame dentro de una variable\n",
    "\n",
    "* Nombre del archivo: direct_insurance.csv\n",
    "* Ruta del archivo: \\Data\\ejercicios\n",
    "\n",
    "hint: En caso de UnicodeDecodeError el parámetro `encoding` podría brindar una solución. "
   ]
  },
  {
   "cell_type": "code",
   "execution_count": null,
   "id": "excessive-oregon",
   "metadata": {},
   "outputs": [],
   "source": [
    "df = pass"
   ]
  },
  {
   "cell_type": "markdown",
   "id": "accessible-trouble",
   "metadata": {},
   "source": [
    "### 3. ¿Cuántas columnas y filas tiene el DataFrame?"
   ]
  },
  {
   "cell_type": "code",
   "execution_count": null,
   "id": "eight-accused",
   "metadata": {},
   "outputs": [],
   "source": [
    "# Tu código aquí"
   ]
  },
  {
   "cell_type": "markdown",
   "id": "lightweight-surveillance",
   "metadata": {},
   "source": [
    "### 4. ¿Cuál es el valor promedio y desviación estándar del campo `Insurance premium`?"
   ]
  },
  {
   "cell_type": "code",
   "execution_count": null,
   "id": "affected-rings",
   "metadata": {
    "scrolled": true
   },
   "outputs": [],
   "source": [
    "# Tu código aquí"
   ]
  },
  {
   "cell_type": "markdown",
   "id": "split-retrieval",
   "metadata": {},
   "source": [
    "### 5. ¿Cuáles son los valores máximos y mínimos de `Insurance premium`?"
   ]
  },
  {
   "cell_type": "code",
   "execution_count": null,
   "id": "ordered-order",
   "metadata": {},
   "outputs": [],
   "source": [
    "# Tu código aquí"
   ]
  },
  {
   "cell_type": "markdown",
   "id": "governing-proceeding",
   "metadata": {},
   "source": [
    "### 6. El 90% de los valores dentro del campo `Insurance premium` se encuentran por debajo de qué valor"
   ]
  },
  {
   "cell_type": "code",
   "execution_count": null,
   "id": "advisory-antique",
   "metadata": {},
   "outputs": [],
   "source": [
    "# Tu código aquí"
   ]
  },
  {
   "cell_type": "markdown",
   "id": "unlimited-spare",
   "metadata": {},
   "source": [
    "Pregunta abiert: Viéndo los anteriores valores ¿Qué podríamos concluir? En caso de querer realizar un modelo ¿Qué supuesto de distribución estadística podría ser válido?"
   ]
  },
  {
   "cell_type": "markdown",
   "id": "dependent-grade",
   "metadata": {},
   "source": [
    "### 7. ¿Qué % de personas tienen Inglés `'en'` como su elección de lenguaje para el sitio web?"
   ]
  },
  {
   "cell_type": "code",
   "execution_count": null,
   "id": "annual-eagle",
   "metadata": {},
   "outputs": [],
   "source": [
    "# Tu código aquí"
   ]
  },
  {
   "cell_type": "markdown",
   "id": "august-analysis",
   "metadata": {},
   "source": [
    "### 8. ¿Cuántas personas tienen la palabra `\"scientist\"` (sin importar mayúsculas o minúsculas) en el campo `Job`?"
   ]
  },
  {
   "cell_type": "code",
   "execution_count": null,
   "id": "exact-factory",
   "metadata": {},
   "outputs": [],
   "source": [
    "# Tu código aquí"
   ]
  },
  {
   "cell_type": "markdown",
   "id": "charged-pasta",
   "metadata": {},
   "source": [
    "### 9. ¿Cual es la hora con mayor actividad de compra `\"AM\"` o `\"PM\"`?"
   ]
  },
  {
   "cell_type": "code",
   "execution_count": null,
   "id": "changed-venture",
   "metadata": {},
   "outputs": [],
   "source": [
    "# Tu código aquí"
   ]
  },
  {
   "cell_type": "markdown",
   "id": "realistic-consultation",
   "metadata": {},
   "source": [
    "### 10. ¿Cuáles son los 5 proveedores de email más populares (e,g. gmail.com, yahoo.com, etc.)?"
   ]
  },
  {
   "cell_type": "code",
   "execution_count": null,
   "id": "american-basin",
   "metadata": {},
   "outputs": [],
   "source": []
  },
  {
   "cell_type": "code",
   "execution_count": null,
   "id": "south-trade",
   "metadata": {},
   "outputs": [],
   "source": []
  },
  {
   "cell_type": "code",
   "execution_count": null,
   "id": "tracked-petersburg",
   "metadata": {},
   "outputs": [],
   "source": [
    "# Tu código aquí"
   ]
  }
 ],
 "metadata": {
  "kernelspec": {
   "display_name": "Python 3 (ipykernel)",
   "language": "python",
   "name": "python3"
  },
  "language_info": {
   "codemirror_mode": {
    "name": "ipython",
    "version": 3
   },
   "file_extension": ".py",
   "mimetype": "text/x-python",
   "name": "python",
   "nbconvert_exporter": "python",
   "pygments_lexer": "ipython3",
   "version": "3.11.6"
  }
 },
 "nbformat": 4,
 "nbformat_minor": 5
}
